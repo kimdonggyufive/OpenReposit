{
  "nbformat": 4,
  "nbformat_minor": 0,
  "metadata": {
    "colab": {
      "name": "0.mnist.hone.ipynb",
      "provenance": [],
      "collapsed_sections": [],
      "mount_file_id": "19hqKsS7HSPLC2KZhxmfJ0f0POselLsIc",
      "authorship_tag": "ABX9TyMh25gor1ubxAY9tfw/KHjZ",
      "include_colab_link": true
    },
    "kernelspec": {
      "name": "python3",
      "display_name": "Python 3"
    },
    "language_info": {
      "name": "python"
    }
  },
  "cells": [
    {
      "cell_type": "markdown",
      "metadata": {
        "id": "view-in-github",
        "colab_type": "text"
      },
      "source": [
        "<a href=\"https://colab.research.google.com/github/kimdonggyufive/OpenReposit/blob/main/0_mnist_hone.ipynb\" target=\"_parent\"><img src=\"https://colab.research.google.com/assets/colab-badge.svg\" alt=\"Open In Colab\"/></a>"
      ]
    },
    {
      "cell_type": "code",
      "execution_count": 26,
      "metadata": {
        "id": "ip98FpNDi5Xy"
      },
      "outputs": [],
      "source": [
        "#Kimdonggyufive - 211213\n",
        "#아래는 수업 튜토리얼\n",
        "#초보자를 위한 빠른 시작 예제\n",
        "\n",
        "#기본 Tensorflow 라이브러리를 추가한다.\n",
        "import tensorflow as tf"
      ]
    },
    {
      "cell_type": "code",
      "source": [
        "tf.__version__"
      ],
      "metadata": {
        "colab": {
          "base_uri": "https://localhost:8080/",
          "height": 35
        },
        "id": "EnUlBoaZk116",
        "outputId": "0894739a-56fd-44ea-fa1f-0367f7507275"
      },
      "execution_count": 27,
      "outputs": [
        {
          "output_type": "execute_result",
          "data": {
            "application/vnd.google.colaboratory.intrinsic+json": {
              "type": "string"
            },
            "text/plain": [
              "'2.7.0'"
            ]
          },
          "metadata": {},
          "execution_count": 27
        }
      ]
    },
    {
      "cell_type": "code",
      "source": [
        "mnist = tf.keras.datasets.mnist\n",
        "\n",
        "# 데이터가 로드 됨.\n",
        "(x_train, y_train), (x_test, y_test) = mnist.load_data()\n",
        "#Nomalization\n",
        "x_train, x_test = x_train / 255.0, x_test / 255.0"
      ],
      "metadata": {
        "id": "pfijGeX_k8GD"
      },
      "execution_count": 28,
      "outputs": []
    },
    {
      "cell_type": "code",
      "source": [
        "#model에 Sequential을 넣는다.\n",
        "model = tf.keras.models.Sequential([\n",
        "  tf.keras.layers.Flatten(input_shape=(28, 28)),\n",
        "  tf.keras.layers.Dense(128, activation='relu'),\n",
        "  tf.keras.layers.Dropout(0.2),\n",
        "  #10개 중 분류\n",
        "  tf.keras.layers.Dense(10, activation='softmax')\n",
        "])\n",
        "\n",
        "model.compile(optimizer='adam',\n",
        "              loss='sparse_categorical_crossentropy',\n",
        "              metrics=['accuracy'])"
      ],
      "metadata": {
        "id": "gVdJ_VqtlKcC"
      },
      "execution_count": 29,
      "outputs": []
    },
    {
      "cell_type": "code",
      "source": [
        "model.summary()"
      ],
      "metadata": {
        "colab": {
          "base_uri": "https://localhost:8080/"
        },
        "id": "NBvn2Jz_lV2L",
        "outputId": "d02065f8-6007-4b0d-d87f-7a4bf788f4cf"
      },
      "execution_count": 30,
      "outputs": [
        {
          "output_type": "stream",
          "name": "stdout",
          "text": [
            "Model: \"sequential_4\"\n",
            "_________________________________________________________________\n",
            " Layer (type)                Output Shape              Param #   \n",
            "=================================================================\n",
            " flatten_4 (Flatten)         (None, 784)               0         \n",
            "                                                                 \n",
            " dense_8 (Dense)             (None, 128)               100480    \n",
            "                                                                 \n",
            " dropout_4 (Dropout)         (None, 128)               0         \n",
            "                                                                 \n",
            " dense_9 (Dense)             (None, 10)                1290      \n",
            "                                                                 \n",
            "=================================================================\n",
            "Total params: 101,770\n",
            "Trainable params: 101,770\n",
            "Non-trainable params: 0\n",
            "_________________________________________________________________\n"
          ]
        }
      ]
    },
    {
      "cell_type": "code",
      "source": [
        "model.compile(optimizer='adam',\n",
        "              loss='sparse_categorical_crossentropy',\n",
        "              metrics=['accuracy'])"
      ],
      "metadata": {
        "id": "LCJGYdLAlmGT"
      },
      "execution_count": 31,
      "outputs": []
    },
    {
      "cell_type": "code",
      "source": [
        "#학습을 5번 반복한다.\n",
        "model.fit(x_train, y_train, epochs=7)"
      ],
      "metadata": {
        "colab": {
          "base_uri": "https://localhost:8080/"
        },
        "id": "infLAz3IlqnD",
        "outputId": "970b6440-b7c0-4f7e-da75-ddbfe5a579a6"
      },
      "execution_count": 32,
      "outputs": [
        {
          "output_type": "stream",
          "name": "stdout",
          "text": [
            "Epoch 1/7\n",
            "1875/1875 [==============================] - 5s 3ms/step - loss: 0.2929 - accuracy: 0.9142\n",
            "Epoch 2/7\n",
            "1875/1875 [==============================] - 5s 2ms/step - loss: 0.1439 - accuracy: 0.9572\n",
            "Epoch 3/7\n",
            "1875/1875 [==============================] - 5s 2ms/step - loss: 0.1088 - accuracy: 0.9672\n",
            "Epoch 4/7\n",
            "1875/1875 [==============================] - 5s 3ms/step - loss: 0.0898 - accuracy: 0.9722\n",
            "Epoch 5/7\n",
            "1875/1875 [==============================] - 5s 2ms/step - loss: 0.0756 - accuracy: 0.9767\n",
            "Epoch 6/7\n",
            "1875/1875 [==============================] - 5s 2ms/step - loss: 0.0654 - accuracy: 0.9791\n",
            "Epoch 7/7\n",
            "1875/1875 [==============================] - 5s 2ms/step - loss: 0.0590 - accuracy: 0.9809\n"
          ]
        },
        {
          "output_type": "execute_result",
          "data": {
            "text/plain": [
              "<keras.callbacks.History at 0x7fbf97781090>"
            ]
          },
          "metadata": {},
          "execution_count": 32
        }
      ]
    },
    {
      "cell_type": "code",
      "source": [
        "model.evaluate(x_test,  y_test, verbose=2)"
      ],
      "metadata": {
        "colab": {
          "base_uri": "https://localhost:8080/"
        },
        "id": "qCjpy9Col0FD",
        "outputId": "6efd17c9-1b09-4334-e88a-dffdde312b0d"
      },
      "execution_count": 33,
      "outputs": [
        {
          "output_type": "stream",
          "name": "stdout",
          "text": [
            "313/313 - 1s - loss: 0.0761 - accuracy: 0.9765 - 503ms/epoch - 2ms/step\n"
          ]
        },
        {
          "output_type": "execute_result",
          "data": {
            "text/plain": [
              "[0.07613056898117065, 0.9764999747276306]"
            ]
          },
          "metadata": {},
          "execution_count": 33
        }
      ]
    }
  ]
}