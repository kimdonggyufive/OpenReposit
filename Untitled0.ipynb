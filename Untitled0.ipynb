{
  "nbformat": 4,
  "nbformat_minor": 0,
  "metadata": {
    "colab": {
      "name": "Untitled0.ipynb",
      "provenance": [],
      "collapsed_sections": [],
      "authorship_tag": "ABX9TyMEKVT9wnEIMju+6Z/U/qwz",
      "include_colab_link": true
    },
    "kernelspec": {
      "name": "python3",
      "display_name": "Python 3"
    },
    "language_info": {
      "name": "python"
    }
  },
  "cells": [
    {
      "cell_type": "markdown",
      "metadata": {
        "id": "view-in-github",
        "colab_type": "text"
      },
      "source": [
        "<a href=\"https://colab.research.google.com/github/kimdonggyufive/OpenReposit/blob/main/Untitled0.ipynb\" target=\"_parent\"><img src=\"https://colab.research.google.com/assets/colab-badge.svg\" alt=\"Open In Colab\"/></a>"
      ]
    },
    {
      "cell_type": "code",
      "execution_count": 2,
      "metadata": {
        "colab": {
          "base_uri": "https://localhost:8080/"
        },
        "id": "Fst5u4jJVpgv",
        "outputId": "c14d477a-d945-4c60-f131-780464daeb29"
      },
      "outputs": [
        {
          "output_type": "stream",
          "name": "stdout",
          "text": [
            "/content\n"
          ]
        }
      ],
      "source": [
        "#현재 작업하고있는 페이지\n",
        "!pwd"
      ]
    },
    {
      "cell_type": "code",
      "source": [
        "#현재 작업 목록을 보여준다\n",
        "!ls"
      ],
      "metadata": {
        "colab": {
          "base_uri": "https://localhost:8080/"
        },
        "id": "QWksHGadV1mi",
        "outputId": "556b0c36-1fa9-4dd1-d099-132c152cdfaf"
      },
      "execution_count": 4,
      "outputs": [
        {
          "output_type": "stream",
          "name": "stdout",
          "text": [
            "sample_data\n"
          ]
        }
      ]
    },
    {
      "cell_type": "code",
      "source": [
        "#Colab에는 이미 numpy이가 설치되어있음.\n",
        "pip install numpy"
      ],
      "metadata": {
        "colab": {
          "base_uri": "https://localhost:8080/"
        },
        "id": "CTGDi37CV8Ty",
        "outputId": "7e9b4fa8-fe50-4fcd-dd67-ab923523eb1c"
      },
      "execution_count": 7,
      "outputs": [
        {
          "output_type": "stream",
          "name": "stdout",
          "text": [
            "Requirement already satisfied: numpy in /usr/local/lib/python3.7/dist-packages (1.19.5)\n"
          ]
        }
      ]
    },
    {
      "cell_type": "code",
      "source": [
        "import numpy as np\n"
      ],
      "metadata": {
        "id": "xF9hKwF7WGiJ"
      },
      "execution_count": 8,
      "outputs": []
    },
    {
      "cell_type": "code",
      "source": [
        "[i for i in range(7)]\n",
        "  "
      ],
      "metadata": {
        "colab": {
          "base_uri": "https://localhost:8080/"
        },
        "id": "7pdJQlQoWgCC",
        "outputId": "06aea71b-15c2-4900-96c6-423c8c112ea3"
      },
      "execution_count": 12,
      "outputs": [
        {
          "output_type": "execute_result",
          "data": {
            "text/plain": [
              "[0, 1, 2, 3, 4, 5, 6]"
            ]
          },
          "metadata": {},
          "execution_count": 12
        }
      ]
    },
    {
      "cell_type": "code",
      "source": [
        "[i for i in range(7)]"
      ],
      "metadata": {
        "colab": {
          "base_uri": "https://localhost:8080/"
        },
        "id": "SoPBdY3-W3Ly",
        "outputId": "ef5c7e75-fba2-4e17-8626-bd09049dc56c"
      },
      "execution_count": 16,
      "outputs": [
        {
          "output_type": "execute_result",
          "data": {
            "text/plain": [
              "[0, 1, 2, 3, 4, 5, 6]"
            ]
          },
          "metadata": {},
          "execution_count": 16
        }
      ]
    },
    {
      "cell_type": "code",
      "source": [
        "{i: i+2 for i in range(7)}"
      ],
      "metadata": {
        "colab": {
          "base_uri": "https://localhost:8080/"
        },
        "id": "NIXgMg8NXSWC",
        "outputId": "fbca724c-5cf9-4c2a-de03-f9a4475156ce"
      },
      "execution_count": 17,
      "outputs": [
        {
          "output_type": "execute_result",
          "data": {
            "text/plain": [
              "{0: 2, 1: 3, 2: 4, 3: 5, 4: 6, 5: 7, 6: 8}"
            ]
          },
          "metadata": {},
          "execution_count": 17
        }
      ]
    },
    {
      "cell_type": "code",
      "source": [
        "#\n",
        "{i:np.random.randn() for i in range(7)}"
      ],
      "metadata": {
        "colab": {
          "base_uri": "https://localhost:8080/"
        },
        "id": "aqqE3gtAXjoi",
        "outputId": "a73ad342-cde8-47f0-ec90-90cdecb4b1e9"
      },
      "execution_count": 18,
      "outputs": [
        {
          "output_type": "execute_result",
          "data": {
            "text/plain": [
              "{0: -0.30538563119434714,\n",
              " 1: 1.7086543735962085,\n",
              " 2: -0.8045216773308729,\n",
              " 3: 0.19412479176260883,\n",
              " 4: -2.6433938570580415,\n",
              " 5: -0.9256111339851438,\n",
              " 6: 0.04609086620831801}"
            ]
          },
          "metadata": {},
          "execution_count": 18
        }
      ]
    },
    {
      "cell_type": "code",
      "source": [
        "a=np.array([1,2,3])\n",
        "a,type(a)\n",
        "a.ndim, a.shape"
      ],
      "metadata": {
        "colab": {
          "base_uri": "https://localhost:8080/"
        },
        "id": "6C9ZABXyXqBy",
        "outputId": "9cdb35e8-e043-4ad1-b7a5-2fe43e332b6f"
      },
      "execution_count": 22,
      "outputs": [
        {
          "output_type": "execute_result",
          "data": {
            "text/plain": [
              "(1, (3,))"
            ]
          },
          "metadata": {},
          "execution_count": 22
        }
      ]
    },
    {
      "cell_type": "code",
      "source": [
        "a[0],a[1],a[2]"
      ],
      "metadata": {
        "colab": {
          "base_uri": "https://localhost:8080/"
        },
        "id": "JGIXgr59ZsNi",
        "outputId": "728ad500-50fb-4262-c582-c01872a03d1e"
      },
      "execution_count": 23,
      "outputs": [
        {
          "output_type": "execute_result",
          "data": {
            "text/plain": [
              "(1, 2, 3)"
            ]
          },
          "metadata": {},
          "execution_count": 23
        }
      ]
    },
    {
      "cell_type": "code",
      "source": [
        "a[:2],a[:3],a[:],a[0:],a[1:2]"
      ],
      "metadata": {
        "colab": {
          "base_uri": "https://localhost:8080/"
        },
        "id": "0IQAsvdnXP7S",
        "outputId": "6175cdd2-b544-4987-bfc6-e753a9469c92"
      },
      "execution_count": 27,
      "outputs": [
        {
          "output_type": "execute_result",
          "data": {
            "text/plain": [
              "(array([1, 2]),\n",
              " array([1, 2, 3]),\n",
              " array([1, 2, 3]),\n",
              " array([1, 2, 3]),\n",
              " array([2]))"
            ]
          },
          "metadata": {},
          "execution_count": 27
        }
      ]
    },
    {
      "cell_type": "code",
      "source": [
        "a[-1:2],a[-1:-2],a[-1:-3],a[0:-2]"
      ],
      "metadata": {
        "colab": {
          "base_uri": "https://localhost:8080/"
        },
        "id": "MssTKVMfaXxC",
        "outputId": "f4fa7d41-6a47-466e-c1bf-4cec0f56aaf2"
      },
      "execution_count": 30,
      "outputs": [
        {
          "output_type": "execute_result",
          "data": {
            "text/plain": [
              "(array([], dtype=int64),\n",
              " array([], dtype=int64),\n",
              " array([], dtype=int64),\n",
              " array([1]))"
            ]
          },
          "metadata": {},
          "execution_count": 30
        }
      ]
    },
    {
      "cell_type": "code",
      "source": [
        "pip install conda"
      ],
      "metadata": {
        "colab": {
          "base_uri": "https://localhost:8080/"
        },
        "id": "ep5Y6GCud_qR",
        "outputId": "0aa8950c-75eb-4d9d-8215-2a6a4b810382"
      },
      "execution_count": 31,
      "outputs": [
        {
          "output_type": "stream",
          "name": "stdout",
          "text": [
            "Collecting conda\n",
            "  Downloading conda-4.3.16.tar.gz (299 kB)\n",
            "\u001b[?25l\r\u001b[K     |█                               | 10 kB 15.0 MB/s eta 0:00:01\r\u001b[K     |██▏                             | 20 kB 20.8 MB/s eta 0:00:01\r\u001b[K     |███▎                            | 30 kB 24.1 MB/s eta 0:00:01\r\u001b[K     |████▍                           | 40 kB 27.4 MB/s eta 0:00:01\r\u001b[K     |█████▌                          | 51 kB 10.0 MB/s eta 0:00:01\r\u001b[K     |██████▋                         | 61 kB 10.6 MB/s eta 0:00:01\r\u001b[K     |███████▋                        | 71 kB 8.4 MB/s eta 0:00:01\r\u001b[K     |████████▊                       | 81 kB 9.3 MB/s eta 0:00:01\r\u001b[K     |█████████▉                      | 92 kB 9.6 MB/s eta 0:00:01\r\u001b[K     |███████████                     | 102 kB 8.6 MB/s eta 0:00:01\r\u001b[K     |████████████                    | 112 kB 8.6 MB/s eta 0:00:01\r\u001b[K     |█████████████▏                  | 122 kB 8.6 MB/s eta 0:00:01\r\u001b[K     |██████████████▎                 | 133 kB 8.6 MB/s eta 0:00:01\r\u001b[K     |███████████████▎                | 143 kB 8.6 MB/s eta 0:00:01\r\u001b[K     |████████████████▍               | 153 kB 8.6 MB/s eta 0:00:01\r\u001b[K     |█████████████████▌              | 163 kB 8.6 MB/s eta 0:00:01\r\u001b[K     |██████████████████▋             | 174 kB 8.6 MB/s eta 0:00:01\r\u001b[K     |███████████████████▊            | 184 kB 8.6 MB/s eta 0:00:01\r\u001b[K     |████████████████████▉           | 194 kB 8.6 MB/s eta 0:00:01\r\u001b[K     |██████████████████████          | 204 kB 8.6 MB/s eta 0:00:01\r\u001b[K     |███████████████████████         | 215 kB 8.6 MB/s eta 0:00:01\r\u001b[K     |████████████████████████        | 225 kB 8.6 MB/s eta 0:00:01\r\u001b[K     |█████████████████████████▏      | 235 kB 8.6 MB/s eta 0:00:01\r\u001b[K     |██████████████████████████▎     | 245 kB 8.6 MB/s eta 0:00:01\r\u001b[K     |███████████████████████████▍    | 256 kB 8.6 MB/s eta 0:00:01\r\u001b[K     |████████████████████████████▌   | 266 kB 8.6 MB/s eta 0:00:01\r\u001b[K     |█████████████████████████████▋  | 276 kB 8.6 MB/s eta 0:00:01\r\u001b[K     |██████████████████████████████▋ | 286 kB 8.6 MB/s eta 0:00:01\r\u001b[K     |███████████████████████████████▊| 296 kB 8.6 MB/s eta 0:00:01\r\u001b[K     |████████████████████████████████| 299 kB 8.6 MB/s \n",
            "\u001b[?25hCollecting pycosat>=0.6.1\n",
            "  Downloading pycosat-0.6.3.zip (66 kB)\n",
            "\u001b[K     |████████████████████████████████| 66 kB 4.0 MB/s \n",
            "\u001b[?25hRequirement already satisfied: requests>=2.12.4 in /usr/local/lib/python3.7/dist-packages (from conda) (2.23.0)\n",
            "Collecting ruamel.yaml>=0.11.14\n",
            "  Downloading ruamel.yaml-0.17.17-py3-none-any.whl (109 kB)\n",
            "\u001b[K     |████████████████████████████████| 109 kB 46.2 MB/s \n",
            "\u001b[?25hRequirement already satisfied: idna<3,>=2.5 in /usr/local/lib/python3.7/dist-packages (from requests>=2.12.4->conda) (2.10)\n",
            "Requirement already satisfied: chardet<4,>=3.0.2 in /usr/local/lib/python3.7/dist-packages (from requests>=2.12.4->conda) (3.0.4)\n",
            "Requirement already satisfied: certifi>=2017.4.17 in /usr/local/lib/python3.7/dist-packages (from requests>=2.12.4->conda) (2021.10.8)\n",
            "Requirement already satisfied: urllib3!=1.25.0,!=1.25.1,<1.26,>=1.21.1 in /usr/local/lib/python3.7/dist-packages (from requests>=2.12.4->conda) (1.24.3)\n",
            "Collecting ruamel.yaml.clib>=0.1.2\n",
            "  Downloading ruamel.yaml.clib-0.2.6-cp37-cp37m-manylinux1_x86_64.whl (546 kB)\n",
            "\u001b[K     |████████████████████████████████| 546 kB 38.8 MB/s \n",
            "\u001b[?25hBuilding wheels for collected packages: conda, pycosat\n",
            "  Building wheel for conda (setup.py) ... \u001b[?25l\u001b[?25hdone\n",
            "  Created wheel for conda: filename=conda-4.3.16-py3-none-any.whl size=336960 sha256=8ef15e6ddc0a945d56dc3874469a7c20004d3ed9201016a4c5d57cca552f8f8d\n",
            "  Stored in directory: /root/.cache/pip/wheels/66/ec/2c/cce33d7a071720882d948fd3364d3ff5562bac9e5638768d41\n",
            "  Building wheel for pycosat (setup.py) ... \u001b[?25l\u001b[?25hdone\n",
            "  Created wheel for pycosat: filename=pycosat-0.6.3-cp37-cp37m-linux_x86_64.whl size=143866 sha256=194e00289f969de02dba99fdf4aa83e57f96b109429341bccd993b9dc8865ed1\n",
            "  Stored in directory: /root/.cache/pip/wheels/c8/29/0e/a226b7c5a4f24e246f25201c0b1fbf6fb8f19f9cce89b02c36\n",
            "Successfully built conda pycosat\n",
            "Installing collected packages: ruamel.yaml.clib, ruamel.yaml, pycosat, conda\n",
            "Successfully installed conda-4.3.16 pycosat-0.6.3 ruamel.yaml-0.17.17 ruamel.yaml.clib-0.2.6\n"
          ]
        }
      ]
    },
    {
      "cell_type": "code",
      "source": [
        "a=np.array([[1,2,3],\n",
        "          [4,5,6]])\n",
        "\n",
        "a"
      ],
      "metadata": {
        "colab": {
          "base_uri": "https://localhost:8080/"
        },
        "id": "6KA2G2-3eR95",
        "outputId": "59a03c53-d3cf-4bff-a9ea-608bc7fc211b"
      },
      "execution_count": 35,
      "outputs": [
        {
          "output_type": "execute_result",
          "data": {
            "text/plain": [
              "array([[1, 2, 3],\n",
              "       [4, 5, 6]])"
            ]
          },
          "metadata": {},
          "execution_count": 35
        }
      ]
    },
    {
      "cell_type": "code",
      "source": [
        "#shell에서는 0번째 인자는 가로, 1번째 인자는 세로를 뜻한다.\n"
      ],
      "metadata": {
        "id": "oKV0gjmje90w"
      },
      "execution_count": 36,
      "outputs": []
    },
    {
      "cell_type": "code",
      "source": [
        "a=np.array([[1,2,3], [4,5,6]])\n",
        "\n",
        "a[0][1],a[0][-3],a[0][-2],a[0][-1]"
      ],
      "metadata": {
        "colab": {
          "base_uri": "https://localhost:8080/"
        },
        "id": "E6r1VWRlfDKA",
        "outputId": "74761c23-8fa4-48d6-cef2-aa828d77f245"
      },
      "execution_count": 41,
      "outputs": [
        {
          "output_type": "execute_result",
          "data": {
            "text/plain": [
              "(2, 1, 2, 3)"
            ]
          },
          "metadata": {},
          "execution_count": 41
        }
      ]
    },
    {
      "cell_type": "code",
      "source": [
        "a[0:2][0:3]"
      ],
      "metadata": {
        "colab": {
          "base_uri": "https://localhost:8080/"
        },
        "id": "I6IpifxigZBh",
        "outputId": "3f8af288-89c9-4df4-87bb-7739a421a4c7"
      },
      "execution_count": 43,
      "outputs": [
        {
          "output_type": "execute_result",
          "data": {
            "text/plain": [
              "array([[1, 2, 3],\n",
              "       [4, 5, 6]])"
            ]
          },
          "metadata": {},
          "execution_count": 43
        }
      ]
    },
    {
      "cell_type": "code",
      "source": [
        "a[:,:-1]"
      ],
      "metadata": {
        "colab": {
          "base_uri": "https://localhost:8080/"
        },
        "id": "Dj_9wU0lhCoQ",
        "outputId": "a88b1e4d-6e8d-4967-90fa-a2756b6c4b8e"
      },
      "execution_count": 44,
      "outputs": [
        {
          "output_type": "execute_result",
          "data": {
            "text/plain": [
              "array([[1, 2],\n",
              "       [4, 5]])"
            ]
          },
          "metadata": {},
          "execution_count": 44
        }
      ]
    }
  ]
}