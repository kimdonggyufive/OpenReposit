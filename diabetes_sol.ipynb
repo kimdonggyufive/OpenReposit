{
  "nbformat": 4,
  "nbformat_minor": 0,
  "metadata": {
    "kernelspec": {
      "display_name": "Python 3",
      "language": "python",
      "name": "python3"
    },
    "language_info": {
      "codemirror_mode": {
        "name": "ipython",
        "version": 3
      },
      "file_extension": ".py",
      "mimetype": "text/x-python",
      "name": "python",
      "nbconvert_exporter": "python",
      "pygments_lexer": "ipython3",
      "version": "3.6.7"
    },
    "colab": {
      "name": "diabetes_sol.ipynb",
      "provenance": [],
      "collapsed_sections": [],
      "include_colab_link": true
    }
  },
  "cells": [
    {
      "cell_type": "markdown",
      "metadata": {
        "id": "view-in-github",
        "colab_type": "text"
      },
      "source": [
        "<a href=\"https://colab.research.google.com/github/kimdonggyufive/OpenReposit/blob/main/diabetes_sol.ipynb\" target=\"_parent\"><img src=\"https://colab.research.google.com/assets/colab-badge.svg\" alt=\"Open In Colab\"/></a>"
      ]
    },
    {
      "cell_type": "markdown",
      "metadata": {
        "id": "iaNtDPEMmmMU"
      },
      "source": [
        "# Diabetes example\n",
        "\n",
        "사용한 데이터 세트는 Pima Indians Diabetes Data Set 입니다. \n",
        "\n",
        "미국 원주민 중 Pima 족은 원래는 당뇨병의 유병율이 적었는데, 서구식 식습관에 의해 급속도로 당뇨병에 걸렸습니다.  \n",
        "그래서 당뇨병을 연구하는데 귀중한 데이터로 사용되고 있습니다.\n",
        "\n",
        "데이터 세트는 CSV 포멧이고 총 9가지의 속성으로 구성되어 있습니다.\n",
        "\n",
        "1.임신횟수  \n",
        "2.글루코스 내성(glucose tolerance)실험 후의 혈당수치  \n",
        "3.확장기 혈압(mm Hg)  \n",
        "4.상완 삼두근 피부 두께 (mm)  \n",
        "5.혈액내 인슐린 수치 (mu U/ml)  \n",
        "6.BMI(비만도) 수치 (weight in kg/(height in m)^2)  \n",
        "7.당뇨병 가족력: 계산식은 데이터세트의 출처에서 확인하세요.  \n",
        "8.나이 (years)  \n",
        "9.당뇨병 여부 (0 or 1; 1은 발병)  "
      ]
    },
    {
      "cell_type": "code",
      "source": [
        "# scikit-learn 설치 확인\n",
        "!pip install scikit-learn"
      ],
      "metadata": {
        "colab": {
          "base_uri": "https://localhost:8080/"
        },
        "id": "xZYQNE8TsTbT",
        "outputId": "da9084f8-5a75-4584-fe4f-000a8c6e7867"
      },
      "execution_count": null,
      "outputs": [
        {
          "output_type": "stream",
          "name": "stdout",
          "text": [
            "Requirement already satisfied: scikit-learn in /usr/local/lib/python3.7/dist-packages (1.0.1)\n",
            "Requirement already satisfied: scipy>=1.1.0 in /usr/local/lib/python3.7/dist-packages (from scikit-learn) (1.4.1)\n",
            "Requirement already satisfied: threadpoolctl>=2.0.0 in /usr/local/lib/python3.7/dist-packages (from scikit-learn) (3.0.0)\n",
            "Requirement already satisfied: joblib>=0.11 in /usr/local/lib/python3.7/dist-packages (from scikit-learn) (1.1.0)\n",
            "Requirement already satisfied: numpy>=1.14.6 in /usr/local/lib/python3.7/dist-packages (from scikit-learn) (1.19.5)\n"
          ]
        }
      ]
    },
    {
      "cell_type": "code",
      "metadata": {
        "id": "VhBCs6eVmmMV"
      },
      "source": [
        "import numpy as np\n",
        "import tensorflow as tf\n",
        "\n",
        "np.random.seed(777)\n",
        "tf.random.set_seed(777)"
      ],
      "execution_count": null,
      "outputs": []
    },
    {
      "cell_type": "code",
      "metadata": {
        "id": "8IQZJlAOmmMa",
        "colab": {
          "base_uri": "https://localhost:8080/"
        },
        "outputId": "e8b01330-4e48-443e-e164-fe0e32e40bf2"
      },
      "source": [
        "dataset=np.loadtxt(\"diabetes.csv\", delimiter=\",\")\n",
        "x=dataset[:,:-1]\n",
        "y=dataset[:,-1]\n",
        "\n",
        "x.shape, y.shape\n",
        "#다음은 TrainData와 TestData를 나누기"
      ],
      "execution_count": null,
      "outputs": [
        {
          "output_type": "execute_result",
          "data": {
            "text/plain": [
              "((759, 8), (759,))"
            ]
          },
          "metadata": {},
          "execution_count": 3
        }
      ]
    },
    {
      "cell_type": "code",
      "metadata": {
        "id": "ZxeL_26siXxu"
      },
      "source": [
        "from sklearn.model_selection import train_test_split\n",
        "#다음 train_data는 75% == 0.75, test_data는 25% == 0.25로 알아서 나눈다.\n",
        "#random_seed는 777로 고정한다.\n",
        "#머신러닝을 할때 자동으로 나눠주는 함수.\n",
        "x_train, x_test, y_train, y_test=train_test_split(x, y, test_size=0.25, random_state=777)"
      ],
      "execution_count": null,
      "outputs": []
    },
    {
      "cell_type": "code",
      "metadata": {
        "id": "p_6rlgrLopwN"
      },
      "source": [
        "# 모델링 해보세요. \n",
        "# 3개층 \n",
        "from tensorflow.keras.models import Sequential\n",
        "from tensorflow.keras.layers import Dense\n",
        "\n",
        "model=Sequential()\n",
        "model.add(Dense(12,activation='relu',input_shape=(8,)))\n",
        "model.add(Dense(8,activation='relu'))\n",
        "model.add(Dense(1,activation='sigmoid'))\n"
      ],
      "execution_count": null,
      "outputs": []
    },
    {
      "cell_type": "code",
      "source": [
        "model.compile(optimizer='adam',loss='binary_crossentropy', metrics=['acc'])"
      ],
      "metadata": {
        "id": "WMX0cp4BqnvN"
      },
      "execution_count": null,
      "outputs": []
    },
    {
      "cell_type": "code",
      "source": [
        "model.summary()"
      ],
      "metadata": {
        "colab": {
          "base_uri": "https://localhost:8080/"
        },
        "id": "0qrr4HYVqr58",
        "outputId": "4b83c563-1a59-4ca4-ca0c-d35497a2c971"
      },
      "execution_count": null,
      "outputs": [
        {
          "output_type": "stream",
          "name": "stdout",
          "text": [
            "Model: \"sequential\"\n",
            "_________________________________________________________________\n",
            " Layer (type)                Output Shape              Param #   \n",
            "=================================================================\n",
            " dense (Dense)               (None, 12)                108       \n",
            "                                                                 \n",
            " dense_1 (Dense)             (None, 8)                 104       \n",
            "                                                                 \n",
            " dense_2 (Dense)             (None, 1)                 9         \n",
            "                                                                 \n",
            "=================================================================\n",
            "Total params: 221\n",
            "Trainable params: 221\n",
            "Non-trainable params: 0\n",
            "_________________________________________________________________\n"
          ]
        }
      ]
    },
    {
      "cell_type": "code",
      "metadata": {
        "id": "SEgwXCF6mnCb",
        "colab": {
          "base_uri": "https://localhost:8080/"
        },
        "outputId": "9b91739e-d61e-4c49-e08f-a9e42f69f35b"
      },
      "source": [
        "# 학습 시켜 보세요.\n",
        "# 마지막 validation_split data는 예측 할 데이터?\n",
        "history= model.fit(x_train, y_train, batch_size=10, epochs=20,validation_split=0.2)\n",
        "# epoch=8 으로 변경후 다시 학습\n",
        "#history"
      ],
      "execution_count": null,
      "outputs": [
        {
          "output_type": "stream",
          "name": "stdout",
          "text": [
            "Epoch 1/20\n",
            "46/46 [==============================] - 1s 6ms/step - loss: 0.6932 - acc: 0.4879 - val_loss: 0.6783 - val_acc: 0.6842\n",
            "Epoch 2/20\n",
            "46/46 [==============================] - 0s 2ms/step - loss: 0.6707 - acc: 0.6418 - val_loss: 0.6570 - val_acc: 0.6579\n",
            "Epoch 3/20\n",
            "46/46 [==============================] - 0s 3ms/step - loss: 0.6358 - acc: 0.6462 - val_loss: 0.6295 - val_acc: 0.6579\n",
            "Epoch 4/20\n",
            "46/46 [==============================] - 0s 2ms/step - loss: 0.5972 - acc: 0.6637 - val_loss: 0.6040 - val_acc: 0.6754\n",
            "Epoch 5/20\n",
            "46/46 [==============================] - 0s 2ms/step - loss: 0.5588 - acc: 0.7077 - val_loss: 0.5774 - val_acc: 0.6930\n",
            "Epoch 6/20\n",
            "46/46 [==============================] - 0s 2ms/step - loss: 0.5225 - acc: 0.7407 - val_loss: 0.5542 - val_acc: 0.7456\n",
            "Epoch 7/20\n",
            "46/46 [==============================] - 0s 2ms/step - loss: 0.4859 - acc: 0.7780 - val_loss: 0.5347 - val_acc: 0.7544\n",
            "Epoch 8/20\n",
            "46/46 [==============================] - 0s 2ms/step - loss: 0.4589 - acc: 0.8000 - val_loss: 0.5256 - val_acc: 0.7544\n",
            "Epoch 9/20\n",
            "46/46 [==============================] - 0s 2ms/step - loss: 0.4391 - acc: 0.7978 - val_loss: 0.5229 - val_acc: 0.7368\n",
            "Epoch 10/20\n",
            "46/46 [==============================] - 0s 2ms/step - loss: 0.4280 - acc: 0.8000 - val_loss: 0.5241 - val_acc: 0.7105\n",
            "Epoch 11/20\n",
            "46/46 [==============================] - 0s 2ms/step - loss: 0.4192 - acc: 0.7934 - val_loss: 0.5267 - val_acc: 0.7105\n",
            "Epoch 12/20\n",
            "46/46 [==============================] - 0s 2ms/step - loss: 0.4172 - acc: 0.8044 - val_loss: 0.5287 - val_acc: 0.6930\n",
            "Epoch 13/20\n",
            "46/46 [==============================] - 0s 2ms/step - loss: 0.4121 - acc: 0.8000 - val_loss: 0.5313 - val_acc: 0.6930\n",
            "Epoch 14/20\n",
            "46/46 [==============================] - 0s 2ms/step - loss: 0.4093 - acc: 0.7956 - val_loss: 0.5324 - val_acc: 0.7018\n",
            "Epoch 15/20\n",
            "46/46 [==============================] - 0s 2ms/step - loss: 0.4057 - acc: 0.8000 - val_loss: 0.5358 - val_acc: 0.7193\n",
            "Epoch 16/20\n",
            "46/46 [==============================] - 0s 2ms/step - loss: 0.4056 - acc: 0.7956 - val_loss: 0.5377 - val_acc: 0.7193\n",
            "Epoch 17/20\n",
            "46/46 [==============================] - 0s 2ms/step - loss: 0.4032 - acc: 0.8022 - val_loss: 0.5411 - val_acc: 0.7105\n",
            "Epoch 18/20\n",
            "46/46 [==============================] - 0s 2ms/step - loss: 0.4043 - acc: 0.7978 - val_loss: 0.5427 - val_acc: 0.6930\n",
            "Epoch 19/20\n",
            "46/46 [==============================] - 0s 2ms/step - loss: 0.3989 - acc: 0.7978 - val_loss: 0.5433 - val_acc: 0.7018\n",
            "Epoch 20/20\n",
            "46/46 [==============================] - 0s 6ms/step - loss: 0.3985 - acc: 0.8088 - val_loss: 0.5452 - val_acc: 0.6930\n"
          ]
        }
      ]
    },
    {
      "cell_type": "code",
      "source": [
        "# model.evaluate(x값, y값) 함수를 사용하여 모델을 평가해보세요.\n",
        "scores=model.evaluate(x_test, y_test)\n",
        "print(f'loss={scores[0]}, acc={scores[1]*100:.2f}%')"
      ],
      "metadata": {
        "colab": {
          "base_uri": "https://localhost:8080/"
        },
        "id": "wDd66Hjsnp4a",
        "outputId": "3173dbc3-4796-4f8b-80c2-b30d8f6deeda"
      },
      "execution_count": null,
      "outputs": [
        {
          "output_type": "stream",
          "name": "stdout",
          "text": [
            "6/6 [==============================] - 0s 2ms/step - loss: 0.6016 - acc: 0.6895\n",
            "loss=0.601569414138794, acc=68.95%\n"
          ]
        }
      ]
    },
    {
      "cell_type": "code",
      "source": [
        "# model.predict(새로운 x값) 을 사용하여 예측해보세요.\n",
        "predictions=model.predict(x_test)\n",
        "rounded=[round(x[0]) for x in predictions]\n",
        "print('P',rounded[:10])\n",
        "print('L',y_test[:10])"
      ],
      "metadata": {
        "colab": {
          "base_uri": "https://localhost:8080/"
        },
        "id": "5VqPSNs3nptz",
        "outputId": "45978d46-1089-4d7b-b7f7-b18f206eb7b6"
      },
      "execution_count": null,
      "outputs": [
        {
          "output_type": "stream",
          "name": "stdout",
          "text": [
            "P [1, 1, 1, 1, 1, 0, 1, 1, 1, 1]\n",
            "L [1. 0. 1. 1. 0. 0. 1. 1. 1. 1.]\n"
          ]
        }
      ]
    },
    {
      "cell_type": "code",
      "source": [
        ""
      ],
      "metadata": {
        "id": "Gje49Whpr-uj"
      },
      "execution_count": null,
      "outputs": []
    },
    {
      "cell_type": "markdown",
      "metadata": {
        "id": "wBM59Y3-mnCk"
      },
      "source": [
        "#  시각화"
      ]
    },
    {
      "cell_type": "code",
      "metadata": {
        "id": "WQyP6eojmnCh",
        "colab": {
          "base_uri": "https://localhost:8080/"
        },
        "outputId": "90829cc5-c654-4cbf-afc2-a5e952152bc2"
      },
      "source": [
        "history.history.keys()"
      ],
      "execution_count": null,
      "outputs": [
        {
          "output_type": "execute_result",
          "data": {
            "text/plain": [
              "dict_keys(['loss', 'acc', 'val_loss', 'val_acc'])"
            ]
          },
          "metadata": {},
          "execution_count": 11
        }
      ]
    },
    {
      "cell_type": "code",
      "metadata": {
        "id": "4TdHbohemnCl",
        "colab": {
          "base_uri": "https://localhost:8080/",
          "height": 295
        },
        "outputId": "5641abc1-323b-484a-806f-f00fe4727204"
      },
      "source": [
        "import matplotlib.pyplot as plt\n",
        "\n",
        "acc = history.history['acc']\n",
        "val_acc = history.history['val_acc']\n",
        "loss = history.history['loss']\n",
        "val_loss = history.history['val_loss']\n",
        "\n",
        "epochs = range(1, len(acc) + 1)\n",
        "\n",
        "plt.plot(epochs, loss, 'g^', label='Training loss')\n",
        "plt.plot(epochs, val_loss, 'k', label='Validation loss')\n",
        "plt.title('Training and validation loss')\n",
        "plt.xlabel('Epochs')\n",
        "plt.ylabel('Loss')\n",
        "plt.legend()\n",
        "plt.show()"
      ],
      "execution_count": null,
      "outputs": [
        {
          "output_type": "display_data",
          "data": {
            "image/png": "[encoded data removed]",
            "text/plain": [
              "<Figure size 432x288 with 1 Axes>"
            ]
          },
          "metadata": {
            "needs_background": "light"
          }
        }
      ]
    },
    {
      "cell_type": "code",
      "metadata": {
        "id": "t5QJYE44mnCo",
        "colab": {
          "base_uri": "https://localhost:8080/",
          "height": 295
        },
        "outputId": "c59d0f7a-def8-43cb-eff9-fd77d5eb80e1"
      },
      "source": [
        "plt.clf()\n",
        "\n",
        "plt.plot(epochs, acc, 'bo', label='Training acc')\n",
        "plt.plot(epochs, val_acc, 'r', label='Validation acc')\n",
        "plt.title('Training and validation accuracy')\n",
        "plt.xlabel('Epochs')\n",
        "plt.ylabel('Accuracy')\n",
        "plt.legend()\n",
        "plt.show()"
      ],
      "execution_count": null,
      "outputs": [
        {
          "output_type": "display_data",
          "data": {
            "image/png": "[encoded data removed]",
            "text/plain": [
              "<Figure size 432x288 with 1 Axes>"
            ]
          },
          "metadata": {
            "needs_background": "light"
          }
        }
      ]
    },
    {
      "cell_type": "markdown",
      "metadata": {
        "id": "V-UFNiHDmnCr"
      },
      "source": [
        "### epoch=8 으로 변경후 다시 학습"
      ]
    }
  ]
}