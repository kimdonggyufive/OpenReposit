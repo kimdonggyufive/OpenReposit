{
  "nbformat": 4,
  "nbformat_minor": 0,
  "metadata": {
    "colab": {
      "name": "1.Python.ipynb",
      "provenance": [],
      "collapsed_sections": [],
      "toc_visible": true,
      "authorship_tag": "ABX9TyOH6LuoAnoZ0nSXc423xM+D",
      "include_colab_link": true
    },
    "kernelspec": {
      "name": "python3",
      "display_name": "Python 3"
    },
    "language_info": {
      "name": "python"
    }
  },
  "cells": [
    {
      "cell_type": "markdown",
      "metadata": {
        "id": "view-in-github",
        "colab_type": "text"
      },
      "source": [
        "<a href=\"https://colab.research.google.com/github/kimdonggyufive/OpenReposit/blob/main/1_Python.ipynb\" target=\"_parent\"><img src=\"https://colab.research.google.com/assets/colab-badge.svg\" alt=\"Open In Colab\"/></a>"
      ]
    },
    {
      "cell_type": "code",
      "source": [
        "#test\n",
        "#제일 아래의 출력문은 생략이 가능하다.\n",
        "1+1\n",
        "print(1+1)\n",
        "2+2"
      ],
      "metadata": {
        "colab": {
          "base_uri": "https://localhost:8080/"
        },
        "id": "Jjnfmlj4eIZt",
        "outputId": "28f568d3-3818-483f-a233-5d6aac9ec5f0"
      },
      "execution_count": 42,
      "outputs": [
        {
          "output_type": "stream",
          "name": "stdout",
          "text": [
            "2\n"
          ]
        },
        {
          "output_type": "execute_result",
          "data": {
            "text/plain": [
              "4"
            ]
          },
          "metadata": {},
          "execution_count": 42
        }
      ]
    },
    {
      "cell_type": "code",
      "source": [
        "#test1\n",
        "a = 2 \n",
        "print(a)"
      ],
      "metadata": {
        "colab": {
          "base_uri": "https://localhost:8080/"
        },
        "id": "NTKIYGKLeqJW",
        "outputId": "61124132-4d4f-46b0-d186-c0d45005874b"
      },
      "execution_count": null,
      "outputs": [
        {
          "output_type": "stream",
          "name": "stdout",
          "text": [
            "2\n"
          ]
        }
      ]
    },
    {
      "cell_type": "code",
      "execution_count": null,
      "metadata": {
        "colab": {
          "base_uri": "https://localhost:8080/"
        },
        "id": "Dj7EiT9BchXu",
        "outputId": "96131411-c1ac-463c-ddcf-3ac508230f7d"
      },
      "outputs": [
        {
          "output_type": "stream",
          "name": "stdout",
          "text": [
            "first pythonStart\n",
            "Second pythonStart\n",
            "\n",
            "third Line\n"
          ]
        }
      ],
      "source": [
        "#test2\n",
        "print(\"first pythonStart\")\n",
        "print(\"Second pythonStart\\n\")\n",
        "print(\"third Line\")"
      ]
    },
    {
      "cell_type": "code",
      "source": [
        "#test3\n",
        "0x11"
      ],
      "metadata": {
        "id": "XCuapJO-fCQE",
        "colab": {
          "base_uri": "https://localhost:8080/"
        },
        "outputId": "485e45da-a39e-4f80-905b-075ab0aa217b"
      },
      "execution_count": 27,
      "outputs": [
        {
          "output_type": "execute_result",
          "data": {
            "text/plain": [
              "17"
            ]
          },
          "metadata": {},
          "execution_count": 27
        }
      ]
    },
    {
      "cell_type": "code",
      "source": [
        "#9진법\n",
        "0o11\n",
        "#2진법\n",
        "0b11"
      ],
      "metadata": {
        "colab": {
          "base_uri": "https://localhost:8080/"
        },
        "id": "3d0hkyG4pSbp",
        "outputId": "ec447aaa-9e56-4476-d1b0-1f583e2ddbdf"
      },
      "execution_count": 31,
      "outputs": [
        {
          "output_type": "execute_result",
          "data": {
            "text/plain": [
              "3"
            ]
          },
          "metadata": {},
          "execution_count": 31
        }
      ]
    },
    {
      "cell_type": "code",
      "source": [
        "print(\"'Hellow' World\")"
      ],
      "metadata": {
        "colab": {
          "base_uri": "https://localhost:8080/"
        },
        "id": "cKLCn1m5pbBS",
        "outputId": "8e25b3fa-65a4-4300-b739-fb89646cca71"
      },
      "execution_count": 35,
      "outputs": [
        {
          "output_type": "stream",
          "name": "stdout",
          "text": [
            "'Hellow' World\n"
          ]
        }
      ]
    },
    {
      "cell_type": "code",
      "source": [
        "#작은 따옴표 아래에 큰 따옴표가 올 수 있다.\n",
        "print('\"Hellow\" World')"
      ],
      "metadata": {
        "colab": {
          "base_uri": "https://localhost:8080/"
        },
        "id": "bxVrxaa1pcFx",
        "outputId": "c43cd9a2-02b6-4b59-be45-746cdfb4d58d"
      },
      "execution_count": 37,
      "outputs": [
        {
          "output_type": "stream",
          "name": "stdout",
          "text": [
            "\"Hellow\" World\n"
          ]
        }
      ]
    },
    {
      "cell_type": "code",
      "source": [
        "#variables"
      ],
      "metadata": {
        "id": "gGcjpbdcp1xC"
      },
      "execution_count": 43,
      "outputs": []
    },
    {
      "cell_type": "markdown",
      "source": [
        "#Variables"
      ],
      "metadata": {
        "id": "UCinquxAqmQL"
      }
    },
    {
      "cell_type": "code",
      "source": [
        "x = 1\n",
        "x "
      ],
      "metadata": {
        "colab": {
          "base_uri": "https://localhost:8080/"
        },
        "id": "XDo-jVY-qv9B",
        "outputId": "8c8f182c-3340-4a26-926f-ebe0e48231af"
      },
      "execution_count": 55,
      "outputs": [
        {
          "output_type": "execute_result",
          "data": {
            "text/plain": [
              "1"
            ]
          },
          "metadata": {},
          "execution_count": 55
        }
      ]
    },
    {
      "cell_type": "code",
      "source": [
        "x = x*3\n",
        "x"
      ],
      "metadata": {
        "colab": {
          "base_uri": "https://localhost:8080/"
        },
        "id": "Wi-Yvn4arSbi",
        "outputId": "60bfd8cf-108c-4ff7-bfd0-0d9509bfa2d0"
      },
      "execution_count": 56,
      "outputs": [
        {
          "output_type": "execute_result",
          "data": {
            "text/plain": [
              "3"
            ]
          },
          "metadata": {},
          "execution_count": 56
        }
      ]
    },
    {
      "cell_type": "code",
      "source": [
        "x = x+5\n",
        "x\n"
      ],
      "metadata": {
        "colab": {
          "base_uri": "https://localhost:8080/"
        },
        "id": "6biXxAJlrVlS",
        "outputId": "9a83de5b-a854-4f1f-91e7-c648984f2eca"
      },
      "execution_count": 58,
      "outputs": [
        {
          "output_type": "execute_result",
          "data": {
            "text/plain": [
              "13"
            ]
          },
          "metadata": {},
          "execution_count": 58
        }
      ]
    },
    {
      "cell_type": "code",
      "source": [
        "s = \"안녕\"\n",
        "s\n"
      ],
      "metadata": {
        "colab": {
          "base_uri": "https://localhost:8080/",
          "height": 35
        },
        "id": "y45jDM3frzHh",
        "outputId": "92de91d1-8231-41e4-a8ef-e59abac9fece"
      },
      "execution_count": 60,
      "outputs": [
        {
          "output_type": "execute_result",
          "data": {
            "application/vnd.google.colaboratory.intrinsic+json": {
              "type": "string"
            },
            "text/plain": [
              "'안녕'"
            ]
          },
          "metadata": {},
          "execution_count": 60
        }
      ]
    },
    {
      "cell_type": "markdown",
      "source": [
        "#Markdown"
      ],
      "metadata": {
        "id": "zBYbsfd9smJ4"
      }
    },
    {
      "cell_type": "markdown",
      "source": [
        "|first|second|third|\n",
        "|:--|--:|:--:|\n",
        "|cell1|cell2|cell3|\n",
        "\n",
        "\"Bald\n",
        "**줄생성**\n",
        "Italic\n",
        "*Hi*\"\n",
        "\n",
        "\"다음은 이것\"\n",
        "\n",
        "\"들여쓰기\"\n",
        "\n",
        "***\n",
        "~~~\n",
        "//java,kotlin 모두 구현 가능\n",
        "print.ln(\"Hellow World\");\n",
        "~~~\n",
        "\n",
        "###List\n",
        "\n",
        ">Shopping\n",
        " >>egg\n",
        " >>>Eggfri\n",
        "\n",
        "\n",
        " * shoppingList\n",
        "  * egg\n",
        "  * cucomber\n",
        "\n",
        "\n"
      ],
      "metadata": {
        "id": "TM8y144hw4MB"
      }
    },
    {
      "cell_type": "markdown",
      "source": [
        ""
      ],
      "metadata": {
        "id": "gcKBwzAcw26h"
      }
    },
    {
      "cell_type": "markdown",
      "source": [
        "# 제목 1\n",
        "## 제목 2\n",
        "### 제목 3\n",
        "#### 제목 4\n",
        "##### 제목 5\n",
        "###### 제목 6\n",
        "\n",
        "[GOOGLE들어가는 네임](https://google.com)\n",
        "\n",
        "[NAVER](https://naver.com \"링크 설명(title)을 작성하세요.\")\n",
        "\n",
        "[상대적 참조](../users/login)\n",
        "\n",
        "[Dribbble][Dribbble link]\n",
        "\n",
        "[GitHub][1]\n",
        "\n",
        "문서 안에서 [참조 링크]를 그대로 사용할 수도 있습니다.\n",
        "\n",
        "다음과 같이 문서 내 일반 URL이나 꺾쇠 괄호(`< >`, Angle Brackets)안의 URL은 자동으로 링크를 사용합니다.\n",
        "구글 홈페이지: https://google.com\n",
        "네이버 홈페이지: <https://naver.com>\n",
        "\n",
        "[Dribbble link]: https://dribbble.com\n",
        "[1]: https://github.com\n",
        "[참조 링크]: https://naver.com \"네이버로 이동합니다!\"\n",
        "\n",
        "![대체 텍스트(alternative text)를 입력하세요!](http://www.gstatic.com/webp/gallery/5.jpg \"링크 설명(title)을 작성하세요.\")\n",
        "\n",
        "![Kayak][logo]\n",
        "\n",
        "[logo]: http://www.gstatic.com/webp/gallery/2.jpg \"To go kayaking.\"\n",
        "\n",
        "[![Vue](/images/vue.png)](https://kr.vuejs.org/)\n",
        "\n",
        "동해물과 백두산이 마르고 닳도록 \n",
        "하느님이 보우하사 우리나라 만세   <!--띄어쓰기 2번-->\n",
        "무궁화 삼천리 화려 강산<br>\n",
        "대한 사람 대한으로 길이 보전하세\n",
        "\n",
        "| 값 | 의미 | 기본값 |\n",
        "|---|:---:|---:|\n",
        "| `static` | 유형(기준) 없음 / 배치 불가능 | `static` |\n",
        "| `relative` | 요소 자신을 기준으로 배치 |  |\n",
        "| `absolute` | 위치 상 부모(조상)요소를 기준으로 배치 |  |\n",
        "| `fixed` | 브라우저 창을 기준으로 배치 |  |\n",
        "\n",
        "값 | 의미 | 기본값\n",
        "---|:---:|---:\n",
        "`static` | 유형(기준) 없음 / 배치 불가능 | `static`\n",
        "`relative` | 요소 **자신**을 기준으로 배치 |\n",
        "`absolute` | 위치 상 **_부모_(조상)요소**를 기준으로 배치 |\n",
        "`fixed` | **브라우저 창**을 기준으로 배치 |\n",
        "\n",
        "\n",
        "인용문(blockQuote)\n",
        "\n",
        "> 남의 말이나 글에서 직접 또는 간접으로 따온 문장.\n",
        "> _(네이버 국어 사전)_\n",
        "\n",
        "BREAK!\n",
        "\n",
        "> 인용문을 작성하세요!\n",
        ">> 중첩된 인용문(nested blockquote)을 만들 수 있습니다.\n",
        ">>> 중중첩된 인용문 1\n",
        ">>> 중중첩된 인용문 2\n",
        ">>> 중중첩된 인용문 3"
      ],
      "metadata": {
        "id": "3VWkupU1zYCJ"
      }
    },
    {
      "cell_type": "code",
      "source": [
        ""
      ],
      "metadata": {
        "id": "BJANH_dU20Tm"
      },
      "execution_count": null,
      "outputs": []
    },
    {
      "cell_type": "code",
      "source": [
        "i = 123\n",
        "print(type(i))\n",
        "\n"
      ],
      "metadata": {
        "colab": {
          "base_uri": "https://localhost:8080/"
        },
        "id": "NF2yEjsF2R8x",
        "outputId": "47d32411-7984-41ee-cf91-5ae1ba21f6d2"
      },
      "execution_count": 80,
      "outputs": [
        {
          "output_type": "stream",
          "name": "stdout",
          "text": [
            "<class 'int'>\n"
          ]
        }
      ]
    },
    {
      "cell_type": "code",
      "source": [
        "s = \"abc\"\n",
        "print(type(s))"
      ],
      "metadata": {
        "colab": {
          "base_uri": "https://localhost:8080/"
        },
        "id": "iQP_ZwVt2nVm",
        "outputId": "e187e3d0-6165-4ca9-81f2-f9b8b1944fcd"
      },
      "execution_count": 79,
      "outputs": [
        {
          "output_type": "stream",
          "name": "stdout",
          "text": [
            "<class 'str'>\n"
          ]
        }
      ]
    },
    {
      "cell_type": "code",
      "source": [
        "f = 3.14\n",
        "print(type(f))"
      ],
      "metadata": {
        "colab": {
          "base_uri": "https://localhost:8080/"
        },
        "id": "wu6Q7Mnz27yY",
        "outputId": "085e71e6-d11b-4846-9c4d-0b91bf197ef8"
      },
      "execution_count": 89,
      "outputs": [
        {
          "output_type": "stream",
          "name": "stdout",
          "text": [
            "<class 'float'>\n"
          ]
        }
      ]
    },
    {
      "cell_type": "code",
      "source": [
        "f = False \n",
        "print(type(f))"
      ],
      "metadata": {
        "colab": {
          "base_uri": "https://localhost:8080/"
        },
        "id": "dN73I9nN3rpG",
        "outputId": "9af7d642-4f8d-4a8b-dc57-20107bd1bc60"
      },
      "execution_count": 91,
      "outputs": [
        {
          "output_type": "stream",
          "name": "stdout",
          "text": [
            "<class 'bool'>\n"
          ]
        }
      ]
    },
    {
      "cell_type": "code",
      "source": [
        "i = 4124.124,\n",
        "print(type(i))"
      ],
      "metadata": {
        "colab": {
          "base_uri": "https://localhost:8080/"
        },
        "id": "7UHVyVDZ3wNg",
        "outputId": "f3c0ad81-3f38-4aa7-b004-968095774b25"
      },
      "execution_count": 110,
      "outputs": [
        {
          "output_type": "stream",
          "name": "stdout",
          "text": [
            "<class 'tuple'>\n"
          ]
        }
      ]
    },
    {
      "cell_type": "code",
      "source": [
        "20/6 , 20%6"
      ],
      "metadata": {
        "colab": {
          "base_uri": "https://localhost:8080/"
        },
        "id": "ilrEJfo-4O7v",
        "outputId": "20d1510e-bbea-40b3-c92b-c5df9d936015"
      },
      "execution_count": 109,
      "outputs": [
        {
          "output_type": "execute_result",
          "data": {
            "text/plain": [
              "(3.3333333333333335, 2)"
            ]
          },
          "metadata": {},
          "execution_count": 109
        }
      ]
    },
    {
      "cell_type": "code",
      "source": [
        "(-2)**4"
      ],
      "metadata": {
        "colab": {
          "base_uri": "https://localhost:8080/"
        },
        "id": "2hvaphIf5DPA",
        "outputId": "422dbe0b-0d82-4101-b15f-b5045ae8b348"
      },
      "execution_count": 108,
      "outputs": [
        {
          "output_type": "execute_result",
          "data": {
            "text/plain": [
              "16"
            ]
          },
          "metadata": {},
          "execution_count": 108
        }
      ]
    },
    {
      "cell_type": "code",
      "source": [
        "x=input('어떤 수?')\n",
        "# x \n",
        "# x +1 다음은 에러가남 -> x는 문자이기 때문에\n",
        "int(x)+1\n",
        "#시작 띄어쓰기 조심하기-> 시작 띄어쓰기 경우 컴파일 안됨.\n",
        "y=int(input('어떤 수?'))+1\n",
        "y"
      ],
      "metadata": {
        "colab": {
          "base_uri": "https://localhost:8080/"
        },
        "id": "XsqsCr3RLGAz",
        "outputId": "692a0525-d68f-465d-c4c2-51458d2f245c"
      },
      "execution_count": 129,
      "outputs": [
        {
          "name": "stdout",
          "output_type": "stream",
          "text": [
            "어떤 수?1\n",
            "어떤 수?3\n"
          ]
        },
        {
          "output_type": "execute_result",
          "data": {
            "text/plain": [
              "4"
            ]
          },
          "metadata": {},
          "execution_count": 129
        }
      ]
    },
    {
      "cell_type": "code",
      "source": [
        "import random\n",
        "x=random.randint(1,100)\n",
        "x"
      ],
      "metadata": {
        "colab": {
          "base_uri": "https://localhost:8080/"
        },
        "id": "lHyyDUi5MBnM",
        "outputId": "1ecf5989-c451-45d0-e811-3fe8ec3c1994"
      },
      "execution_count": 139,
      "outputs": [
        {
          "output_type": "execute_result",
          "data": {
            "text/plain": [
              "85"
            ]
          },
          "metadata": {},
          "execution_count": 139
        }
      ]
    },
    {
      "cell_type": "code",
      "source": [
        "if x%2 == 0:\n",
        "  print(\"짝수\")\n",
        "else:\n",
        "  print(\"홀수\")"
      ],
      "metadata": {
        "colab": {
          "base_uri": "https://localhost:8080/"
        },
        "id": "m-kbMvBEMZXM",
        "outputId": "43e9d52e-e50c-407e-abba-3b8b6dbb477b"
      },
      "execution_count": 143,
      "outputs": [
        {
          "output_type": "stream",
          "name": "stdout",
          "text": [
            "홀수\n"
          ]
        }
      ]
    },
    {
      "cell_type": "code",
      "source": [
        "2**2, pow(2,2), pow(2,-2), pow(-2,2)"
      ],
      "metadata": {
        "colab": {
          "base_uri": "https://localhost:8080/"
        },
        "id": "4uUKFbEmM7TM",
        "outputId": "7547b4f2-637f-403c-db02-608b9cff0cbb"
      },
      "execution_count": 148,
      "outputs": [
        {
          "output_type": "execute_result",
          "data": {
            "text/plain": [
              "(4, 4, 0.25, 4)"
            ]
          },
          "metadata": {},
          "execution_count": 148
        }
      ]
    },
    {
      "cell_type": "code",
      "source": [
        "print(\"ABSC\")"
      ],
      "metadata": {
        "colab": {
          "base_uri": "https://localhost:8080/"
        },
        "id": "s6qr5Pc9NiBb",
        "outputId": "752c4b1f-2e01-4916-9526-8dec3e167873"
      },
      "execution_count": 149,
      "outputs": [
        {
          "output_type": "stream",
          "name": "stdout",
          "text": [
            "ABSC\n"
          ]
        }
      ]
    },
    {
      "cell_type": "code",
      "source": [
        "print(\"A\",\"B\",\"C\",\"D\",\"E\" \"F\")"
      ],
      "metadata": {
        "colab": {
          "base_uri": "https://localhost:8080/"
        },
        "id": "GSWAbgbCNjkr",
        "outputId": "d6360fc1-6de8-412c-fc47-bcb2f2ffdc86"
      },
      "execution_count": 152,
      "outputs": [
        {
          "output_type": "stream",
          "name": "stdout",
          "text": [
            "A B C D EF\n"
          ]
        }
      ]
    },
    {
      "cell_type": "code",
      "source": [
        "print('ABC')\n",
        "print('DEF')"
      ],
      "metadata": {
        "colab": {
          "base_uri": "https://localhost:8080/"
        },
        "id": "yQcPuMieN_s8",
        "outputId": "b9e5cc3d-0b36-42d9-9d3c-60ad2e6a2885"
      },
      "execution_count": 154,
      "outputs": [
        {
          "output_type": "stream",
          "name": "stdout",
          "text": [
            "ABC\n",
            "DEF\n"
          ]
        }
      ]
    },
    {
      "cell_type": "code",
      "source": [
        "#sep는 공백한칸\n",
        "#end는 마지막 번째 줄에 어떤수를 쓸지 \n",
        "print('A','B','C',sep='')\n",
        "print('D','E','F')\n",
        "print('D','E','F',sep='',end = '1')"
      ],
      "metadata": {
        "colab": {
          "base_uri": "https://localhost:8080/"
        },
        "id": "HQZ8_MPxOIf7",
        "outputId": "06227671-2ca0-4609-c317-05b3dee46e76"
      },
      "execution_count": 158,
      "outputs": [
        {
          "output_type": "stream",
          "name": "stdout",
          "text": [
            "ABC\n",
            "D E F\n",
            "DEF1"
          ]
        }
      ]
    },
    {
      "cell_type": "code",
      "source": [
        "x=[]\n",
        "x,type(x)"
      ],
      "metadata": {
        "colab": {
          "base_uri": "https://localhost:8080/"
        },
        "id": "02VnRiljOGm7",
        "outputId": "da1ac3a4-1199-4b19-faba-9280bdee170e"
      },
      "execution_count": 162,
      "outputs": [
        {
          "output_type": "execute_result",
          "data": {
            "text/plain": [
              "([], list)"
            ]
          },
          "metadata": {},
          "execution_count": 162
        }
      ]
    },
    {
      "cell_type": "code",
      "source": [
        "x=[11,'B',33,'D']\n",
        "x,type(x)"
      ],
      "metadata": {
        "colab": {
          "base_uri": "https://localhost:8080/"
        },
        "id": "JaypzdnyPh9M",
        "outputId": "cb6d60c4-7c45-4ccd-d9c9-b7a01930dbb7"
      },
      "execution_count": 164,
      "outputs": [
        {
          "output_type": "execute_result",
          "data": {
            "text/plain": [
              "([11, 'B', 33, 'D'], list)"
            ]
          },
          "metadata": {},
          "execution_count": 164
        }
      ]
    },
    {
      "cell_type": "code",
      "source": [
        "x[0],x[1],x[2],x[3]"
      ],
      "metadata": {
        "colab": {
          "base_uri": "https://localhost:8080/"
        },
        "id": "oOkv2X6HPmzL",
        "outputId": "09b526bc-a0a1-4389-935d-2332d989cb6d"
      },
      "execution_count": 168,
      "outputs": [
        {
          "output_type": "execute_result",
          "data": {
            "text/plain": [
              "(11, 'B', 33, 'D')"
            ]
          },
          "metadata": {},
          "execution_count": 168
        }
      ]
    },
    {
      "cell_type": "code",
      "source": [
        "x[-0],x[-1],x[-2],x[-3]"
      ],
      "metadata": {
        "colab": {
          "base_uri": "https://localhost:8080/"
        },
        "id": "t7BcnLjvPz4M",
        "outputId": "4aed1987-21fc-4a75-de8c-86beaf527fb8"
      },
      "execution_count": 172,
      "outputs": [
        {
          "output_type": "execute_result",
          "data": {
            "text/plain": [
              "(11, 'D', 33, 'B')"
            ]
          },
          "metadata": {},
          "execution_count": 172
        }
      ]
    },
    {
      "cell_type": "code",
      "source": [
        "#똑같이 범위를 넘게 된다면 C/C++과 똑같은 오류 발생\n",
        "x[4]"
      ],
      "metadata": {
        "colab": {
          "base_uri": "https://localhost:8080/",
          "height": 193
        },
        "id": "-ZgPBpApP3ub",
        "outputId": "4733a47c-48f7-47e2-db0a-a245088e39c5"
      },
      "execution_count": 173,
      "outputs": [
        {
          "output_type": "error",
          "ename": "IndexError",
          "evalue": "ignored",
          "traceback": [
            "\u001b[0;31m---------------------------------------------------------------------------\u001b[0m",
            "\u001b[0;31mIndexError\u001b[0m                                Traceback (most recent call last)",
            "\u001b[0;32m<ipython-input-173-79ac0e936e37>\u001b[0m in \u001b[0;36m<module>\u001b[0;34m()\u001b[0m\n\u001b[1;32m      1\u001b[0m \u001b[0;31m#똑같이 범위를 넘게 된다면 C/C++과 똑같은 오류 발생\u001b[0m\u001b[0;34m\u001b[0m\u001b[0;34m\u001b[0m\u001b[0;34m\u001b[0m\u001b[0m\n\u001b[0;32m----> 2\u001b[0;31m \u001b[0mx\u001b[0m\u001b[0;34m[\u001b[0m\u001b[0;36m4\u001b[0m\u001b[0;34m]\u001b[0m\u001b[0;34m\u001b[0m\u001b[0;34m\u001b[0m\u001b[0m\n\u001b[0m",
            "\u001b[0;31mIndexError\u001b[0m: list index out of range"
          ]
        }
      ]
    },
    {
      "cell_type": "code",
      "source": [
        "#범위를 나타냄 \n",
        "x[0:3],x[:3],x[0:],x[:]"
      ],
      "metadata": {
        "colab": {
          "base_uri": "https://localhost:8080/"
        },
        "id": "4zU40qXYQPwr",
        "outputId": "754149b9-ca80-4fd5-f461-34db5325dc05"
      },
      "execution_count": 178,
      "outputs": [
        {
          "output_type": "execute_result",
          "data": {
            "text/plain": [
              "([11, 'B', 33], [11, 'B', 33], [11, 'B', 33, 'D'], [11, 'B', 33, 'D'])"
            ]
          },
          "metadata": {},
          "execution_count": 178
        }
      ]
    }
  ]
}