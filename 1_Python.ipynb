{
  "nbformat": 4,
  "nbformat_minor": 0,
  "metadata": {
    "colab": {
      "name": "1.Python.ipynb",
      "provenance": [],
      "collapsed_sections": [],
      "authorship_tag": "ABX9TyPMgbo4S91nL00EXZNupsrZ",
      "include_colab_link": true
    },
    "kernelspec": {
      "name": "python3",
      "display_name": "Python 3"
    },
    "language_info": {
      "name": "python"
    }
  },
  "cells": [
    {
      "cell_type": "markdown",
      "metadata": {
        "id": "view-in-github",
        "colab_type": "text"
      },
      "source": [
        "<a href=\"https://colab.research.google.com/github/kimdonggyufive/OpenReposit/blob/main/1_Python.ipynb\" target=\"_parent\"><img src=\"https://colab.research.google.com/assets/colab-badge.svg\" alt=\"Open In Colab\"/></a>"
      ]
    },
    {
      "cell_type": "code",
      "source": [
        "#test\n",
        "#제일 아래의 출력문은 생략이 가능하다.\n",
        "1+1\n",
        "print(1+1)\n",
        "2+2"
      ],
      "metadata": {
        "colab": {
          "base_uri": "https://localhost:8080/"
        },
        "id": "Jjnfmlj4eIZt",
        "outputId": "28f568d3-3818-483f-a233-5d6aac9ec5f0"
      },
      "execution_count": 42,
      "outputs": [
        {
          "output_type": "stream",
          "name": "stdout",
          "text": [
            "2\n"
          ]
        },
        {
          "output_type": "execute_result",
          "data": {
            "text/plain": [
              "4"
            ]
          },
          "metadata": {},
          "execution_count": 42
        }
      ]
    },
    {
      "cell_type": "code",
      "source": [
        "#test1\n",
        "a = 2 \n",
        "print(a)"
      ],
      "metadata": {
        "colab": {
          "base_uri": "https://localhost:8080/"
        },
        "id": "NTKIYGKLeqJW",
        "outputId": "61124132-4d4f-46b0-d186-c0d45005874b"
      },
      "execution_count": null,
      "outputs": [
        {
          "output_type": "stream",
          "name": "stdout",
          "text": [
            "2\n"
          ]
        }
      ]
    },
    {
      "cell_type": "code",
      "execution_count": null,
      "metadata": {
        "colab": {
          "base_uri": "https://localhost:8080/"
        },
        "id": "Dj7EiT9BchXu",
        "outputId": "96131411-c1ac-463c-ddcf-3ac508230f7d"
      },
      "outputs": [
        {
          "output_type": "stream",
          "name": "stdout",
          "text": [
            "first pythonStart\n",
            "Second pythonStart\n",
            "\n",
            "third Line\n"
          ]
        }
      ],
      "source": [
        "#test2\n",
        "print(\"first pythonStart\")\n",
        "print(\"Second pythonStart\\n\")\n",
        "print(\"third Line\")"
      ]
    },
    {
      "cell_type": "code",
      "source": [
        "#test3\n",
        "0x11"
      ],
      "metadata": {
        "id": "XCuapJO-fCQE",
        "colab": {
          "base_uri": "https://localhost:8080/"
        },
        "outputId": "485e45da-a39e-4f80-905b-075ab0aa217b"
      },
      "execution_count": 27,
      "outputs": [
        {
          "output_type": "execute_result",
          "data": {
            "text/plain": [
              "17"
            ]
          },
          "metadata": {},
          "execution_count": 27
        }
      ]
    },
    {
      "cell_type": "code",
      "source": [
        "#9진법\n",
        "0o11\n",
        "#2진법\n",
        "0b11"
      ],
      "metadata": {
        "colab": {
          "base_uri": "https://localhost:8080/"
        },
        "id": "3d0hkyG4pSbp",
        "outputId": "ec447aaa-9e56-4476-d1b0-1f583e2ddbdf"
      },
      "execution_count": 31,
      "outputs": [
        {
          "output_type": "execute_result",
          "data": {
            "text/plain": [
              "3"
            ]
          },
          "metadata": {},
          "execution_count": 31
        }
      ]
    },
    {
      "cell_type": "code",
      "source": [
        "print(\"'Hellow' World\")"
      ],
      "metadata": {
        "colab": {
          "base_uri": "https://localhost:8080/"
        },
        "id": "cKLCn1m5pbBS",
        "outputId": "8e25b3fa-65a4-4300-b739-fb89646cca71"
      },
      "execution_count": 35,
      "outputs": [
        {
          "output_type": "stream",
          "name": "stdout",
          "text": [
            "'Hellow' World\n"
          ]
        }
      ]
    },
    {
      "cell_type": "code",
      "source": [
        "#작은 따옴표 아래에 큰 따옴표가 올 수 있다.\n",
        "print('\"Hellow\" World')"
      ],
      "metadata": {
        "colab": {
          "base_uri": "https://localhost:8080/"
        },
        "id": "bxVrxaa1pcFx",
        "outputId": "c43cd9a2-02b6-4b59-be45-746cdfb4d58d"
      },
      "execution_count": 37,
      "outputs": [
        {
          "output_type": "stream",
          "name": "stdout",
          "text": [
            "\"Hellow\" World\n"
          ]
        }
      ]
    },
    {
      "cell_type": "code",
      "source": [
        ""
      ],
      "metadata": {
        "id": "gGcjpbdcp1xC"
      },
      "execution_count": null,
      "outputs": []
    }
  ]
}