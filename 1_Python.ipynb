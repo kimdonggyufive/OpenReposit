{
  "nbformat": 4,
  "nbformat_minor": 0,
  "metadata": {
    "colab": {
      "name": "1.Python.ipynb",
      "provenance": [],
      "collapsed_sections": [],
      "authorship_tag": "ABX9TyM2rt/0R2zyGIVx8ei5z6Ti",
      "include_colab_link": true
    },
    "kernelspec": {
      "name": "python3",
      "display_name": "Python 3"
    },
    "language_info": {
      "name": "python"
    }
  },
  "cells": [
    {
      "cell_type": "markdown",
      "metadata": {
        "id": "view-in-github",
        "colab_type": "text"
      },
      "source": [
        "<a href=\"https://colab.research.google.com/github/kimdonggyufive/OpenReposit/blob/main/1_Python.ipynb\" target=\"_parent\"><img src=\"https://colab.research.google.com/assets/colab-badge.svg\" alt=\"Open In Colab\"/></a>"
      ]
    },
    {
      "cell_type": "code",
      "source": [
        "#test\n",
        "#제일 아래의 출력문은 생략이 가능하다.\n",
        "1+1\n",
        "print(1+1)\n",
        "2+2"
      ],
      "metadata": {
        "colab": {
          "base_uri": "https://localhost:8080/"
        },
        "id": "Jjnfmlj4eIZt",
        "outputId": "28f568d3-3818-483f-a233-5d6aac9ec5f0"
      },
      "execution_count": 42,
      "outputs": [
        {
          "output_type": "stream",
          "name": "stdout",
          "text": [
            "2\n"
          ]
        },
        {
          "output_type": "execute_result",
          "data": {
            "text/plain": [
              "4"
            ]
          },
          "metadata": {},
          "execution_count": 42
        }
      ]
    },
    {
      "cell_type": "code",
      "source": [
        "#test1\n",
        "a = 2 \n",
        "print(a)"
      ],
      "metadata": {
        "colab": {
          "base_uri": "https://localhost:8080/"
        },
        "id": "NTKIYGKLeqJW",
        "outputId": "61124132-4d4f-46b0-d186-c0d45005874b"
      },
      "execution_count": null,
      "outputs": [
        {
          "output_type": "stream",
          "name": "stdout",
          "text": [
            "2\n"
          ]
        }
      ]
    },
    {
      "cell_type": "code",
      "execution_count": null,
      "metadata": {
        "colab": {
          "base_uri": "https://localhost:8080/"
        },
        "id": "Dj7EiT9BchXu",
        "outputId": "96131411-c1ac-463c-ddcf-3ac508230f7d"
      },
      "outputs": [
        {
          "output_type": "stream",
          "name": "stdout",
          "text": [
            "first pythonStart\n",
            "Second pythonStart\n",
            "\n",
            "third Line\n"
          ]
        }
      ],
      "source": [
        "#test2\n",
        "print(\"first pythonStart\")\n",
        "print(\"Second pythonStart\\n\")\n",
        "print(\"third Line\")"
      ]
    },
    {
      "cell_type": "code",
      "source": [
        "#test3\n",
        "0x11"
      ],
      "metadata": {
        "id": "XCuapJO-fCQE",
        "colab": {
          "base_uri": "https://localhost:8080/"
        },
        "outputId": "485e45da-a39e-4f80-905b-075ab0aa217b"
      },
      "execution_count": 27,
      "outputs": [
        {
          "output_type": "execute_result",
          "data": {
            "text/plain": [
              "17"
            ]
          },
          "metadata": {},
          "execution_count": 27
        }
      ]
    },
    {
      "cell_type": "code",
      "source": [
        "#9진법\n",
        "0o11\n",
        "#2진법\n",
        "0b11"
      ],
      "metadata": {
        "colab": {
          "base_uri": "https://localhost:8080/"
        },
        "id": "3d0hkyG4pSbp",
        "outputId": "ec447aaa-9e56-4476-d1b0-1f583e2ddbdf"
      },
      "execution_count": 31,
      "outputs": [
        {
          "output_type": "execute_result",
          "data": {
            "text/plain": [
              "3"
            ]
          },
          "metadata": {},
          "execution_count": 31
        }
      ]
    },
    {
      "cell_type": "code",
      "source": [
        "print(\"'Hellow' World\")"
      ],
      "metadata": {
        "colab": {
          "base_uri": "https://localhost:8080/"
        },
        "id": "cKLCn1m5pbBS",
        "outputId": "8e25b3fa-65a4-4300-b739-fb89646cca71"
      },
      "execution_count": 35,
      "outputs": [
        {
          "output_type": "stream",
          "name": "stdout",
          "text": [
            "'Hellow' World\n"
          ]
        }
      ]
    },
    {
      "cell_type": "code",
      "source": [
        "#작은 따옴표 아래에 큰 따옴표가 올 수 있다.\n",
        "print('\"Hellow\" World')"
      ],
      "metadata": {
        "colab": {
          "base_uri": "https://localhost:8080/"
        },
        "id": "bxVrxaa1pcFx",
        "outputId": "c43cd9a2-02b6-4b59-be45-746cdfb4d58d"
      },
      "execution_count": 37,
      "outputs": [
        {
          "output_type": "stream",
          "name": "stdout",
          "text": [
            "\"Hellow\" World\n"
          ]
        }
      ]
    },
    {
      "cell_type": "code",
      "source": [
        "#variables"
      ],
      "metadata": {
        "id": "gGcjpbdcp1xC"
      },
      "execution_count": 43,
      "outputs": []
    },
    {
      "cell_type": "markdown",
      "source": [
        "#Variables"
      ],
      "metadata": {
        "id": "UCinquxAqmQL"
      }
    },
    {
      "cell_type": "code",
      "source": [
        "x = 1\n",
        "x "
      ],
      "metadata": {
        "colab": {
          "base_uri": "https://localhost:8080/"
        },
        "id": "XDo-jVY-qv9B",
        "outputId": "8c8f182c-3340-4a26-926f-ebe0e48231af"
      },
      "execution_count": 55,
      "outputs": [
        {
          "output_type": "execute_result",
          "data": {
            "text/plain": [
              "1"
            ]
          },
          "metadata": {},
          "execution_count": 55
        }
      ]
    },
    {
      "cell_type": "code",
      "source": [
        "x = x*3\n",
        "x"
      ],
      "metadata": {
        "colab": {
          "base_uri": "https://localhost:8080/"
        },
        "id": "Wi-Yvn4arSbi",
        "outputId": "60bfd8cf-108c-4ff7-bfd0-0d9509bfa2d0"
      },
      "execution_count": 56,
      "outputs": [
        {
          "output_type": "execute_result",
          "data": {
            "text/plain": [
              "3"
            ]
          },
          "metadata": {},
          "execution_count": 56
        }
      ]
    },
    {
      "cell_type": "code",
      "source": [
        "x = x+5\n",
        "x\n"
      ],
      "metadata": {
        "colab": {
          "base_uri": "https://localhost:8080/"
        },
        "id": "6biXxAJlrVlS",
        "outputId": "9a83de5b-a854-4f1f-91e7-c648984f2eca"
      },
      "execution_count": 58,
      "outputs": [
        {
          "output_type": "execute_result",
          "data": {
            "text/plain": [
              "13"
            ]
          },
          "metadata": {},
          "execution_count": 58
        }
      ]
    },
    {
      "cell_type": "code",
      "source": [
        "s = \"안녕\"\n",
        "s\n"
      ],
      "metadata": {
        "colab": {
          "base_uri": "https://localhost:8080/",
          "height": 35
        },
        "id": "y45jDM3frzHh",
        "outputId": "92de91d1-8231-41e4-a8ef-e59abac9fece"
      },
      "execution_count": 60,
      "outputs": [
        {
          "output_type": "execute_result",
          "data": {
            "application/vnd.google.colaboratory.intrinsic+json": {
              "type": "string"
            },
            "text/plain": [
              "'안녕'"
            ]
          },
          "metadata": {},
          "execution_count": 60
        }
      ]
    },
    {
      "cell_type": "markdown",
      "source": [
        "#Markdown"
      ],
      "metadata": {
        "id": "zBYbsfd9smJ4"
      }
    },
    {
      "cell_type": "markdown",
      "source": [
        "|first|second|third|\n",
        "|:--|--:|:--:|\n",
        "|cell1|cell2|cell3|\n",
        "\n",
        "\"Bald\n",
        "**줄생성**\n",
        "Italic\n",
        "*Hi*\"\n",
        "\n",
        "\"다음은 이것\"\n",
        "\n",
        "\"들여쓰기\"\n",
        "\n",
        "***\n",
        "~~~\n",
        "//java,kotlin 모두 구현 가능\n",
        "print.ln(\"Hellow World\");\n",
        "~~~\n",
        "\n",
        "###List\n",
        "\n",
        ">Shopping\n",
        " >>egg\n",
        " >>>Eggfri\n",
        "\n",
        "\n",
        " * shoppingList\n",
        "  * egg\n",
        "  * cucomber\n",
        "\n",
        "\n"
      ],
      "metadata": {
        "id": "TM8y144hw4MB"
      }
    },
    {
      "cell_type": "markdown",
      "source": [
        ""
      ],
      "metadata": {
        "id": "gcKBwzAcw26h"
      }
    },
    {
      "cell_type": "markdown",
      "source": [
        "# 제목 1\n",
        "## 제목 2\n",
        "### 제목 3\n",
        "#### 제목 4\n",
        "##### 제목 5\n",
        "###### 제목 6\n",
        "\n",
        "[GOOGLE들어가는 네임](https://google.com)\n",
        "\n",
        "[NAVER](https://naver.com \"링크 설명(title)을 작성하세요.\")\n",
        "\n",
        "[상대적 참조](../users/login)\n",
        "\n",
        "[Dribbble][Dribbble link]\n",
        "\n",
        "[GitHub][1]\n",
        "\n",
        "문서 안에서 [참조 링크]를 그대로 사용할 수도 있습니다.\n",
        "\n",
        "다음과 같이 문서 내 일반 URL이나 꺾쇠 괄호(`< >`, Angle Brackets)안의 URL은 자동으로 링크를 사용합니다.\n",
        "구글 홈페이지: https://google.com\n",
        "네이버 홈페이지: <https://naver.com>\n",
        "\n",
        "[Dribbble link]: https://dribbble.com\n",
        "[1]: https://github.com\n",
        "[참조 링크]: https://naver.com \"네이버로 이동합니다!\""
      ],
      "metadata": {
        "id": "3VWkupU1zYCJ"
      }
    }
  ]
}