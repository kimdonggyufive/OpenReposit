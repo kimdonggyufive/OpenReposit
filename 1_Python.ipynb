{
  "nbformat": 4,
  "nbformat_minor": 0,
  "metadata": {
    "colab": {
      "name": "1.Python.ipynb",
      "provenance": [],
      "collapsed_sections": [],
      "toc_visible": true,
      "authorship_tag": "ABX9TyOWhRfdUv8kf1jTWcSTn6w4",
      "include_colab_link": true
    },
    "kernelspec": {
      "name": "python3",
      "display_name": "Python 3"
    },
    "language_info": {
      "name": "python"
    }
  },
  "cells": [
    {
      "cell_type": "markdown",
      "metadata": {
        "id": "view-in-github",
        "colab_type": "text"
      },
      "source": [
        "<a href=\"https://colab.research.google.com/github/kimdonggyufive/OpenReposit/blob/main/1_Python.ipynb\" target=\"_parent\"><img src=\"https://colab.research.google.com/assets/colab-badge.svg\" alt=\"Open In Colab\"/></a>"
      ]
    },
    {
      "cell_type": "code",
      "source": [
        "#test\n",
        "#제일 아래의 출력문은 생략이 가능하다.\n",
        "1+1\n",
        "print(1+1)\n",
        "2+2"
      ],
      "metadata": {
        "colab": {
          "base_uri": "https://localhost:8080/"
        },
        "id": "Jjnfmlj4eIZt",
        "outputId": "28f568d3-3818-483f-a233-5d6aac9ec5f0"
      },
      "execution_count": 42,
      "outputs": [
        {
          "output_type": "stream",
          "name": "stdout",
          "text": [
            "2\n"
          ]
        },
        {
          "output_type": "execute_result",
          "data": {
            "text/plain": [
              "4"
            ]
          },
          "metadata": {},
          "execution_count": 42
        }
      ]
    },
    {
      "cell_type": "code",
      "source": [
        "#test1\n",
        "a = 2 \n",
        "print(a)"
      ],
      "metadata": {
        "colab": {
          "base_uri": "https://localhost:8080/"
        },
        "id": "NTKIYGKLeqJW",
        "outputId": "61124132-4d4f-46b0-d186-c0d45005874b"
      },
      "execution_count": null,
      "outputs": [
        {
          "output_type": "stream",
          "name": "stdout",
          "text": [
            "2\n"
          ]
        }
      ]
    },
    {
      "cell_type": "code",
      "execution_count": null,
      "metadata": {
        "colab": {
          "base_uri": "https://localhost:8080/"
        },
        "id": "Dj7EiT9BchXu",
        "outputId": "96131411-c1ac-463c-ddcf-3ac508230f7d"
      },
      "outputs": [
        {
          "output_type": "stream",
          "name": "stdout",
          "text": [
            "first pythonStart\n",
            "Second pythonStart\n",
            "\n",
            "third Line\n"
          ]
        }
      ],
      "source": [
        "#test2\n",
        "print(\"first pythonStart\")\n",
        "print(\"Second pythonStart\\n\")\n",
        "print(\"third Line\")"
      ]
    },
    {
      "cell_type": "code",
      "source": [
        "#test3\n",
        "0x11"
      ],
      "metadata": {
        "id": "XCuapJO-fCQE",
        "colab": {
          "base_uri": "https://localhost:8080/"
        },
        "outputId": "485e45da-a39e-4f80-905b-075ab0aa217b"
      },
      "execution_count": 27,
      "outputs": [
        {
          "output_type": "execute_result",
          "data": {
            "text/plain": [
              "17"
            ]
          },
          "metadata": {},
          "execution_count": 27
        }
      ]
    },
    {
      "cell_type": "code",
      "source": [
        "#9진법\n",
        "0o11\n",
        "#2진법\n",
        "0b11"
      ],
      "metadata": {
        "colab": {
          "base_uri": "https://localhost:8080/"
        },
        "id": "3d0hkyG4pSbp",
        "outputId": "ec447aaa-9e56-4476-d1b0-1f583e2ddbdf"
      },
      "execution_count": 31,
      "outputs": [
        {
          "output_type": "execute_result",
          "data": {
            "text/plain": [
              "3"
            ]
          },
          "metadata": {},
          "execution_count": 31
        }
      ]
    },
    {
      "cell_type": "code",
      "source": [
        "print(\"'Hellow' World\")"
      ],
      "metadata": {
        "colab": {
          "base_uri": "https://localhost:8080/"
        },
        "id": "cKLCn1m5pbBS",
        "outputId": "8e25b3fa-65a4-4300-b739-fb89646cca71"
      },
      "execution_count": 35,
      "outputs": [
        {
          "output_type": "stream",
          "name": "stdout",
          "text": [
            "'Hellow' World\n"
          ]
        }
      ]
    },
    {
      "cell_type": "code",
      "source": [
        "#작은 따옴표 아래에 큰 따옴표가 올 수 있다.\n",
        "print('\"Hellow\" World')"
      ],
      "metadata": {
        "colab": {
          "base_uri": "https://localhost:8080/"
        },
        "id": "bxVrxaa1pcFx",
        "outputId": "c43cd9a2-02b6-4b59-be45-746cdfb4d58d"
      },
      "execution_count": 37,
      "outputs": [
        {
          "output_type": "stream",
          "name": "stdout",
          "text": [
            "\"Hellow\" World\n"
          ]
        }
      ]
    },
    {
      "cell_type": "code",
      "source": [
        "#variables"
      ],
      "metadata": {
        "id": "gGcjpbdcp1xC"
      },
      "execution_count": 43,
      "outputs": []
    },
    {
      "cell_type": "markdown",
      "source": [
        "#Variables"
      ],
      "metadata": {
        "id": "UCinquxAqmQL"
      }
    },
    {
      "cell_type": "code",
      "source": [
        "x = 1\n",
        "x "
      ],
      "metadata": {
        "colab": {
          "base_uri": "https://localhost:8080/"
        },
        "id": "XDo-jVY-qv9B",
        "outputId": "8c8f182c-3340-4a26-926f-ebe0e48231af"
      },
      "execution_count": 55,
      "outputs": [
        {
          "output_type": "execute_result",
          "data": {
            "text/plain": [
              "1"
            ]
          },
          "metadata": {},
          "execution_count": 55
        }
      ]
    },
    {
      "cell_type": "code",
      "source": [
        "x = x*3\n",
        "x"
      ],
      "metadata": {
        "colab": {
          "base_uri": "https://localhost:8080/"
        },
        "id": "Wi-Yvn4arSbi",
        "outputId": "60bfd8cf-108c-4ff7-bfd0-0d9509bfa2d0"
      },
      "execution_count": 56,
      "outputs": [
        {
          "output_type": "execute_result",
          "data": {
            "text/plain": [
              "3"
            ]
          },
          "metadata": {},
          "execution_count": 56
        }
      ]
    },
    {
      "cell_type": "code",
      "source": [
        "x = x+5\n",
        "x\n"
      ],
      "metadata": {
        "colab": {
          "base_uri": "https://localhost:8080/"
        },
        "id": "6biXxAJlrVlS",
        "outputId": "9a83de5b-a854-4f1f-91e7-c648984f2eca"
      },
      "execution_count": 58,
      "outputs": [
        {
          "output_type": "execute_result",
          "data": {
            "text/plain": [
              "13"
            ]
          },
          "metadata": {},
          "execution_count": 58
        }
      ]
    },
    {
      "cell_type": "code",
      "source": [
        "s = \"안녕\"\n",
        "s\n"
      ],
      "metadata": {
        "colab": {
          "base_uri": "https://localhost:8080/",
          "height": 35
        },
        "id": "y45jDM3frzHh",
        "outputId": "92de91d1-8231-41e4-a8ef-e59abac9fece"
      },
      "execution_count": 60,
      "outputs": [
        {
          "output_type": "execute_result",
          "data": {
            "application/vnd.google.colaboratory.intrinsic+json": {
              "type": "string"
            },
            "text/plain": [
              "'안녕'"
            ]
          },
          "metadata": {},
          "execution_count": 60
        }
      ]
    },
    {
      "cell_type": "markdown",
      "source": [
        "#Markdown"
      ],
      "metadata": {
        "id": "zBYbsfd9smJ4"
      }
    },
    {
      "cell_type": "markdown",
      "source": [
        "|first|second|third|\n",
        "|:--|--:|:--:|\n",
        "|cell1|cell2|cell3|\n",
        "\n",
        "\"Bald\n",
        "**줄생성**\n",
        "Italic\n",
        "*Hi*\"\n",
        "\n",
        "\"다음은 이것\"\n",
        "\n",
        "\"들여쓰기\"\n",
        "\n",
        "***\n",
        "~~~\n",
        "//java,kotlin 모두 구현 가능\n",
        "print.ln(\"Hellow World\");\n",
        "~~~\n",
        "\n",
        "###List\n",
        "\n",
        ">Shopping\n",
        " >>egg\n",
        " >>>Eggfri\n",
        "\n",
        "\n",
        " * shoppingList\n",
        "  * egg\n",
        "  * cucomber\n",
        "\n",
        "\n"
      ],
      "metadata": {
        "id": "TM8y144hw4MB"
      }
    },
    {
      "cell_type": "markdown",
      "source": [
        ""
      ],
      "metadata": {
        "id": "gcKBwzAcw26h"
      }
    },
    {
      "cell_type": "markdown",
      "source": [
        "# 제목 1\n",
        "## 제목 2\n",
        "### 제목 3\n",
        "#### 제목 4\n",
        "##### 제목 5\n",
        "###### 제목 6\n",
        "\n",
        "[GOOGLE들어가는 네임](https://google.com)\n",
        "\n",
        "[NAVER](https://naver.com \"링크 설명(title)을 작성하세요.\")\n",
        "\n",
        "[상대적 참조](../users/login)\n",
        "\n",
        "[Dribbble][Dribbble link]\n",
        "\n",
        "[GitHub][1]\n",
        "\n",
        "문서 안에서 [참조 링크]를 그대로 사용할 수도 있습니다.\n",
        "\n",
        "다음과 같이 문서 내 일반 URL이나 꺾쇠 괄호(`< >`, Angle Brackets)안의 URL은 자동으로 링크를 사용합니다.\n",
        "구글 홈페이지: https://google.com\n",
        "네이버 홈페이지: <https://naver.com>\n",
        "\n",
        "[Dribbble link]: https://dribbble.com\n",
        "[1]: https://github.com\n",
        "[참조 링크]: https://naver.com \"네이버로 이동합니다!\"\n",
        "\n",
        "![대체 텍스트(alternative text)를 입력하세요!](http://www.gstatic.com/webp/gallery/5.jpg \"링크 설명(title)을 작성하세요.\")\n",
        "\n",
        "![Kayak][logo]\n",
        "\n",
        "[logo]: http://www.gstatic.com/webp/gallery/2.jpg \"To go kayaking.\"\n",
        "\n",
        "[![Vue](/images/vue.png)](https://kr.vuejs.org/)\n",
        "\n",
        "동해물과 백두산이 마르고 닳도록 \n",
        "하느님이 보우하사 우리나라 만세   <!--띄어쓰기 2번-->\n",
        "무궁화 삼천리 화려 강산<br>\n",
        "대한 사람 대한으로 길이 보전하세\n",
        "\n",
        "| 값 | 의미 | 기본값 |\n",
        "|---|:---:|---:|\n",
        "| `static` | 유형(기준) 없음 / 배치 불가능 | `static` |\n",
        "| `relative` | 요소 자신을 기준으로 배치 |  |\n",
        "| `absolute` | 위치 상 부모(조상)요소를 기준으로 배치 |  |\n",
        "| `fixed` | 브라우저 창을 기준으로 배치 |  |\n",
        "\n",
        "값 | 의미 | 기본값\n",
        "---|:---:|---:\n",
        "`static` | 유형(기준) 없음 / 배치 불가능 | `static`\n",
        "`relative` | 요소 **자신**을 기준으로 배치 |\n",
        "`absolute` | 위치 상 **_부모_(조상)요소**를 기준으로 배치 |\n",
        "`fixed` | **브라우저 창**을 기준으로 배치 |\n",
        "\n",
        "\n",
        "인용문(blockQuote)\n",
        "\n",
        "> 남의 말이나 글에서 직접 또는 간접으로 따온 문장.\n",
        "> _(네이버 국어 사전)_\n",
        "\n",
        "BREAK!\n",
        "\n",
        "> 인용문을 작성하세요!\n",
        ">> 중첩된 인용문(nested blockquote)을 만들 수 있습니다.\n",
        ">>> 중중첩된 인용문 1\n",
        ">>> 중중첩된 인용문 2\n",
        ">>> 중중첩된 인용문 3"
      ],
      "metadata": {
        "id": "3VWkupU1zYCJ"
      }
    },
    {
      "cell_type": "code",
      "source": [
        ""
      ],
      "metadata": {
        "id": "BJANH_dU20Tm"
      },
      "execution_count": null,
      "outputs": []
    },
    {
      "cell_type": "code",
      "source": [
        "i = 123\n",
        "print(type(i))\n",
        "\n"
      ],
      "metadata": {
        "colab": {
          "base_uri": "https://localhost:8080/"
        },
        "id": "NF2yEjsF2R8x",
        "outputId": "47d32411-7984-41ee-cf91-5ae1ba21f6d2"
      },
      "execution_count": 80,
      "outputs": [
        {
          "output_type": "stream",
          "name": "stdout",
          "text": [
            "<class 'int'>\n"
          ]
        }
      ]
    },
    {
      "cell_type": "code",
      "source": [
        "s = \"abc\"\n",
        "print(type(s))"
      ],
      "metadata": {
        "colab": {
          "base_uri": "https://localhost:8080/"
        },
        "id": "iQP_ZwVt2nVm",
        "outputId": "e187e3d0-6165-4ca9-81f2-f9b8b1944fcd"
      },
      "execution_count": 79,
      "outputs": [
        {
          "output_type": "stream",
          "name": "stdout",
          "text": [
            "<class 'str'>\n"
          ]
        }
      ]
    },
    {
      "cell_type": "code",
      "source": [
        "f = 3.14\n",
        "print(type(f))"
      ],
      "metadata": {
        "colab": {
          "base_uri": "https://localhost:8080/"
        },
        "id": "wu6Q7Mnz27yY",
        "outputId": "085e71e6-d11b-4846-9c4d-0b91bf197ef8"
      },
      "execution_count": 89,
      "outputs": [
        {
          "output_type": "stream",
          "name": "stdout",
          "text": [
            "<class 'float'>\n"
          ]
        }
      ]
    },
    {
      "cell_type": "code",
      "source": [
        "f = False \n",
        "print(type(f))"
      ],
      "metadata": {
        "colab": {
          "base_uri": "https://localhost:8080/"
        },
        "id": "dN73I9nN3rpG",
        "outputId": "9af7d642-4f8d-4a8b-dc57-20107bd1bc60"
      },
      "execution_count": 91,
      "outputs": [
        {
          "output_type": "stream",
          "name": "stdout",
          "text": [
            "<class 'bool'>\n"
          ]
        }
      ]
    },
    {
      "cell_type": "code",
      "source": [
        "i = 4124.124,\n",
        "print(type(i))"
      ],
      "metadata": {
        "colab": {
          "base_uri": "https://localhost:8080/"
        },
        "id": "7UHVyVDZ3wNg",
        "outputId": "f3c0ad81-3f38-4aa7-b004-968095774b25"
      },
      "execution_count": 110,
      "outputs": [
        {
          "output_type": "stream",
          "name": "stdout",
          "text": [
            "<class 'tuple'>\n"
          ]
        }
      ]
    },
    {
      "cell_type": "code",
      "source": [
        "20/6 , 20%6"
      ],
      "metadata": {
        "colab": {
          "base_uri": "https://localhost:8080/"
        },
        "id": "ilrEJfo-4O7v",
        "outputId": "20d1510e-bbea-40b3-c92b-c5df9d936015"
      },
      "execution_count": 109,
      "outputs": [
        {
          "output_type": "execute_result",
          "data": {
            "text/plain": [
              "(3.3333333333333335, 2)"
            ]
          },
          "metadata": {},
          "execution_count": 109
        }
      ]
    },
    {
      "cell_type": "code",
      "source": [
        "(-2)**4"
      ],
      "metadata": {
        "colab": {
          "base_uri": "https://localhost:8080/"
        },
        "id": "2hvaphIf5DPA",
        "outputId": "422dbe0b-0d82-4101-b15f-b5045ae8b348"
      },
      "execution_count": 108,
      "outputs": [
        {
          "output_type": "execute_result",
          "data": {
            "text/plain": [
              "16"
            ]
          },
          "metadata": {},
          "execution_count": 108
        }
      ]
    },
    {
      "cell_type": "code",
      "source": [
        "x=input('어떤 수?')\n",
        "# x \n",
        "# x +1 다음은 에러가남 -> x는 문자이기 때문에\n",
        "int(x)+1\n",
        "#시작 띄어쓰기 조심하기-> 시작 띄어쓰기 경우 컴파일 안됨.\n",
        "y=int(input('어떤 수?'))+1\n",
        "y"
      ],
      "metadata": {
        "colab": {
          "base_uri": "https://localhost:8080/"
        },
        "id": "XsqsCr3RLGAz",
        "outputId": "692a0525-d68f-465d-c4c2-51458d2f245c"
      },
      "execution_count": 129,
      "outputs": [
        {
          "name": "stdout",
          "output_type": "stream",
          "text": [
            "어떤 수?1\n",
            "어떤 수?3\n"
          ]
        },
        {
          "output_type": "execute_result",
          "data": {
            "text/plain": [
              "4"
            ]
          },
          "metadata": {},
          "execution_count": 129
        }
      ]
    },
    {
      "cell_type": "code",
      "source": [
        "import random\n",
        "x=random.randint(1,100)\n",
        "x"
      ],
      "metadata": {
        "colab": {
          "base_uri": "https://localhost:8080/"
        },
        "id": "lHyyDUi5MBnM",
        "outputId": "1ecf5989-c451-45d0-e811-3fe8ec3c1994"
      },
      "execution_count": 139,
      "outputs": [
        {
          "output_type": "execute_result",
          "data": {
            "text/plain": [
              "85"
            ]
          },
          "metadata": {},
          "execution_count": 139
        }
      ]
    },
    {
      "cell_type": "code",
      "source": [
        "if x%2 == 0:\n",
        "  print(\"짝수\")\n",
        "else:\n",
        "  print(\"홀수\")"
      ],
      "metadata": {
        "colab": {
          "base_uri": "https://localhost:8080/"
        },
        "id": "m-kbMvBEMZXM",
        "outputId": "43e9d52e-e50c-407e-abba-3b8b6dbb477b"
      },
      "execution_count": 143,
      "outputs": [
        {
          "output_type": "stream",
          "name": "stdout",
          "text": [
            "홀수\n"
          ]
        }
      ]
    },
    {
      "cell_type": "code",
      "source": [
        "2**2, pow(2,2), pow(2,-2), pow(-2,2)"
      ],
      "metadata": {
        "colab": {
          "base_uri": "https://localhost:8080/"
        },
        "id": "4uUKFbEmM7TM",
        "outputId": "7547b4f2-637f-403c-db02-608b9cff0cbb"
      },
      "execution_count": 148,
      "outputs": [
        {
          "output_type": "execute_result",
          "data": {
            "text/plain": [
              "(4, 4, 0.25, 4)"
            ]
          },
          "metadata": {},
          "execution_count": 148
        }
      ]
    },
    {
      "cell_type": "code",
      "source": [
        "print(\"ABSC\")"
      ],
      "metadata": {
        "colab": {
          "base_uri": "https://localhost:8080/"
        },
        "id": "s6qr5Pc9NiBb",
        "outputId": "752c4b1f-2e01-4916-9526-8dec3e167873"
      },
      "execution_count": 149,
      "outputs": [
        {
          "output_type": "stream",
          "name": "stdout",
          "text": [
            "ABSC\n"
          ]
        }
      ]
    },
    {
      "cell_type": "code",
      "source": [
        "print(\"A\",\"B\",\"C\",\"D\",\"E\" \"F\")"
      ],
      "metadata": {
        "colab": {
          "base_uri": "https://localhost:8080/"
        },
        "id": "GSWAbgbCNjkr",
        "outputId": "d6360fc1-6de8-412c-fc47-bcb2f2ffdc86"
      },
      "execution_count": 152,
      "outputs": [
        {
          "output_type": "stream",
          "name": "stdout",
          "text": [
            "A B C D EF\n"
          ]
        }
      ]
    },
    {
      "cell_type": "code",
      "source": [
        "print('ABC')\n",
        "print('DEF')"
      ],
      "metadata": {
        "colab": {
          "base_uri": "https://localhost:8080/"
        },
        "id": "yQcPuMieN_s8",
        "outputId": "b9e5cc3d-0b36-42d9-9d3c-60ad2e6a2885"
      },
      "execution_count": 154,
      "outputs": [
        {
          "output_type": "stream",
          "name": "stdout",
          "text": [
            "ABC\n",
            "DEF\n"
          ]
        }
      ]
    },
    {
      "cell_type": "code",
      "source": [
        "#sep는 공백한칸\n",
        "#end는 마지막 번째 줄에 어떤수를 쓸지 \n",
        "print('A','B','C',sep='')\n",
        "print('D','E','F')\n",
        "print('D','E','F',sep='',end = '1')"
      ],
      "metadata": {
        "colab": {
          "base_uri": "https://localhost:8080/"
        },
        "id": "HQZ8_MPxOIf7",
        "outputId": "06227671-2ca0-4609-c317-05b3dee46e76"
      },
      "execution_count": 158,
      "outputs": [
        {
          "output_type": "stream",
          "name": "stdout",
          "text": [
            "ABC\n",
            "D E F\n",
            "DEF1"
          ]
        }
      ]
    },
    {
      "cell_type": "code",
      "source": [
        "x=[]\n",
        "x,type(x)"
      ],
      "metadata": {
        "colab": {
          "base_uri": "https://localhost:8080/"
        },
        "id": "02VnRiljOGm7",
        "outputId": "da1ac3a4-1199-4b19-faba-9280bdee170e"
      },
      "execution_count": 162,
      "outputs": [
        {
          "output_type": "execute_result",
          "data": {
            "text/plain": [
              "([], list)"
            ]
          },
          "metadata": {},
          "execution_count": 162
        }
      ]
    },
    {
      "cell_type": "code",
      "source": [
        "x=[11,'B',33,'D']\n",
        "x,type(x)"
      ],
      "metadata": {
        "colab": {
          "base_uri": "https://localhost:8080/"
        },
        "id": "JaypzdnyPh9M",
        "outputId": "cb6d60c4-7c45-4ccd-d9c9-b7a01930dbb7"
      },
      "execution_count": 164,
      "outputs": [
        {
          "output_type": "execute_result",
          "data": {
            "text/plain": [
              "([11, 'B', 33, 'D'], list)"
            ]
          },
          "metadata": {},
          "execution_count": 164
        }
      ]
    },
    {
      "cell_type": "code",
      "source": [
        "x[0],x[1],x[2],x[3]"
      ],
      "metadata": {
        "colab": {
          "base_uri": "https://localhost:8080/"
        },
        "id": "oOkv2X6HPmzL",
        "outputId": "09b526bc-a0a1-4389-935d-2332d989cb6d"
      },
      "execution_count": 168,
      "outputs": [
        {
          "output_type": "execute_result",
          "data": {
            "text/plain": [
              "(11, 'B', 33, 'D')"
            ]
          },
          "metadata": {},
          "execution_count": 168
        }
      ]
    },
    {
      "cell_type": "code",
      "source": [
        "x[-0],x[-1],x[-2],x[-3]"
      ],
      "metadata": {
        "colab": {
          "base_uri": "https://localhost:8080/"
        },
        "id": "t7BcnLjvPz4M",
        "outputId": "4aed1987-21fc-4a75-de8c-86beaf527fb8"
      },
      "execution_count": 172,
      "outputs": [
        {
          "output_type": "execute_result",
          "data": {
            "text/plain": [
              "(11, 'D', 33, 'B')"
            ]
          },
          "metadata": {},
          "execution_count": 172
        }
      ]
    },
    {
      "cell_type": "code",
      "source": [
        "#똑같이 범위를 넘게 된다면 C/C++과 똑같은 오류 발생\n",
        "x[4]"
      ],
      "metadata": {
        "colab": {
          "base_uri": "https://localhost:8080/",
          "height": 193
        },
        "id": "-ZgPBpApP3ub",
        "outputId": "4733a47c-48f7-47e2-db0a-a245088e39c5"
      },
      "execution_count": 173,
      "outputs": [
        {
          "output_type": "error",
          "ename": "IndexError",
          "evalue": "ignored",
          "traceback": [
            "\u001b[0;31m---------------------------------------------------------------------------\u001b[0m",
            "\u001b[0;31mIndexError\u001b[0m                                Traceback (most recent call last)",
            "\u001b[0;32m<ipython-input-173-79ac0e936e37>\u001b[0m in \u001b[0;36m<module>\u001b[0;34m()\u001b[0m\n\u001b[1;32m      1\u001b[0m \u001b[0;31m#똑같이 범위를 넘게 된다면 C/C++과 똑같은 오류 발생\u001b[0m\u001b[0;34m\u001b[0m\u001b[0;34m\u001b[0m\u001b[0;34m\u001b[0m\u001b[0m\n\u001b[0;32m----> 2\u001b[0;31m \u001b[0mx\u001b[0m\u001b[0;34m[\u001b[0m\u001b[0;36m4\u001b[0m\u001b[0;34m]\u001b[0m\u001b[0;34m\u001b[0m\u001b[0;34m\u001b[0m\u001b[0m\n\u001b[0m",
            "\u001b[0;31mIndexError\u001b[0m: list index out of range"
          ]
        }
      ]
    },
    {
      "cell_type": "code",
      "source": [
        "#범위를 나타냄 \n",
        "x[0:3],x[:3],x[0:],x[:]"
      ],
      "metadata": {
        "colab": {
          "base_uri": "https://localhost:8080/"
        },
        "id": "4zU40qXYQPwr",
        "outputId": "b92ac14d-2908-4b4b-bf75-6b246b6a219a"
      },
      "execution_count": 179,
      "outputs": [
        {
          "output_type": "execute_result",
          "data": {
            "text/plain": [
              "([11, 'B', 33], [11, 'B', 33], [11, 'B', 33, 'D'], [11, 'B', 33, 'D'])"
            ]
          },
          "metadata": {},
          "execution_count": 179
        }
      ]
    },
    {
      "cell_type": "code",
      "source": [
        "#제일 끝에것 빼고 나머지 모두를 보여준다.\n",
        "x[:-1]"
      ],
      "metadata": {
        "colab": {
          "base_uri": "https://localhost:8080/"
        },
        "id": "yLJOSsscRDuc",
        "outputId": "e3ca190c-7000-4653-8c6e-2c9ed3dcc953"
      },
      "execution_count": 183,
      "outputs": [
        {
          "output_type": "execute_result",
          "data": {
            "text/plain": [
              "[11, 'B', 33]"
            ]
          },
          "metadata": {},
          "execution_count": 183
        }
      ]
    },
    {
      "cell_type": "code",
      "source": [
        "#값이 나오게 되는데, :을 넣게 되면 List형태로 표현된다.\n",
        "x[-1]"
      ],
      "metadata": {
        "colab": {
          "base_uri": "https://localhost:8080/",
          "height": 35
        },
        "id": "voqy52wxR_2b",
        "outputId": "e7150d34-dc90-4ba0-b9a9-47988f3c8b1d"
      },
      "execution_count": 184,
      "outputs": [
        {
          "output_type": "execute_result",
          "data": {
            "application/vnd.google.colaboratory.intrinsic+json": {
              "type": "string"
            },
            "text/plain": [
              "'D'"
            ]
          },
          "metadata": {},
          "execution_count": 184
        }
      ]
    },
    {
      "cell_type": "code",
      "source": [
        "type(x[1])\n",
        "type(x[:-1])"
      ],
      "metadata": {
        "colab": {
          "base_uri": "https://localhost:8080/"
        },
        "id": "7rxVyIs6RCL0",
        "outputId": "07614cdb-d1c7-468c-bf8f-25389606580a"
      },
      "execution_count": 200,
      "outputs": [
        {
          "output_type": "execute_result",
          "data": {
            "text/plain": [
              "tuple"
            ]
          },
          "metadata": {},
          "execution_count": 200
        }
      ]
    },
    {
      "cell_type": "code",
      "source": [
        "x=tuple()\n",
        "x,type(x)"
      ],
      "metadata": {
        "colab": {
          "base_uri": "https://localhost:8080/"
        },
        "id": "pfc9fy4gTNvq",
        "outputId": "3b0ea7f2-b021-42cd-d29d-2b3e1c52089b"
      },
      "execution_count": 191,
      "outputs": [
        {
          "output_type": "execute_result",
          "data": {
            "text/plain": [
              "((), tuple)"
            ]
          },
          "metadata": {},
          "execution_count": 191
        }
      ]
    },
    {
      "cell_type": "code",
      "source": [
        "x=(11,'B',33,'D')\n",
        "x,type(x)"
      ],
      "metadata": {
        "colab": {
          "base_uri": "https://localhost:8080/"
        },
        "id": "wNE17Xh8TRMq",
        "outputId": "a350bf29-c54e-47f2-a4bb-7e116d465bf2"
      },
      "execution_count": 195,
      "outputs": [
        {
          "output_type": "execute_result",
          "data": {
            "text/plain": [
              "((11, 'B', 33, 'D'), tuple)"
            ]
          },
          "metadata": {},
          "execution_count": 195
        }
      ]
    },
    {
      "cell_type": "code",
      "source": [
        "type(x[:1])"
      ],
      "metadata": {
        "colab": {
          "base_uri": "https://localhost:8080/"
        },
        "id": "buo1C2hBTd17",
        "outputId": "96495d84-8b6e-4f8e-e2ac-f9e7399b363b"
      },
      "execution_count": 204,
      "outputs": [
        {
          "output_type": "execute_result",
          "data": {
            "text/plain": [
              "tuple"
            ]
          },
          "metadata": {},
          "execution_count": 204
        }
      ]
    },
    {
      "cell_type": "code",
      "source": [
        "#tuple은 ReadOnly LIST입니다.\n",
        "x[0] = 2"
      ],
      "metadata": {
        "colab": {
          "base_uri": "https://localhost:8080/",
          "height": 193
        },
        "id": "mxNp-NpnTqEL",
        "outputId": "09df3129-d7bd-49f7-f65e-767d29446c3f"
      },
      "execution_count": 207,
      "outputs": [
        {
          "output_type": "error",
          "ename": "TypeError",
          "evalue": "ignored",
          "traceback": [
            "\u001b[0;31m---------------------------------------------------------------------------\u001b[0m",
            "\u001b[0;31mTypeError\u001b[0m                                 Traceback (most recent call last)",
            "\u001b[0;32m<ipython-input-207-6e3396d70f2a>\u001b[0m in \u001b[0;36m<module>\u001b[0;34m()\u001b[0m\n\u001b[1;32m      1\u001b[0m \u001b[0;31m#tuple은 ReadOnly LIST입니다.\u001b[0m\u001b[0;34m\u001b[0m\u001b[0;34m\u001b[0m\u001b[0;34m\u001b[0m\u001b[0m\n\u001b[0;32m----> 2\u001b[0;31m \u001b[0mx\u001b[0m\u001b[0;34m[\u001b[0m\u001b[0;36m0\u001b[0m\u001b[0;34m]\u001b[0m \u001b[0;34m=\u001b[0m \u001b[0;36m2\u001b[0m\u001b[0;34m\u001b[0m\u001b[0;34m\u001b[0m\u001b[0m\n\u001b[0m",
            "\u001b[0;31mTypeError\u001b[0m: 'tuple' object does not support item assignment"
          ]
        }
      ]
    },
    {
      "cell_type": "code",
      "source": [
        "t3= tuple()\n",
        "t2= tuple()"
      ],
      "metadata": {
        "id": "sv69btD8T6ar"
      },
      "execution_count": 211,
      "outputs": []
    },
    {
      "cell_type": "code",
      "source": [
        "t3 =(1,2,3)\n",
        "t2 =(1,2)\n",
        "t1 =(1)\n",
        "\n",
        "#튜플은 괄호 열고 닫고를 생략하고 쓸 수 있다.\n",
        "t1,t2,t3,type(t1),type(t2),type(t3)"
      ],
      "metadata": {
        "colab": {
          "base_uri": "https://localhost:8080/"
        },
        "id": "-HAYYgJJT-cr",
        "outputId": "d979de74-d8ad-494b-87d6-155b611515c3"
      },
      "execution_count": 216,
      "outputs": [
        {
          "output_type": "execute_result",
          "data": {
            "text/plain": [
              "(1, (1, 2), (1, 2, 3), int, tuple, tuple)"
            ]
          },
          "metadata": {},
          "execution_count": 216
        }
      ]
    },
    {
      "cell_type": "code",
      "source": [
        "a=11\n",
        "b=22\n",
        "a,b\n",
        "\n"
      ],
      "metadata": {
        "colab": {
          "base_uri": "https://localhost:8080/"
        },
        "id": "giEKNeIKVMPw",
        "outputId": "1880a32d-19f6-49e2-ccf2-aa77539dcefb"
      },
      "execution_count": 218,
      "outputs": [
        {
          "output_type": "execute_result",
          "data": {
            "text/plain": [
              "(11, 22)"
            ]
          },
          "metadata": {},
          "execution_count": 218
        }
      ]
    },
    {
      "cell_type": "code",
      "source": [
        "def f(x):\n",
        "  return (2*x)+3\n",
        "  \"\"\"\n",
        "  NOAL\n",
        "  \"\"\""
      ],
      "metadata": {
        "id": "uNUyCAx1Yziq"
      },
      "execution_count": 233,
      "outputs": []
    },
    {
      "cell_type": "code",
      "source": [
        "y = f(2)\n",
        "print(f.__doc__)\n",
        "y"
      ],
      "metadata": {
        "colab": {
          "base_uri": "https://localhost:8080/"
        },
        "id": "hUa_fHLeY3cJ",
        "outputId": "f46b5026-3494-49e8-949d-4d25de64e246"
      },
      "execution_count": 234,
      "outputs": [
        {
          "output_type": "stream",
          "name": "stdout",
          "text": [
            "None\n"
          ]
        },
        {
          "output_type": "execute_result",
          "data": {
            "text/plain": [
              "7"
            ]
          },
          "metadata": {},
          "execution_count": 234
        }
      ]
    },
    {
      "cell_type": "code",
      "source": [
        "'AB'*3"
      ],
      "metadata": {
        "colab": {
          "base_uri": "https://localhost:8080/",
          "height": 35
        },
        "id": "7K6e_mOoY-OK",
        "outputId": "0eba386f-2e49-4285-95d5-c3586fabe7c0"
      },
      "execution_count": 243,
      "outputs": [
        {
          "output_type": "execute_result",
          "data": {
            "application/vnd.google.colaboratory.intrinsic+json": {
              "type": "string"
            },
            "text/plain": [
              "'ABABAB'"
            ]
          },
          "metadata": {},
          "execution_count": 243
        }
      ]
    },
    {
      "cell_type": "code",
      "source": [
        "print('#'*5)"
      ],
      "metadata": {
        "colab": {
          "base_uri": "https://localhost:8080/"
        },
        "id": "ZVtE7KzRbfzA",
        "outputId": "5ca63c82-e8c0-4133-f563-73136f5b8677"
      },
      "execution_count": 250,
      "outputs": [
        {
          "output_type": "stream",
          "name": "stdout",
          "text": [
            "#####\n"
          ]
        }
      ]
    },
    {
      "cell_type": "code",
      "source": [
        "#생각보다 Python이  들여쓰기를 맞추어 주어야하는 구나.\n",
        "i=1\n",
        "while True:\n",
        "  print('#'*i)\n",
        "  if i >= 5 :\n",
        "    break\n",
        "  i+= 1 "
      ],
      "metadata": {
        "colab": {
          "base_uri": "https://localhost:8080/"
        },
        "id": "NfRAqRWSb7a5",
        "outputId": "c1d2a8fd-f3f0-4dc3-c3e0-7f3c7f28ac08"
      },
      "execution_count": 257,
      "outputs": [
        {
          "output_type": "stream",
          "name": "stdout",
          "text": [
            "#\n",
            "##\n",
            "###\n",
            "####\n",
            "#####\n"
          ]
        }
      ]
    },
    {
      "cell_type": "code",
      "source": [
        "x={}\n",
        "x,type(x)"
      ],
      "metadata": {
        "colab": {
          "base_uri": "https://localhost:8080/"
        },
        "id": "lRCe0JJ_c8OZ",
        "outputId": "51cabdce-66ab-4dd6-f22b-7588cf600e91"
      },
      "execution_count": 261,
      "outputs": [
        {
          "output_type": "execute_result",
          "data": {
            "text/plain": [
              "({}, dict)"
            ]
          },
          "metadata": {},
          "execution_count": 261
        }
      ]
    },
    {
      "cell_type": "code",
      "source": [
        "x=dict()\n",
        "x,type(x)"
      ],
      "metadata": {
        "colab": {
          "base_uri": "https://localhost:8080/"
        },
        "id": "2quWBby_dAr5",
        "outputId": "872880e1-da28-41f8-93b6-59c76499aa64"
      },
      "execution_count": 264,
      "outputs": [
        {
          "output_type": "execute_result",
          "data": {
            "text/plain": [
              "({}, dict)"
            ]
          },
          "metadata": {},
          "execution_count": 264
        }
      ]
    },
    {
      "cell_type": "code",
      "source": [
        "x={1:'일','이':2,3.14:True, False:'거짓'}\n",
        "x,type(x)"
      ],
      "metadata": {
        "colab": {
          "base_uri": "https://localhost:8080/"
        },
        "id": "tFEUxqihdL2J",
        "outputId": "77ce25d1-18c2-4a1a-b7f7-951df14b8b28"
      },
      "execution_count": 266,
      "outputs": [
        {
          "output_type": "execute_result",
          "data": {
            "text/plain": [
              "({1: '일', 3.14: True, False: '거짓', '이': 2}, dict)"
            ]
          },
          "metadata": {},
          "execution_count": 266
        }
      ]
    },
    {
      "cell_type": "code",
      "source": [
        "#Key 값을 주어야 값이 제대로 나온다-> diction값을 꺼낼대는 키값을 이용해서 빼내기.\n",
        "x[1],x['이']"
      ],
      "metadata": {
        "colab": {
          "base_uri": "https://localhost:8080/"
        },
        "id": "q3EZG50ydbBX",
        "outputId": "b49cd739-1faa-4402-83f3-ea28ef1e8155"
      },
      "execution_count": 269,
      "outputs": [
        {
          "output_type": "execute_result",
          "data": {
            "text/plain": [
              "('일', 2)"
            ]
          },
          "metadata": {},
          "execution_count": 269
        }
      ]
    },
    {
      "cell_type": "markdown",
      "source": [
        "Set"
      ],
      "metadata": {
        "id": "WMOEs88DeH15"
      }
    },
    {
      "cell_type": "markdown",
      "source": [
        ""
      ],
      "metadata": {
        "id": "JtIUvgv_eHva"
      }
    },
    {
      "cell_type": "code",
      "source": [
        "x={} #dict\n",
        "x,type(x)"
      ],
      "metadata": {
        "colab": {
          "base_uri": "https://localhost:8080/"
        },
        "id": "vpBdSmZweKTA",
        "outputId": "be6218dd-ca70-47ab-f6f3-1fc68abe0bd2"
      },
      "execution_count": 272,
      "outputs": [
        {
          "output_type": "execute_result",
          "data": {
            "text/plain": [
              "({}, dict)"
            ]
          },
          "metadata": {},
          "execution_count": 272
        }
      ]
    },
    {
      "cell_type": "code",
      "source": [
        "x=set()\n",
        "x,type(x)"
      ],
      "metadata": {
        "colab": {
          "base_uri": "https://localhost:8080/"
        },
        "id": "U-UG8-90ePoe",
        "outputId": "b7327d98-c420-4219-b26f-99dc53b35729"
      },
      "execution_count": 274,
      "outputs": [
        {
          "output_type": "execute_result",
          "data": {
            "text/plain": [
              "(set(), set)"
            ]
          },
          "metadata": {},
          "execution_count": 274
        }
      ]
    },
    {
      "cell_type": "code",
      "source": [
        "x={1, '이', 3.14, False}\n",
        "x,type(x)"
      ],
      "metadata": {
        "colab": {
          "base_uri": "https://localhost:8080/"
        },
        "id": "LfmG7-yKeTS-",
        "outputId": "7b189585-93a7-445c-c7d1-7682922a5362"
      },
      "execution_count": 276,
      "outputs": [
        {
          "output_type": "execute_result",
          "data": {
            "text/plain": [
              "({1, 3.14, False, '이'}, set)"
            ]
          },
          "metadata": {},
          "execution_count": 276
        }
      ]
    },
    {
      "cell_type": "code",
      "source": [
        "#주의 set값은 중복을 허용하지 않고, 순서도 없다.\n",
        "#x[0],x['이']\n",
        "x['이']\n"
      ],
      "metadata": {
        "colab": {
          "base_uri": "https://localhost:8080/",
          "height": 211
        },
        "id": "CdXxEwxDebiY",
        "outputId": "de0f86f9-2e91-4543-f21f-22d65489b3ac"
      },
      "execution_count": 280,
      "outputs": [
        {
          "output_type": "error",
          "ename": "TypeError",
          "evalue": "ignored",
          "traceback": [
            "\u001b[0;31m---------------------------------------------------------------------------\u001b[0m",
            "\u001b[0;31mTypeError\u001b[0m                                 Traceback (most recent call last)",
            "\u001b[0;32m<ipython-input-280-2725c28cfbb3>\u001b[0m in \u001b[0;36m<module>\u001b[0;34m()\u001b[0m\n\u001b[1;32m      1\u001b[0m \u001b[0;31m#주의 set값은 중복을 허용하지 않고, 순서도 없다.\u001b[0m\u001b[0;34m\u001b[0m\u001b[0;34m\u001b[0m\u001b[0;34m\u001b[0m\u001b[0m\n\u001b[1;32m      2\u001b[0m \u001b[0;31m#x[0],x['이']\u001b[0m\u001b[0;34m\u001b[0m\u001b[0;34m\u001b[0m\u001b[0;34m\u001b[0m\u001b[0m\n\u001b[0;32m----> 3\u001b[0;31m \u001b[0mx\u001b[0m\u001b[0;34m[\u001b[0m\u001b[0;34m'이'\u001b[0m\u001b[0;34m]\u001b[0m\u001b[0;34m\u001b[0m\u001b[0;34m\u001b[0m\u001b[0m\n\u001b[0m",
            "\u001b[0;31mTypeError\u001b[0m: 'set' object is not subscriptable"
          ]
        }
      ]
    },
    {
      "cell_type": "code",
      "source": [
        "#set을 사용하는 방법은 \n",
        "#다음과 같다. \n"
      ],
      "metadata": {
        "id": "AG6anzZIepgY"
      },
      "execution_count": 281,
      "outputs": []
    },
    {
      "cell_type": "code",
      "source": [
        "list(x)"
      ],
      "metadata": {
        "colab": {
          "base_uri": "https://localhost:8080/"
        },
        "id": "AAp39qw9etkY",
        "outputId": "56671793-8000-449a-b13e-8f0bd756413c"
      },
      "execution_count": 283,
      "outputs": [
        {
          "output_type": "execute_result",
          "data": {
            "text/plain": [
              "['이', 1, 3.14, False]"
            ]
          },
          "metadata": {},
          "execution_count": 283
        }
      ]
    },
    {
      "cell_type": "code",
      "source": [
        "tuple(x)"
      ],
      "metadata": {
        "colab": {
          "base_uri": "https://localhost:8080/"
        },
        "id": "GaYXdpS9exjY",
        "outputId": "9094fb6d-5f35-43a1-9c69-5567756b2fa5"
      },
      "execution_count": 285,
      "outputs": [
        {
          "output_type": "execute_result",
          "data": {
            "text/plain": [
              "('이', 1, 3.14, False)"
            ]
          },
          "metadata": {},
          "execution_count": 285
        }
      ]
    },
    {
      "cell_type": "code",
      "source": [
        "#set같은 경우는 중복을 없애주기 때문에 유용하기 사용할 수 있다.\n",
        "#또한 정렬을 시켜주는것 같은데.\n",
        "x=set('hello')\n",
        "x\n",
        "#중복을 제거해주고 정렬을 시켜준다.\n",
        "y=set('585612309705689563794718923')\n",
        "y"
      ],
      "metadata": {
        "colab": {
          "base_uri": "https://localhost:8080/"
        },
        "id": "Mn7UyVOBezbY",
        "outputId": "e7424d63-122b-4436-a2f3-afa2d5e5d348"
      },
      "execution_count": 289,
      "outputs": [
        {
          "output_type": "execute_result",
          "data": {
            "text/plain": [
              "{'0', '1', '2', '3', '4', '5', '6', '7', '8', '9'}"
            ]
          },
          "metadata": {},
          "execution_count": 289
        }
      ]
    },
    {
      "cell_type": "markdown",
      "source": [
        "Function"
      ],
      "metadata": {
        "id": "cKX_OJv0fUfC"
      }
    },
    {
      "cell_type": "code",
      "source": [
        "pow(1,2)\n",
        "#\n",
        "int(12.3)"
      ],
      "metadata": {
        "colab": {
          "base_uri": "https://localhost:8080/"
        },
        "id": "dq3ZKcITfWc_",
        "outputId": "99c65ed9-7394-43d1-f741-9b49d691e9c4"
      },
      "execution_count": 291,
      "outputs": [
        {
          "output_type": "execute_result",
          "data": {
            "text/plain": [
              "12"
            ]
          },
          "metadata": {},
          "execution_count": 291
        }
      ]
    },
    {
      "cell_type": "code",
      "source": [
        "#다음은 Python에 기본 내장된 함수들을 말한다.\n",
        "dir(__builtin__)"
      ],
      "metadata": {
        "colab": {
          "base_uri": "https://localhost:8080/"
        },
        "id": "su859NoVfKGp",
        "outputId": "f7e0c85e-c0ba-4c1f-c1b0-be4c6450ac6d"
      },
      "execution_count": 294,
      "outputs": [
        {
          "output_type": "execute_result",
          "data": {
            "text/plain": [
              "['ArithmeticError',\n",
              " 'AssertionError',\n",
              " 'AttributeError',\n",
              " 'BaseException',\n",
              " 'BlockingIOError',\n",
              " 'BrokenPipeError',\n",
              " 'BufferError',\n",
              " 'BytesWarning',\n",
              " 'ChildProcessError',\n",
              " 'ConnectionAbortedError',\n",
              " 'ConnectionError',\n",
              " 'ConnectionRefusedError',\n",
              " 'ConnectionResetError',\n",
              " 'DeprecationWarning',\n",
              " 'EOFError',\n",
              " 'Ellipsis',\n",
              " 'EnvironmentError',\n",
              " 'Exception',\n",
              " 'False',\n",
              " 'FileExistsError',\n",
              " 'FileNotFoundError',\n",
              " 'FloatingPointError',\n",
              " 'FutureWarning',\n",
              " 'GeneratorExit',\n",
              " 'IOError',\n",
              " 'ImportError',\n",
              " 'ImportWarning',\n",
              " 'IndentationError',\n",
              " 'IndexError',\n",
              " 'InterruptedError',\n",
              " 'IsADirectoryError',\n",
              " 'KeyError',\n",
              " 'KeyboardInterrupt',\n",
              " 'LookupError',\n",
              " 'MemoryError',\n",
              " 'ModuleNotFoundError',\n",
              " 'NameError',\n",
              " 'None',\n",
              " 'NotADirectoryError',\n",
              " 'NotImplemented',\n",
              " 'NotImplementedError',\n",
              " 'OSError',\n",
              " 'OverflowError',\n",
              " 'PendingDeprecationWarning',\n",
              " 'PermissionError',\n",
              " 'ProcessLookupError',\n",
              " 'RecursionError',\n",
              " 'ReferenceError',\n",
              " 'ResourceWarning',\n",
              " 'RuntimeError',\n",
              " 'RuntimeWarning',\n",
              " 'StopAsyncIteration',\n",
              " 'StopIteration',\n",
              " 'SyntaxError',\n",
              " 'SyntaxWarning',\n",
              " 'SystemError',\n",
              " 'SystemExit',\n",
              " 'TabError',\n",
              " 'TimeoutError',\n",
              " 'True',\n",
              " 'TypeError',\n",
              " 'UnboundLocalError',\n",
              " 'UnicodeDecodeError',\n",
              " 'UnicodeEncodeError',\n",
              " 'UnicodeError',\n",
              " 'UnicodeTranslateError',\n",
              " 'UnicodeWarning',\n",
              " 'UserWarning',\n",
              " 'ValueError',\n",
              " 'Warning',\n",
              " 'ZeroDivisionError',\n",
              " '__IPYTHON__',\n",
              " '__build_class__',\n",
              " '__debug__',\n",
              " '__doc__',\n",
              " '__import__',\n",
              " '__loader__',\n",
              " '__name__',\n",
              " '__package__',\n",
              " '__spec__',\n",
              " 'abs',\n",
              " 'all',\n",
              " 'any',\n",
              " 'ascii',\n",
              " 'bin',\n",
              " 'bool',\n",
              " 'breakpoint',\n",
              " 'bytearray',\n",
              " 'bytes',\n",
              " 'callable',\n",
              " 'chr',\n",
              " 'classmethod',\n",
              " 'compile',\n",
              " 'complex',\n",
              " 'copyright',\n",
              " 'credits',\n",
              " 'delattr',\n",
              " 'dict',\n",
              " 'dir',\n",
              " 'display',\n",
              " 'divmod',\n",
              " 'dreload',\n",
              " 'enumerate',\n",
              " 'eval',\n",
              " 'exec',\n",
              " 'execfile',\n",
              " 'filter',\n",
              " 'float',\n",
              " 'format',\n",
              " 'frozenset',\n",
              " 'get_ipython',\n",
              " 'getattr',\n",
              " 'globals',\n",
              " 'hasattr',\n",
              " 'hash',\n",
              " 'help',\n",
              " 'hex',\n",
              " 'id',\n",
              " 'input',\n",
              " 'int',\n",
              " 'isinstance',\n",
              " 'issubclass',\n",
              " 'iter',\n",
              " 'len',\n",
              " 'license',\n",
              " 'list',\n",
              " 'locals',\n",
              " 'map',\n",
              " 'max',\n",
              " 'memoryview',\n",
              " 'min',\n",
              " 'next',\n",
              " 'object',\n",
              " 'oct',\n",
              " 'open',\n",
              " 'ord',\n",
              " 'pow',\n",
              " 'print',\n",
              " 'property',\n",
              " 'range',\n",
              " 'repr',\n",
              " 'reversed',\n",
              " 'round',\n",
              " 'runfile',\n",
              " 'set',\n",
              " 'setattr',\n",
              " 'slice',\n",
              " 'sorted',\n",
              " 'staticmethod',\n",
              " 'str',\n",
              " 'sum',\n",
              " 'super',\n",
              " 'tuple',\n",
              " 'type',\n",
              " 'vars',\n",
              " 'zip']"
            ]
          },
          "metadata": {},
          "execution_count": 294
        }
      ]
    },
    {
      "cell_type": "code",
      "source": [
        "#?을 붙이면 해당 함수의 정의를 보여준다.\n",
        "print?"
      ],
      "metadata": {
        "id": "0Ir9_ZWWgGFx"
      },
      "execution_count": 296,
      "outputs": []
    },
    {
      "cell_type": "code",
      "source": [
        "#?? ? 2개는 함수의 자세한 정보를 알려준다.\n",
        "input??"
      ],
      "metadata": {
        "id": "fZNiHIGZgZDJ"
      },
      "execution_count": 297,
      "outputs": []
    },
    {
      "cell_type": "markdown",
      "source": [
        "Module"
      ],
      "metadata": {
        "id": "-tkM0OUog5UK"
      }
    },
    {
      "cell_type": "code",
      "source": [
        "import math as ma\n",
        "math.floor(12.3)\n",
        "math.sqrt(4)"
      ],
      "metadata": {
        "colab": {
          "base_uri": "https://localhost:8080/"
        },
        "id": "qnYQtHTOg6_5",
        "outputId": "576eb66c-c5bb-4fcf-990c-3c0a5c9f26f4"
      },
      "execution_count": 302,
      "outputs": [
        {
          "output_type": "execute_result",
          "data": {
            "text/plain": [
              "2.0"
            ]
          },
          "metadata": {},
          "execution_count": 302
        }
      ]
    },
    {
      "cell_type": "code",
      "source": [
        "#바로 std이름을 안불러오고 사용하고 싶다면 다음과 같이 import문을 사용해서 함수를 사용하면 된다.\n",
        "from math import sqrt\n",
        "sqrt(4)"
      ],
      "metadata": {
        "colab": {
          "base_uri": "https://localhost:8080/"
        },
        "id": "Nx37U_J2hVbZ",
        "outputId": "e9d540c8-36fa-454f-ee8e-b5793e3f250c"
      },
      "execution_count": 306,
      "outputs": [
        {
          "output_type": "execute_result",
          "data": {
            "text/plain": [
              "2.0"
            ]
          },
          "metadata": {},
          "execution_count": 306
        }
      ]
    },
    {
      "cell_type": "code",
      "source": [
        "#다음과 같이 복소수가 있을 때도 다음과 같이 덧셈이 사칙연산이 가능함\n",
        "(1j)+(2j)\n"
      ],
      "metadata": {
        "colab": {
          "base_uri": "https://localhost:8080/"
        },
        "id": "wJdrok54g88o",
        "outputId": "72815c92-a0ce-4ff4-894e-09b87b714b4a"
      },
      "execution_count": 308,
      "outputs": [
        {
          "output_type": "execute_result",
          "data": {
            "text/plain": [
              "3j"
            ]
          },
          "metadata": {},
          "execution_count": 308
        }
      ]
    },
    {
      "cell_type": "code",
      "source": [
        "import random\n",
        "random.randint(1,45)"
      ],
      "metadata": {
        "colab": {
          "base_uri": "https://localhost:8080/"
        },
        "id": "Ze1lXE4Pi8S_",
        "outputId": "2805a55d-27e9-41eb-fa19-a4b4a25d0aac"
      },
      "execution_count": 313,
      "outputs": [
        {
          "output_type": "execute_result",
          "data": {
            "text/plain": [
              "11"
            ]
          },
          "metadata": {},
          "execution_count": 313
        }
      ]
    },
    {
      "cell_type": "code",
      "source": [
        "import random as rd\n",
        "rd.randint(1,45)"
      ],
      "metadata": {
        "colab": {
          "base_uri": "https://localhost:8080/"
        },
        "id": "ER5zsk5gjNGY",
        "outputId": "97157ede-30a8-4be5-d332-195fb2cdbcff"
      },
      "execution_count": 315,
      "outputs": [
        {
          "output_type": "execute_result",
          "data": {
            "text/plain": [
              "28"
            ]
          },
          "metadata": {},
          "execution_count": 315
        }
      ]
    },
    {
      "cell_type": "code",
      "source": [
        "import random\n",
        "\n",
        "random?\n",
        "list(range(10))\n",
        "\n",
        "rd.randrange(1,46+1)"
      ],
      "metadata": {
        "colab": {
          "base_uri": "https://localhost:8080/"
        },
        "id": "ttmz6HLijOp3",
        "outputId": "b2039868-652f-489a-cbf8-f2cb2a645505"
      },
      "execution_count": 325,
      "outputs": [
        {
          "output_type": "execute_result",
          "data": {
            "text/plain": [
              "28"
            ]
          },
          "metadata": {},
          "execution_count": 325
        }
      ]
    },
    {
      "cell_type": "code",
      "source": [
        "lotto=list(range(1,45+1,1))\n",
        "rd.shuffle(lotto)\n",
        "#섞은 다음에 뽑을 수 있다. \n",
        "#근데 섞었는데 일정한 간격이 있는것이 아닐까?\n",
        "lotto[0:6]"
      ],
      "metadata": {
        "colab": {
          "base_uri": "https://localhost:8080/"
        },
        "id": "s9HCZWFBo9l-",
        "outputId": "d96c2500-1629-460b-f20a-d68ac21262ac"
      },
      "execution_count": 328,
      "outputs": [
        {
          "output_type": "execute_result",
          "data": {
            "text/plain": [
              "[36, 18, 2, 37, 45, 10]"
            ]
          },
          "metadata": {},
          "execution_count": 328
        }
      ]
    },
    {
      "cell_type": "code",
      "source": [
        "#모듈의 위치를 알려준다.\n",
        "rd.__file__"
      ],
      "metadata": {
        "colab": {
          "base_uri": "https://localhost:8080/",
          "height": 35
        },
        "id": "y0zSW7Agplsn",
        "outputId": "0ceba882-c466-4d14-d0fa-6f5af9c2a2d8"
      },
      "execution_count": 329,
      "outputs": [
        {
          "output_type": "execute_result",
          "data": {
            "application/vnd.google.colaboratory.intrinsic+json": {
              "type": "string"
            },
            "text/plain": [
              "'/usr/lib/python3.7/random.py'"
            ]
          },
          "metadata": {},
          "execution_count": 329
        }
      ]
    },
    {
      "cell_type": "markdown",
      "source": [
        "if else\n"
      ],
      "metadata": {
        "id": "byykjwiLrBBE"
      }
    },
    {
      "cell_type": "code",
      "source": [
        "var = 20\n",
        " \n",
        "if var < 20:\n",
        "  print('less than 20')\n",
        "else:\n",
        "  print('not found')  "
      ],
      "metadata": {
        "colab": {
          "base_uri": "https://localhost:8080/"
        },
        "id": "2CEvays9rOnn",
        "outputId": "3caded72-ffbc-4874-8ec0-52a29eb6c0dc"
      },
      "execution_count": 331,
      "outputs": [
        {
          "output_type": "stream",
          "name": "stdout",
          "text": [
            "not found\n"
          ]
        }
      ]
    },
    {
      "cell_type": "code",
      "source": [
        "'less than 20' if var<20 else 'not found'"
      ],
      "metadata": {
        "colab": {
          "base_uri": "https://localhost:8080/",
          "height": 35
        },
        "id": "9NC9yY4QrB18",
        "outputId": "dea94da8-b3ec-4fe1-df1c-5f8e8279e922"
      },
      "execution_count": 333,
      "outputs": [
        {
          "output_type": "execute_result",
          "data": {
            "application/vnd.google.colaboratory.intrinsic+json": {
              "type": "string"
            },
            "text/plain": [
              "'not found'"
            ]
          },
          "metadata": {},
          "execution_count": 333
        }
      ]
    },
    {
      "cell_type": "code",
      "source": [
        "if var%2==():\n",
        "  print(\"짝수\")\n",
        "else:\n",
        "  print(\"홀수\")"
      ],
      "metadata": {
        "colab": {
          "base_uri": "https://localhost:8080/"
        },
        "id": "mBpXcohErfM2",
        "outputId": "9327c2b9-21b4-4424-afae-2b19be36fb8b"
      },
      "execution_count": 336,
      "outputs": [
        {
          "output_type": "stream",
          "name": "stdout",
          "text": [
            "홀수\n"
          ]
        }
      ]
    },
    {
      "cell_type": "code",
      "source": [
        "for i in [1,2,3,4,5]:\n",
        "  print(i,end='')"
      ],
      "metadata": {
        "colab": {
          "base_uri": "https://localhost:8080/"
        },
        "id": "Yj-RjxW2r2xH",
        "outputId": "75e4e9f8-863e-4b0d-b763-1c96f458e950"
      },
      "execution_count": 338,
      "outputs": [
        {
          "output_type": "stream",
          "name": "stdout",
          "text": [
            "12345"
          ]
        }
      ]
    },
    {
      "cell_type": "code",
      "source": [
        "list(range(1,5+1))"
      ],
      "metadata": {
        "colab": {
          "base_uri": "https://localhost:8080/"
        },
        "id": "XEQUOe66r-C3",
        "outputId": "dc4dd6f1-8b12-48d2-8ec6-80a32543ccf6"
      },
      "execution_count": 339,
      "outputs": [
        {
          "output_type": "execute_result",
          "data": {
            "text/plain": [
              "[1, 2, 3, 4, 5]"
            ]
          },
          "metadata": {},
          "execution_count": 339
        }
      ]
    },
    {
      "cell_type": "code",
      "source": [
        "for i in range(1,5+1):\n",
        "    print(i,end='')\n"
      ],
      "metadata": {
        "colab": {
          "base_uri": "https://localhost:8080/"
        },
        "id": "P-zjhYqysCMX",
        "outputId": "97d95f3d-6f05-4f86-99a8-b54573e90b4c"
      },
      "execution_count": 343,
      "outputs": [
        {
          "output_type": "stream",
          "name": "stdout",
          "text": [
            "12345"
          ]
        }
      ]
    },
    {
      "cell_type": "code",
      "source": [
        "words=['this','','is','','wonder']\n",
        "for x in words:\n",
        "  print(x,end='')"
      ],
      "metadata": {
        "colab": {
          "base_uri": "https://localhost:8080/"
        },
        "id": "LysQueWjsNtm",
        "outputId": "48c3cbb9-258e-4514-ea1a-80a54deb6584"
      },
      "execution_count": 346,
      "outputs": [
        {
          "output_type": "stream",
          "name": "stdout",
          "text": [
            "thisiswonder"
          ]
        }
      ]
    },
    {
      "cell_type": "code",
      "source": [
        "N=int(input('수?'))\n",
        "tot= 0\n",
        "for i in (1,N+1):\n",
        "  tot=tot+i\n",
        "#아래 띄어쓰기 사용시 값이 안나옴. (주의)\n",
        "#'합 =', tot\n",
        "#print('1부터 '+str(N)+ '까지 합 =' +str(tot))\n",
        "print(f'1부터 {N} 까지 합 = {tot}' )"
      ],
      "metadata": {
        "colab": {
          "base_uri": "https://localhost:8080/"
        },
        "id": "s0jV7tXTstRn",
        "outputId": "cb37c47a-8acb-450b-99d0-005f9cad673a"
      },
      "execution_count": 363,
      "outputs": [
        {
          "output_type": "stream",
          "name": "stdout",
          "text": [
            "수?10\n",
            "1부터 10 까지 합 = 12\n"
          ]
        }
      ]
    },
    {
      "cell_type": "code",
      "source": [
        "for i in range(1,5+1):\n",
        "  print('#'*i)"
      ],
      "metadata": {
        "colab": {
          "base_uri": "https://localhost:8080/"
        },
        "id": "PLSGlR7wuys8",
        "outputId": "6bfb2237-c526-4f18-9f2d-54c025e574b1"
      },
      "execution_count": 364,
      "outputs": [
        {
          "output_type": "stream",
          "name": "stdout",
          "text": [
            "#\n",
            "##\n",
            "###\n",
            "####\n",
            "#####\n"
          ]
        }
      ]
    },
    {
      "cell_type": "code",
      "source": [
        "#python을 이용한 간단한 점수를 예측하기.\n",
        "su=int(input('몇 점?'))\n",
        "if su>=90:\n",
        "  print('A')\n",
        "elif su>=80:\n",
        "  print('B')\n",
        "elif su>=70:\n",
        "  print('C')\n",
        "else:\n",
        "  print('D')"
      ],
      "metadata": {
        "colab": {
          "base_uri": "https://localhost:8080/"
        },
        "id": "PKelIPlfu_Am",
        "outputId": "e29e50fd-bd68-4119-c30d-c661bd4f7b8f"
      },
      "execution_count": 370,
      "outputs": [
        {
          "output_type": "stream",
          "name": "stdout",
          "text": [
            "몇 점?10\n",
            "D\n"
          ]
        }
      ]
    },
    {
      "cell_type": "code",
      "source": [
        "import random\n",
        "r= random.randint(1,100)\n",
        "r"
      ],
      "metadata": {
        "colab": {
          "base_uri": "https://localhost:8080/"
        },
        "id": "6FVZF2knvito",
        "outputId": "89b4b552-c401-45c2-b4bc-4ec9923ee2f1"
      },
      "execution_count": 376,
      "outputs": [
        {
          "output_type": "execute_result",
          "data": {
            "text/plain": [
              "9"
            ]
          },
          "metadata": {},
          "execution_count": 376
        }
      ]
    },
    {
      "cell_type": "code",
      "source": [
        "print(\"수 맞추기 게임\")\n",
        "while True:\n",
        "  n=int(input('1~100사이의 수는?'))\n",
        "  if r==n:\n",
        "    print('정답')\n",
        "    break\n",
        "  elif r<n:\n",
        "    print('작다')\n",
        "  else:\n",
        "    print('우리가 입력한 값보다 크다')\n",
        "\n",
        "  #print(r)"
      ],
      "metadata": {
        "colab": {
          "base_uri": "https://localhost:8080/"
        },
        "id": "bO9Sw-hnv7GW",
        "outputId": "af43ca98-ef65-4afb-ed08-608e4b0f4acc"
      },
      "execution_count": 377,
      "outputs": [
        {
          "output_type": "stream",
          "name": "stdout",
          "text": [
            "수 맞추기 게임\n",
            "1~100사이의 수는?10\n",
            "작다\n",
            "1~100사이의 수는?5\n",
            "우리가 입력한 값보다 크다\n",
            "1~100사이의 수는?8\n",
            "우리가 입력한 값보다 크다\n",
            "1~100사이의 수는?9\n",
            "정답\n"
          ]
        }
      ]
    }
  ]
}