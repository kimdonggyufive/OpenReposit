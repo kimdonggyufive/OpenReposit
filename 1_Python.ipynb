{
  "nbformat": 4,
  "nbformat_minor": 0,
  "metadata": {
    "colab": {
      "name": "1.Python.ipynb",
      "provenance": [],
      "collapsed_sections": [],
      "authorship_tag": "ABX9TyOenrE6+CSUZFRklcnX1jDs",
      "include_colab_link": true
    },
    "kernelspec": {
      "name": "python3",
      "display_name": "Python 3"
    },
    "language_info": {
      "name": "python"
    }
  },
  "cells": [
    {
      "cell_type": "markdown",
      "metadata": {
        "id": "view-in-github",
        "colab_type": "text"
      },
      "source": [
        "<a href=\"https://colab.research.google.com/github/kimdonggyufive/OpenReposit/blob/main/1_Python.ipynb\" target=\"_parent\"><img src=\"https://colab.research.google.com/assets/colab-badge.svg\" alt=\"Open In Colab\"/></a>"
      ]
    },
    {
      "cell_type": "code",
      "source": [
        "#test\n",
        "a = 2"
      ],
      "metadata": {
        "colab": {
          "base_uri": "https://localhost:8080/"
        },
        "id": "Jjnfmlj4eIZt",
        "outputId": "6f31db50-e944-4512-bfd4-37c21849a2ba"
      },
      "execution_count": null,
      "outputs": [
        {
          "output_type": "execute_result",
          "data": {
            "text/plain": [
              "4"
            ]
          },
          "metadata": {},
          "execution_count": 13
        }
      ]
    },
    {
      "cell_type": "code",
      "source": [
        "#test1\n",
        "a = 2 \n",
        "print(a)"
      ],
      "metadata": {
        "colab": {
          "base_uri": "https://localhost:8080/"
        },
        "id": "NTKIYGKLeqJW",
        "outputId": "61124132-4d4f-46b0-d186-c0d45005874b"
      },
      "execution_count": null,
      "outputs": [
        {
          "output_type": "stream",
          "name": "stdout",
          "text": [
            "2\n"
          ]
        }
      ]
    },
    {
      "cell_type": "code",
      "execution_count": null,
      "metadata": {
        "colab": {
          "base_uri": "https://localhost:8080/"
        },
        "id": "Dj7EiT9BchXu",
        "outputId": "96131411-c1ac-463c-ddcf-3ac508230f7d"
      },
      "outputs": [
        {
          "output_type": "stream",
          "name": "stdout",
          "text": [
            "first pythonStart\n",
            "Second pythonStart\n",
            "\n",
            "third Line\n"
          ]
        }
      ],
      "source": [
        "#test2\n",
        "print(\"first pythonStart\")\n",
        "print(\"Second pythonStart\\n\")\n",
        "print(\"third Line\")"
      ]
    },
    {
      "cell_type": "code",
      "source": [
        "#test3\n",
        "0x11"
      ],
      "metadata": {
        "id": "XCuapJO-fCQE",
        "colab": {
          "base_uri": "https://localhost:8080/"
        },
        "outputId": "7f07aeb8-81a6-4a40-8d59-70ebea117567"
      },
      "execution_count": 26,
      "outputs": [
        {
          "output_type": "execute_result",
          "data": {
            "text/plain": [
              "17"
            ]
          },
          "metadata": {},
          "execution_count": 26
        }
      ]
    }
  ]
}