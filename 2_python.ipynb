{
  "nbformat": 4,
  "nbformat_minor": 0,
  "metadata": {
    "colab": {
      "name": "2.python.ipynb",
      "provenance": [],
      "collapsed_sections": [],
      "authorship_tag": "ABX9TyPjRePimceSbwF1zCBlRmgh",
      "include_colab_link": true
    },
    "kernelspec": {
      "name": "python3",
      "display_name": "Python 3"
    },
    "language_info": {
      "name": "python"
    }
  },
  "cells": [
    {
      "cell_type": "markdown",
      "metadata": {
        "id": "view-in-github",
        "colab_type": "text"
      },
      "source": [
        "<a href=\"https://colab.research.google.com/github/kimdonggyufive/OpenReposit/blob/main/2_python.ipynb\" target=\"_parent\"><img src=\"https://colab.research.google.com/assets/colab-badge.svg\" alt=\"Open In Colab\"/></a>"
      ]
    },
    {
      "cell_type": "code",
      "execution_count": 2,
      "metadata": {
        "colab": {
          "base_uri": "https://localhost:8080/"
        },
        "id": "Fst5u4jJVpgv",
        "outputId": "c14d477a-d945-4c60-f131-780464daeb29"
      },
      "outputs": [
        {
          "output_type": "stream",
          "name": "stdout",
          "text": [
            "/content\n"
          ]
        }
      ],
      "source": [
        "#현재 작업하고있는 페이지\n",
        "!pwd"
      ]
    },
    {
      "cell_type": "code",
      "source": [
        "#현재 작업 목록을 보여준다\n",
        "!ls"
      ],
      "metadata": {
        "colab": {
          "base_uri": "https://localhost:8080/"
        },
        "id": "QWksHGadV1mi",
        "outputId": "556b0c36-1fa9-4dd1-d099-132c152cdfaf"
      },
      "execution_count": 4,
      "outputs": [
        {
          "output_type": "stream",
          "name": "stdout",
          "text": [
            "sample_data\n"
          ]
        }
      ]
    },
    {
      "cell_type": "code",
      "source": [
        "#Colab에는 이미 numpy이가 설치되어있음.\n",
        "pip install numpy"
      ],
      "metadata": {
        "colab": {
          "base_uri": "https://localhost:8080/"
        },
        "id": "CTGDi37CV8Ty",
        "outputId": "7e9b4fa8-fe50-4fcd-dd67-ab923523eb1c"
      },
      "execution_count": 7,
      "outputs": [
        {
          "output_type": "stream",
          "name": "stdout",
          "text": [
            "Requirement already satisfied: numpy in /usr/local/lib/python3.7/dist-packages (1.19.5)\n"
          ]
        }
      ]
    },
    {
      "cell_type": "code",
      "source": [
        "import numpy as np\n"
      ],
      "metadata": {
        "id": "xF9hKwF7WGiJ"
      },
      "execution_count": 8,
      "outputs": []
    },
    {
      "cell_type": "code",
      "source": [
        "[i for i in range(7)]\n",
        "  "
      ],
      "metadata": {
        "colab": {
          "base_uri": "https://localhost:8080/"
        },
        "id": "7pdJQlQoWgCC",
        "outputId": "06aea71b-15c2-4900-96c6-423c8c112ea3"
      },
      "execution_count": 12,
      "outputs": [
        {
          "output_type": "execute_result",
          "data": {
            "text/plain": [
              "[0, 1, 2, 3, 4, 5, 6]"
            ]
          },
          "metadata": {},
          "execution_count": 12
        }
      ]
    },
    {
      "cell_type": "code",
      "source": [
        "[i for i in range(7)]"
      ],
      "metadata": {
        "colab": {
          "base_uri": "https://localhost:8080/"
        },
        "id": "SoPBdY3-W3Ly",
        "outputId": "ef5c7e75-fba2-4e17-8626-bd09049dc56c"
      },
      "execution_count": 16,
      "outputs": [
        {
          "output_type": "execute_result",
          "data": {
            "text/plain": [
              "[0, 1, 2, 3, 4, 5, 6]"
            ]
          },
          "metadata": {},
          "execution_count": 16
        }
      ]
    },
    {
      "cell_type": "code",
      "source": [
        "{i: i+2 for i in range(7)}"
      ],
      "metadata": {
        "colab": {
          "base_uri": "https://localhost:8080/"
        },
        "id": "NIXgMg8NXSWC",
        "outputId": "fbca724c-5cf9-4c2a-de03-f9a4475156ce"
      },
      "execution_count": 17,
      "outputs": [
        {
          "output_type": "execute_result",
          "data": {
            "text/plain": [
              "{0: 2, 1: 3, 2: 4, 3: 5, 4: 6, 5: 7, 6: 8}"
            ]
          },
          "metadata": {},
          "execution_count": 17
        }
      ]
    },
    {
      "cell_type": "code",
      "source": [
        "#\n",
        "{i:np.random.randn() for i in range(7)}"
      ],
      "metadata": {
        "colab": {
          "base_uri": "https://localhost:8080/"
        },
        "id": "aqqE3gtAXjoi",
        "outputId": "a73ad342-cde8-47f0-ec90-90cdecb4b1e9"
      },
      "execution_count": 18,
      "outputs": [
        {
          "output_type": "execute_result",
          "data": {
            "text/plain": [
              "{0: -0.30538563119434714,\n",
              " 1: 1.7086543735962085,\n",
              " 2: -0.8045216773308729,\n",
              " 3: 0.19412479176260883,\n",
              " 4: -2.6433938570580415,\n",
              " 5: -0.9256111339851438,\n",
              " 6: 0.04609086620831801}"
            ]
          },
          "metadata": {},
          "execution_count": 18
        }
      ]
    },
    {
      "cell_type": "code",
      "source": [
        "a=np.array([1,2,3])\n",
        "a,type(a)\n",
        "a.ndim, a.shape"
      ],
      "metadata": {
        "colab": {
          "base_uri": "https://localhost:8080/"
        },
        "id": "6C9ZABXyXqBy",
        "outputId": "9cdb35e8-e043-4ad1-b7a5-2fe43e332b6f"
      },
      "execution_count": 22,
      "outputs": [
        {
          "output_type": "execute_result",
          "data": {
            "text/plain": [
              "(1, (3,))"
            ]
          },
          "metadata": {},
          "execution_count": 22
        }
      ]
    },
    {
      "cell_type": "code",
      "source": [
        "a[0],a[1],a[2]"
      ],
      "metadata": {
        "colab": {
          "base_uri": "https://localhost:8080/"
        },
        "id": "JGIXgr59ZsNi",
        "outputId": "728ad500-50fb-4262-c582-c01872a03d1e"
      },
      "execution_count": 23,
      "outputs": [
        {
          "output_type": "execute_result",
          "data": {
            "text/plain": [
              "(1, 2, 3)"
            ]
          },
          "metadata": {},
          "execution_count": 23
        }
      ]
    },
    {
      "cell_type": "code",
      "source": [
        "a[:2],a[:3],a[:],a[0:],a[1:2]"
      ],
      "metadata": {
        "colab": {
          "base_uri": "https://localhost:8080/"
        },
        "id": "0IQAsvdnXP7S",
        "outputId": "6175cdd2-b544-4987-bfc6-e753a9469c92"
      },
      "execution_count": 27,
      "outputs": [
        {
          "output_type": "execute_result",
          "data": {
            "text/plain": [
              "(array([1, 2]),\n",
              " array([1, 2, 3]),\n",
              " array([1, 2, 3]),\n",
              " array([1, 2, 3]),\n",
              " array([2]))"
            ]
          },
          "metadata": {},
          "execution_count": 27
        }
      ]
    },
    {
      "cell_type": "code",
      "source": [
        "a[-1:2],a[-1:-2],a[-1:-3],a[0:-2]"
      ],
      "metadata": {
        "colab": {
          "base_uri": "https://localhost:8080/"
        },
        "id": "MssTKVMfaXxC",
        "outputId": "f4fa7d41-6a47-466e-c1bf-4cec0f56aaf2"
      },
      "execution_count": 30,
      "outputs": [
        {
          "output_type": "execute_result",
          "data": {
            "text/plain": [
              "(array([], dtype=int64),\n",
              " array([], dtype=int64),\n",
              " array([], dtype=int64),\n",
              " array([1]))"
            ]
          },
          "metadata": {},
          "execution_count": 30
        }
      ]
    },
    {
      "cell_type": "code",
      "source": [
        "pip install conda"
      ],
      "metadata": {
        "colab": {
          "base_uri": "https://localhost:8080/"
        },
        "id": "ep5Y6GCud_qR",
        "outputId": "0aa8950c-75eb-4d9d-8215-2a6a4b810382"
      },
      "execution_count": 31,
      "outputs": [
        {
          "output_type": "stream",
          "name": "stdout",
          "text": [
            "Collecting conda\n",
            "  Downloading conda-4.3.16.tar.gz (299 kB)\n",
            "\u001b[?25l\r\u001b[K     |█                               | 10 kB 15.0 MB/s eta 0:00:01\r\u001b[K     |██▏                             | 20 kB 20.8 MB/s eta 0:00:01\r\u001b[K     |███▎                            | 30 kB 24.1 MB/s eta 0:00:01\r\u001b[K     |████▍                           | 40 kB 27.4 MB/s eta 0:00:01\r\u001b[K     |█████▌                          | 51 kB 10.0 MB/s eta 0:00:01\r\u001b[K     |██████▋                         | 61 kB 10.6 MB/s eta 0:00:01\r\u001b[K     |███████▋                        | 71 kB 8.4 MB/s eta 0:00:01\r\u001b[K     |████████▊                       | 81 kB 9.3 MB/s eta 0:00:01\r\u001b[K     |█████████▉                      | 92 kB 9.6 MB/s eta 0:00:01\r\u001b[K     |███████████                     | 102 kB 8.6 MB/s eta 0:00:01\r\u001b[K     |████████████                    | 112 kB 8.6 MB/s eta 0:00:01\r\u001b[K     |█████████████▏                  | 122 kB 8.6 MB/s eta 0:00:01\r\u001b[K     |██████████████▎                 | 133 kB 8.6 MB/s eta 0:00:01\r\u001b[K     |███████████████▎                | 143 kB 8.6 MB/s eta 0:00:01\r\u001b[K     |████████████████▍               | 153 kB 8.6 MB/s eta 0:00:01\r\u001b[K     |█████████████████▌              | 163 kB 8.6 MB/s eta 0:00:01\r\u001b[K     |██████████████████▋             | 174 kB 8.6 MB/s eta 0:00:01\r\u001b[K     |███████████████████▊            | 184 kB 8.6 MB/s eta 0:00:01\r\u001b[K     |████████████████████▉           | 194 kB 8.6 MB/s eta 0:00:01\r\u001b[K     |██████████████████████          | 204 kB 8.6 MB/s eta 0:00:01\r\u001b[K     |███████████████████████         | 215 kB 8.6 MB/s eta 0:00:01\r\u001b[K     |████████████████████████        | 225 kB 8.6 MB/s eta 0:00:01\r\u001b[K     |█████████████████████████▏      | 235 kB 8.6 MB/s eta 0:00:01\r\u001b[K     |██████████████████████████▎     | 245 kB 8.6 MB/s eta 0:00:01\r\u001b[K     |███████████████████████████▍    | 256 kB 8.6 MB/s eta 0:00:01\r\u001b[K     |████████████████████████████▌   | 266 kB 8.6 MB/s eta 0:00:01\r\u001b[K     |█████████████████████████████▋  | 276 kB 8.6 MB/s eta 0:00:01\r\u001b[K     |██████████████████████████████▋ | 286 kB 8.6 MB/s eta 0:00:01\r\u001b[K     |███████████████████████████████▊| 296 kB 8.6 MB/s eta 0:00:01\r\u001b[K     |████████████████████████████████| 299 kB 8.6 MB/s \n",
            "\u001b[?25hCollecting pycosat>=0.6.1\n",
            "  Downloading pycosat-0.6.3.zip (66 kB)\n",
            "\u001b[K     |████████████████████████████████| 66 kB 4.0 MB/s \n",
            "\u001b[?25hRequirement already satisfied: requests>=2.12.4 in /usr/local/lib/python3.7/dist-packages (from conda) (2.23.0)\n",
            "Collecting ruamel.yaml>=0.11.14\n",
            "  Downloading ruamel.yaml-0.17.17-py3-none-any.whl (109 kB)\n",
            "\u001b[K     |████████████████████████████████| 109 kB 46.2 MB/s \n",
            "\u001b[?25hRequirement already satisfied: idna<3,>=2.5 in /usr/local/lib/python3.7/dist-packages (from requests>=2.12.4->conda) (2.10)\n",
            "Requirement already satisfied: chardet<4,>=3.0.2 in /usr/local/lib/python3.7/dist-packages (from requests>=2.12.4->conda) (3.0.4)\n",
            "Requirement already satisfied: certifi>=2017.4.17 in /usr/local/lib/python3.7/dist-packages (from requests>=2.12.4->conda) (2021.10.8)\n",
            "Requirement already satisfied: urllib3!=1.25.0,!=1.25.1,<1.26,>=1.21.1 in /usr/local/lib/python3.7/dist-packages (from requests>=2.12.4->conda) (1.24.3)\n",
            "Collecting ruamel.yaml.clib>=0.1.2\n",
            "  Downloading ruamel.yaml.clib-0.2.6-cp37-cp37m-manylinux1_x86_64.whl (546 kB)\n",
            "\u001b[K     |████████████████████████████████| 546 kB 38.8 MB/s \n",
            "\u001b[?25hBuilding wheels for collected packages: conda, pycosat\n",
            "  Building wheel for conda (setup.py) ... \u001b[?25l\u001b[?25hdone\n",
            "  Created wheel for conda: filename=conda-4.3.16-py3-none-any.whl size=336960 sha256=8ef15e6ddc0a945d56dc3874469a7c20004d3ed9201016a4c5d57cca552f8f8d\n",
            "  Stored in directory: /root/.cache/pip/wheels/66/ec/2c/cce33d7a071720882d948fd3364d3ff5562bac9e5638768d41\n",
            "  Building wheel for pycosat (setup.py) ... \u001b[?25l\u001b[?25hdone\n",
            "  Created wheel for pycosat: filename=pycosat-0.6.3-cp37-cp37m-linux_x86_64.whl size=143866 sha256=194e00289f969de02dba99fdf4aa83e57f96b109429341bccd993b9dc8865ed1\n",
            "  Stored in directory: /root/.cache/pip/wheels/c8/29/0e/a226b7c5a4f24e246f25201c0b1fbf6fb8f19f9cce89b02c36\n",
            "Successfully built conda pycosat\n",
            "Installing collected packages: ruamel.yaml.clib, ruamel.yaml, pycosat, conda\n",
            "Successfully installed conda-4.3.16 pycosat-0.6.3 ruamel.yaml-0.17.17 ruamel.yaml.clib-0.2.6\n"
          ]
        }
      ]
    },
    {
      "cell_type": "code",
      "source": [
        "a=np.array([[1,2,3],\n",
        "          [4,5,6]])\n",
        "\n",
        "a"
      ],
      "metadata": {
        "colab": {
          "base_uri": "https://localhost:8080/"
        },
        "id": "6KA2G2-3eR95",
        "outputId": "59a03c53-d3cf-4bff-a9ea-608bc7fc211b"
      },
      "execution_count": 35,
      "outputs": [
        {
          "output_type": "execute_result",
          "data": {
            "text/plain": [
              "array([[1, 2, 3],\n",
              "       [4, 5, 6]])"
            ]
          },
          "metadata": {},
          "execution_count": 35
        }
      ]
    },
    {
      "cell_type": "code",
      "source": [
        "#shell에서는 0번째 인자는 가로, 1번째 인자는 세로를 뜻한다.\n"
      ],
      "metadata": {
        "id": "oKV0gjmje90w"
      },
      "execution_count": 36,
      "outputs": []
    },
    {
      "cell_type": "code",
      "source": [
        "a=np.array([[1,2,3], [4,5,6]])\n",
        "\n",
        "a[0][1],a[0][-3],a[0][-2],a[0][-1]"
      ],
      "metadata": {
        "colab": {
          "base_uri": "https://localhost:8080/"
        },
        "id": "E6r1VWRlfDKA",
        "outputId": "74761c23-8fa4-48d6-cef2-aa828d77f245"
      },
      "execution_count": 41,
      "outputs": [
        {
          "output_type": "execute_result",
          "data": {
            "text/plain": [
              "(2, 1, 2, 3)"
            ]
          },
          "metadata": {},
          "execution_count": 41
        }
      ]
    },
    {
      "cell_type": "code",
      "source": [
        "a[0:2][0:3]"
      ],
      "metadata": {
        "colab": {
          "base_uri": "https://localhost:8080/"
        },
        "id": "I6IpifxigZBh",
        "outputId": "3f8af288-89c9-4df4-87bb-7739a421a4c7"
      },
      "execution_count": 43,
      "outputs": [
        {
          "output_type": "execute_result",
          "data": {
            "text/plain": [
              "array([[1, 2, 3],\n",
              "       [4, 5, 6]])"
            ]
          },
          "metadata": {},
          "execution_count": 43
        }
      ]
    },
    {
      "cell_type": "code",
      "source": [
        "a[:,:-1]"
      ],
      "metadata": {
        "colab": {
          "base_uri": "https://localhost:8080/"
        },
        "id": "Dj_9wU0lhCoQ",
        "outputId": "e0ce2293-cc82-4aa4-f2df-66b6146cd13a"
      },
      "execution_count": 45,
      "outputs": [
        {
          "output_type": "execute_result",
          "data": {
            "text/plain": [
              "array([[1, 2],\n",
              "       [4, 5]])"
            ]
          },
          "metadata": {},
          "execution_count": 45
        }
      ]
    },
    {
      "cell_type": "code",
      "source": [
        "a= np.arange(32)\n",
        "\n",
        "a, type(a), a.ndim, a.shape"
      ],
      "metadata": {
        "colab": {
          "base_uri": "https://localhost:8080/"
        },
        "id": "xMhmgJNwhn9R",
        "outputId": "540a65cb-a3ca-43be-f6aa-800b061956d2"
      },
      "execution_count": 48,
      "outputs": [
        {
          "output_type": "execute_result",
          "data": {
            "text/plain": [
              "(array([ 0,  1,  2,  3,  4,  5,  6,  7,  8,  9, 10, 11, 12, 13, 14, 15, 16,\n",
              "        17, 18, 19, 20, 21, 22, 23, 24, 25, 26, 27, 28, 29, 30, 31]),\n",
              " numpy.ndarray,\n",
              " 1,\n",
              " (32,))"
            ]
          },
          "metadata": {},
          "execution_count": 48
        }
      ]
    },
    {
      "cell_type": "code",
      "source": [
        "a= np.arange(32).reshape(-1,16)\n",
        "\n",
        "a, type(a), a.ndim, a.shape"
      ],
      "metadata": {
        "colab": {
          "base_uri": "https://localhost:8080/"
        },
        "id": "mv5syoMThwQQ",
        "outputId": "82306d56-cb93-40cb-e974-3a44e4d23a5a"
      },
      "execution_count": 52,
      "outputs": [
        {
          "output_type": "execute_result",
          "data": {
            "text/plain": [
              "(array([[ 0,  1,  2,  3,  4,  5,  6,  7,  8,  9, 10, 11, 12, 13, 14, 15],\n",
              "        [16, 17, 18, 19, 20, 21, 22, 23, 24, 25, 26, 27, 28, 29, 30, 31]]),\n",
              " numpy.ndarray,\n",
              " 2,\n",
              " (2, 16))"
            ]
          },
          "metadata": {},
          "execution_count": 52
        }
      ]
    },
    {
      "cell_type": "code",
      "source": [
        "a= np.arange(32).reshape(2,4,1,4,1)\n",
        "\n",
        "a"
      ],
      "metadata": {
        "colab": {
          "base_uri": "https://localhost:8080/"
        },
        "id": "n4-OErYEiI0Q",
        "outputId": "bfa7ee70-9e1b-4a2b-a24d-77fb0128fcbe"
      },
      "execution_count": 57,
      "outputs": [
        {
          "output_type": "execute_result",
          "data": {
            "text/plain": [
              "array([[[[[ 0],\n",
              "          [ 1],\n",
              "          [ 2],\n",
              "          [ 3]]],\n",
              "\n",
              "\n",
              "        [[[ 4],\n",
              "          [ 5],\n",
              "          [ 6],\n",
              "          [ 7]]],\n",
              "\n",
              "\n",
              "        [[[ 8],\n",
              "          [ 9],\n",
              "          [10],\n",
              "          [11]]],\n",
              "\n",
              "\n",
              "        [[[12],\n",
              "          [13],\n",
              "          [14],\n",
              "          [15]]]],\n",
              "\n",
              "\n",
              "\n",
              "       [[[[16],\n",
              "          [17],\n",
              "          [18],\n",
              "          [19]]],\n",
              "\n",
              "\n",
              "        [[[20],\n",
              "          [21],\n",
              "          [22],\n",
              "          [23]]],\n",
              "\n",
              "\n",
              "        [[[24],\n",
              "          [25],\n",
              "          [26],\n",
              "          [27]]],\n",
              "\n",
              "\n",
              "        [[[28],\n",
              "          [29],\n",
              "          [30],\n",
              "          [31]]]]])"
            ]
          },
          "metadata": {},
          "execution_count": 57
        }
      ]
    },
    {
      "cell_type": "code",
      "source": [
        "a=np.zeros((2,3))\n",
        "a"
      ],
      "metadata": {
        "colab": {
          "base_uri": "https://localhost:8080/"
        },
        "id": "DzPPw9SMjAwt",
        "outputId": "b54f113d-8476-4dc7-e86e-0f9713e78b1e"
      },
      "execution_count": 59,
      "outputs": [
        {
          "output_type": "execute_result",
          "data": {
            "text/plain": [
              "array([[0., 0., 0.],\n",
              "       [0., 0., 0.]])"
            ]
          },
          "metadata": {},
          "execution_count": 59
        }
      ]
    },
    {
      "cell_type": "code",
      "source": [
        "a=np.zeros(2)\n",
        "a"
      ],
      "metadata": {
        "colab": {
          "base_uri": "https://localhost:8080/"
        },
        "id": "lMhhi-pxjIiA",
        "outputId": "3a4ef297-a17d-4069-b140-b37f85050156"
      },
      "execution_count": 61,
      "outputs": [
        {
          "output_type": "execute_result",
          "data": {
            "text/plain": [
              "array([0., 0.])"
            ]
          },
          "metadata": {},
          "execution_count": 61
        }
      ]
    },
    {
      "cell_type": "code",
      "source": [
        "a=np.eye(3)\n",
        "a"
      ],
      "metadata": {
        "colab": {
          "base_uri": "https://localhost:8080/"
        },
        "id": "Cv_ZEgl2ja8f",
        "outputId": "78172efc-8863-47e3-961d-ee9ad91d3866"
      },
      "execution_count": 64,
      "outputs": [
        {
          "output_type": "execute_result",
          "data": {
            "text/plain": [
              "array([[1., 0., 0.],\n",
              "       [0., 1., 0.],\n",
              "       [0., 0., 1.]])"
            ]
          },
          "metadata": {},
          "execution_count": 64
        }
      ]
    },
    {
      "cell_type": "code",
      "source": [
        "a=np.random.random()\n",
        "a"
      ],
      "metadata": {
        "colab": {
          "base_uri": "https://localhost:8080/"
        },
        "id": "EPBwW3AKjo9A",
        "outputId": "216920b1-c025-4513-db5e-2a96c4e453eb"
      },
      "execution_count": 69,
      "outputs": [
        {
          "output_type": "execute_result",
          "data": {
            "text/plain": [
              "0.747483076845841"
            ]
          },
          "metadata": {},
          "execution_count": 69
        }
      ]
    },
    {
      "cell_type": "code",
      "source": [
        "#np.random.seed(777)\n",
        "a=np.random.random((2,3))\n",
        "a\n"
      ],
      "metadata": {
        "colab": {
          "base_uri": "https://localhost:8080/"
        },
        "id": "z3BSrtv5j9Wg",
        "outputId": "3fcba8d8-1831-4f73-af36-81c656008252"
      },
      "execution_count": 77,
      "outputs": [
        {
          "output_type": "execute_result",
          "data": {
            "text/plain": [
              "array([[0.58961375, 0.34334054, 0.98887615],\n",
              "       [0.62647321, 0.68177928, 0.55225681]])"
            ]
          },
          "metadata": {},
          "execution_count": 77
        }
      ]
    },
    {
      "cell_type": "code",
      "source": [
        "a=np.array([[1,2,3,4],[5,6,7,8,],[9,10,11,12]])\n",
        "a"
      ],
      "metadata": {
        "colab": {
          "base_uri": "https://localhost:8080/"
        },
        "id": "Q5lMM2WCllVP",
        "outputId": "1dd3bd26-a5aa-4fcf-be75-87b691653c7a"
      },
      "execution_count": 80,
      "outputs": [
        {
          "output_type": "execute_result",
          "data": {
            "text/plain": [
              "array([[ 1,  2,  3,  4],\n",
              "       [ 5,  6,  7,  8],\n",
              "       [ 9, 10, 11, 12]])"
            ]
          },
          "metadata": {},
          "execution_count": 80
        }
      ]
    },
    {
      "cell_type": "code",
      "source": [
        "b=a[:2,1:3]\n",
        "b"
      ],
      "metadata": {
        "colab": {
          "base_uri": "https://localhost:8080/"
        },
        "id": "XpWjOJOZmLCv",
        "outputId": "70fcd8f8-fe75-4478-db54-b64f9e61604c"
      },
      "execution_count": 82,
      "outputs": [
        {
          "output_type": "execute_result",
          "data": {
            "text/plain": [
              "array([[2, 3],\n",
              "       [6, 7]])"
            ]
          },
          "metadata": {},
          "execution_count": 82
        }
      ]
    },
    {
      "cell_type": "code",
      "source": [
        "a=np.array([[1,2,3,4],[5,6,7,8,],[9,10,11,12]])\n",
        "a"
      ],
      "metadata": {
        "colab": {
          "base_uri": "https://localhost:8080/"
        },
        "id": "-HGbiSj5nZUP",
        "outputId": "83a186d9-27c7-4dd7-f176-7a9db11cbbb0"
      },
      "execution_count": 84,
      "outputs": [
        {
          "output_type": "execute_result",
          "data": {
            "text/plain": [
              "array([[ 1,  2,  3,  4],\n",
              "       [ 5,  6,  7,  8],\n",
              "       [ 9, 10, 11, 12]])"
            ]
          },
          "metadata": {},
          "execution_count": 84
        }
      ]
    },
    {
      "cell_type": "code",
      "source": [
        "#1차원 배열\n",
        "col_r1=a[:1]\n",
        "col_r1"
      ],
      "metadata": {
        "colab": {
          "base_uri": "https://localhost:8080/"
        },
        "id": "gIlP_xrfnaif",
        "outputId": "88886f49-8b66-4ed8-8b6c-606e1b1a37b9"
      },
      "execution_count": 86,
      "outputs": [
        {
          "output_type": "execute_result",
          "data": {
            "text/plain": [
              "array([[1, 2, 3, 4]])"
            ]
          },
          "metadata": {},
          "execution_count": 86
        }
      ]
    },
    {
      "cell_type": "code",
      "source": [
        "#2차원 배열\n",
        "col_r2=a[:2]\n",
        "col_r2"
      ],
      "metadata": {
        "colab": {
          "base_uri": "https://localhost:8080/"
        },
        "id": "_9OEF7PjoZ5m",
        "outputId": "34940a74-40c8-4106-aeda-4b2da69f081e"
      },
      "execution_count": 88,
      "outputs": [
        {
          "output_type": "execute_result",
          "data": {
            "text/plain": [
              "array([[1, 2, 3, 4],\n",
              "       [5, 6, 7, 8]])"
            ]
          },
          "metadata": {},
          "execution_count": 88
        }
      ]
    },
    {
      "cell_type": "code",
      "source": [
        "a=np.array([[1,2],[3,4],[5,6]])\n",
        "\n",
        "a"
      ],
      "metadata": {
        "colab": {
          "base_uri": "https://localhost:8080/"
        },
        "id": "GrU9qqY_odMP",
        "outputId": "de19fb20-085a-467a-e182-201dba23f1bf"
      },
      "execution_count": 121,
      "outputs": [
        {
          "output_type": "execute_result",
          "data": {
            "text/plain": [
              "array([[1, 2],\n",
              "       [3, 4],\n",
              "       [5, 6]])"
            ]
          },
          "metadata": {},
          "execution_count": 121
        }
      ]
    },
    {
      "cell_type": "code",
      "source": [
        "a[0,1],a[0,1]"
      ],
      "metadata": {
        "colab": {
          "base_uri": "https://localhost:8080/"
        },
        "id": "8H2EZ0iJr32l",
        "outputId": "be82ccdc-c767-456c-8ffb-89009af93510"
      },
      "execution_count": 92,
      "outputs": [
        {
          "output_type": "execute_result",
          "data": {
            "text/plain": [
              "(2, 2)"
            ]
          },
          "metadata": {},
          "execution_count": 92
        }
      ]
    },
    {
      "cell_type": "code",
      "source": [
        "a[[0,0],[1,1]]"
      ],
      "metadata": {
        "colab": {
          "base_uri": "https://localhost:8080/"
        },
        "id": "QP9DkvfGr7ff",
        "outputId": "1140573e-5142-45d8-be80-8b2f5c87b047"
      },
      "execution_count": 94,
      "outputs": [
        {
          "output_type": "execute_result",
          "data": {
            "text/plain": [
              "array([2, 2])"
            ]
          },
          "metadata": {},
          "execution_count": 94
        }
      ]
    },
    {
      "cell_type": "code",
      "source": [
        "a=np.array([[1,2,3],[4,5,6],[7,8,9],[10,11,12]])"
      ],
      "metadata": {
        "id": "CFfP7Yh-tW7-"
      },
      "execution_count": 126,
      "outputs": []
    },
    {
      "cell_type": "code",
      "source": [
        "b=np.array([0,2,0,1])\n",
        "b"
      ],
      "metadata": {
        "colab": {
          "base_uri": "https://localhost:8080/"
        },
        "id": "17lzw1HOtkH-",
        "outputId": "364e7cf6-3487-4dc2-95eb-7c174e379a80"
      },
      "execution_count": 127,
      "outputs": [
        {
          "output_type": "execute_result",
          "data": {
            "text/plain": [
              "array([0, 2, 0, 1])"
            ]
          },
          "metadata": {},
          "execution_count": 127
        }
      ]
    },
    {
      "cell_type": "code",
      "source": [
        "c=np.arange(4)\n",
        "c"
      ],
      "metadata": {
        "colab": {
          "base_uri": "https://localhost:8080/"
        },
        "id": "1OVVX3uEtskO",
        "outputId": "08d83f58-7f27-45c1-985f-f970cf193eb0"
      },
      "execution_count": 128,
      "outputs": [
        {
          "output_type": "execute_result",
          "data": {
            "text/plain": [
              "array([0, 1, 2, 3])"
            ]
          },
          "metadata": {},
          "execution_count": 128
        }
      ]
    },
    {
      "cell_type": "code",
      "source": [
        "#원하는 픽셀을 뽑을 수 있도록 하는 함수.\n",
        "#두개는 같은 함수\n",
        "a[c,b], a[[0,1,2,3],[0,2,0,1]]"
      ],
      "metadata": {
        "colab": {
          "base_uri": "https://localhost:8080/"
        },
        "id": "wT1Wm6L3tw1u",
        "outputId": "37d95390-8333-4b68-e1e7-f701549ef04a"
      },
      "execution_count": 105,
      "outputs": [
        {
          "output_type": "execute_result",
          "data": {
            "text/plain": [
              "(array([ 1,  6,  7, 11]), array([ 1,  6,  7, 11]))"
            ]
          },
          "metadata": {},
          "execution_count": 105
        }
      ]
    },
    {
      "cell_type": "code",
      "source": [
        "d=np.array([1,6,7,11])\n",
        "d"
      ],
      "metadata": {
        "colab": {
          "base_uri": "https://localhost:8080/"
        },
        "id": "Nr12hWQJu83_",
        "outputId": "72046084-3c54-4ad3-d041-a78335cefa12"
      },
      "execution_count": 115,
      "outputs": [
        {
          "output_type": "execute_result",
          "data": {
            "text/plain": [
              "array([ 1,  6,  7, 11])"
            ]
          },
          "metadata": {},
          "execution_count": 115
        }
      ]
    },
    {
      "cell_type": "code",
      "source": [
        "#모든 항에 사칙연산을 해준다.\n",
        "d=d-10\n",
        "d"
      ],
      "metadata": {
        "colab": {
          "base_uri": "https://localhost:8080/"
        },
        "id": "tL2ZiyJQvC6w",
        "outputId": "7ba9da1a-1828-4c49-e2a0-a30d0efcf805"
      },
      "execution_count": 117,
      "outputs": [
        {
          "output_type": "execute_result",
          "data": {
            "text/plain": [
              "array([-19, -14, -13,  -9])"
            ]
          },
          "metadata": {},
          "execution_count": 117
        }
      ]
    },
    {
      "cell_type": "code",
      "source": [
        "a[c,b]+=10\n",
        "\n",
        "a"
      ],
      "metadata": {
        "colab": {
          "base_uri": "https://localhost:8080/"
        },
        "id": "y7imqOJ8vzYf",
        "outputId": "becf1d61-9c75-4cd5-b65f-3925832f9354"
      },
      "execution_count": 141,
      "outputs": [
        {
          "output_type": "execute_result",
          "data": {
            "text/plain": [
              "array([[31,  2,  3],\n",
              "       [ 4,  5, 36],\n",
              "       [37,  8,  9],\n",
              "       [10, 41, 12]])"
            ]
          },
          "metadata": {},
          "execution_count": 141
        }
      ]
    },
    {
      "cell_type": "code",
      "source": [
        "a=np.array([[1,2,3],\n",
        "           [4,5,6],\n",
        "           [7,8,9]])\n",
        "a"
      ],
      "metadata": {
        "colab": {
          "base_uri": "https://localhost:8080/"
        },
        "id": "kRKNmZkoxUJu",
        "outputId": "12b5b77d-5455-4cfb-8ca7-8c3c6cc151e0"
      },
      "execution_count": 145,
      "outputs": [
        {
          "output_type": "execute_result",
          "data": {
            "text/plain": [
              "array([[1, 2, 3],\n",
              "       [4, 5, 6],\n",
              "       [7, 8, 9]])"
            ]
          },
          "metadata": {},
          "execution_count": 145
        }
      ]
    },
    {
      "cell_type": "code",
      "source": [
        "#다음은 값이 false인지 true인지 확인하는 함수\n",
        "\n",
        "a>10"
      ],
      "metadata": {
        "colab": {
          "base_uri": "https://localhost:8080/"
        },
        "id": "3-IeI7VSwepu",
        "outputId": "78495593-35e4-4b82-e412-f76e7d2abf96"
      },
      "execution_count": 133,
      "outputs": [
        {
          "output_type": "execute_result",
          "data": {
            "text/plain": [
              "array([[ True, False, False],\n",
              "       [False, False,  True],\n",
              "       [ True, False, False],\n",
              "       [False,  True,  True]])"
            ]
          },
          "metadata": {},
          "execution_count": 133
        }
      ]
    },
    {
      "cell_type": "code",
      "source": [
        "a[np.array([[ True, False, False],\n",
        "       [False, False,  True],\n",
        "       [ True, False, False],\n",
        "       [False,  True,  True]])]\n",
        "a"
      ],
      "metadata": {
        "colab": {
          "base_uri": "https://localhost:8080/"
        },
        "id": "HTkOGbG-wmr-",
        "outputId": "1ec3e607-c0f4-49ae-a0fe-00f1fd275e47"
      },
      "execution_count": 137,
      "outputs": [
        {
          "output_type": "execute_result",
          "data": {
            "text/plain": [
              "array([[21,  2,  3],\n",
              "       [ 4,  5, 26],\n",
              "       [27,  8,  9],\n",
              "       [10, 31, 12]])"
            ]
          },
          "metadata": {},
          "execution_count": 137
        }
      ]
    },
    {
      "cell_type": "code",
      "source": [
        "#원하는 값들만 뽑아내는 방법.\n",
        "a[a>2]"
      ],
      "metadata": {
        "colab": {
          "base_uri": "https://localhost:8080/"
        },
        "id": "hmMooMW-w1qF",
        "outputId": "2e224ef6-d143-4745-acd2-eca4e4ae348d"
      },
      "execution_count": 147,
      "outputs": [
        {
          "output_type": "execute_result",
          "data": {
            "text/plain": [
              "array([3, 4, 5, 6, 7, 8, 9])"
            ]
          },
          "metadata": {},
          "execution_count": 147
        }
      ]
    },
    {
      "cell_type": "code",
      "source": [
        "#정수형을 실수형으로 바꾸는 방법\n",
        "a=np.array([1,2], dtype=np.float64)\n",
        "\n",
        "a, a.dtype"
      ],
      "metadata": {
        "colab": {
          "base_uri": "https://localhost:8080/"
        },
        "id": "tsRsN9_GxkPd",
        "outputId": "b6cd7ad4-3855-4a88-8af1-51bff687a70e"
      },
      "execution_count": 149,
      "outputs": [
        {
          "output_type": "execute_result",
          "data": {
            "text/plain": [
              "(array([1., 2.]), dtype('float64'))"
            ]
          },
          "metadata": {},
          "execution_count": 149
        }
      ]
    },
    {
      "cell_type": "code",
      "source": [
        "#int형으로 변환\n",
        "a=a.astype('int64')\n",
        "a"
      ],
      "metadata": {
        "colab": {
          "base_uri": "https://localhost:8080/"
        },
        "id": "hc4DTaPYyVIE",
        "outputId": "24b90248-601a-41ed-efcb-036eb8ba3ae0"
      },
      "execution_count": 151,
      "outputs": [
        {
          "output_type": "execute_result",
          "data": {
            "text/plain": [
              "array([1, 2])"
            ]
          },
          "metadata": {},
          "execution_count": 151
        }
      ]
    },
    {
      "cell_type": "code",
      "source": [
        "import numpy as np\n"
      ],
      "metadata": {
        "id": "Ku3JP0W6yz1O"
      },
      "execution_count": 152,
      "outputs": []
    },
    {
      "cell_type": "code",
      "source": [
        "x=np.array([[1.0,2.0],\n",
        "            [3.0,4.0]])\n",
        "y=np.array([[5.0,6.0],\n",
        "            [7.0,8.0]])"
      ],
      "metadata": {
        "id": "u0CrkiI-y5Bu"
      },
      "execution_count": 157,
      "outputs": []
    },
    {
      "cell_type": "code",
      "source": [
        "#행렬의 곱셈 공식\n",
        "x@y"
      ],
      "metadata": {
        "colab": {
          "base_uri": "https://localhost:8080/"
        },
        "id": "3zXy9P8RzIEN",
        "outputId": "84fb6b3a-92ee-4e60-fe50-2a720bb77844"
      },
      "execution_count": 158,
      "outputs": [
        {
          "output_type": "execute_result",
          "data": {
            "text/plain": [
              "array([[19., 22.],\n",
              "       [43., 50.]])"
            ]
          },
          "metadata": {},
          "execution_count": 158
        }
      ]
    }
  ]
}