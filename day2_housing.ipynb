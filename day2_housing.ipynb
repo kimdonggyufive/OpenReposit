{
  "nbformat": 4,
  "nbformat_minor": 0,
  "metadata": {
    "colab": {
      "name": "day2.housing.ipynb",
      "provenance": [],
      "collapsed_sections": [],
      "toc_visible": true,
      "mount_file_id": "1qt9ez7EJOEh2AY3z4LqXAgFSWifsWuhO",
      "authorship_tag": "ABX9TyOCwCl+snYAhrBMcYEPF/Ix",
      "include_colab_link": true
    },
    "kernelspec": {
      "name": "python3",
      "display_name": "Python 3"
    },
    "language_info": {
      "name": "python"
    }
  },
  "cells": [
    {
      "cell_type": "markdown",
      "metadata": {
        "id": "view-in-github",
        "colab_type": "text"
      },
      "source": [
        "<a href=\"https://colab.research.google.com/github/kimdonggyufive/OpenReposit/blob/main/day2_housing.ipynb\" target=\"_parent\"><img src=\"https://colab.research.google.com/assets/colab-badge.svg\" alt=\"Open In Colab\"/></a>"
      ]
    },
    {
      "cell_type": "code",
      "source": [
        "from tensorflow.keras.datasets import boston_housing\n",
        "(train_data, train_targets),(test_data, test_targets)=boston_housing.load_data()"
      ],
      "metadata": {
        "id": "xYrLiwEdnUXU",
        "colab": {
          "base_uri": "https://localhost:8080/"
        },
        "outputId": "dbefe2dc-5124-41a8-d07e-01c324e90e5a"
      },
      "execution_count": 2,
      "outputs": [
        {
          "output_type": "stream",
          "name": "stdout",
          "text": [
            "Downloading data from https://storage.googleapis.com/tensorflow/tf-keras-datasets/boston_housing.npz\n",
            "57344/57026 [==============================] - 0s 0us/step\n",
            "65536/57026 [==================================] - 0s 0us/step\n"
          ]
        }
      ]
    },
    {
      "cell_type": "code",
      "source": [
        "train_data.shape, train_targets.shape"
      ],
      "metadata": {
        "colab": {
          "base_uri": "https://localhost:8080/"
        },
        "id": "FXx9gnmxoK9h",
        "outputId": "8fcdcc38-3170-4e62-efcf-f37fd247fbb8"
      },
      "execution_count": 4,
      "outputs": [
        {
          "output_type": "execute_result",
          "data": {
            "text/plain": [
              "((404, 13), (404,))"
            ]
          },
          "metadata": {},
          "execution_count": 4
        }
      ]
    },
    {
      "cell_type": "code",
      "source": [
        "from tensorflow.keras.models import Sequential\n",
        "from tensorflow.keras.layers import Dense\n",
        "\n",
        "model=Sequential()\n",
        "#784 = 28*28의 이미지를 넣는다.\n",
        "model.add(Dense(64, activation='relu', input_shape=(13,)))\n",
        "#model.add(Dense(64, activation='relu'))\n",
        "#결과 값은 다음과 같다.\n",
        "#softmax는 분류를 하는 것이다.\n",
        "model.add(Dense(1))"
      ],
      "metadata": {
        "id": "9dQ-MplbE0BW"
      },
      "execution_count": 5,
      "outputs": []
    },
    {
      "cell_type": "code",
      "source": [
        "model.compile(optimizer='adam',loss='mse',metrics=['mae'])"
      ],
      "metadata": {
        "id": "5MmlnxsMFhuw"
      },
      "execution_count": 6,
      "outputs": []
    },
    {
      "cell_type": "code",
      "source": [
        "model.summary()"
      ],
      "metadata": {
        "id": "U0voom7oFzxf",
        "outputId": "1e85b80a-64c3-4c2d-b4c4-106cdf947d88",
        "colab": {
          "base_uri": "https://localhost:8080/"
        }
      },
      "execution_count": 7,
      "outputs": [
        {
          "output_type": "stream",
          "name": "stdout",
          "text": [
            "Model: \"sequential\"\n",
            "_________________________________________________________________\n",
            " Layer (type)                Output Shape              Param #   \n",
            "=================================================================\n",
            " dense (Dense)               (None, 64)                896       \n",
            "                                                                 \n",
            " dense_1 (Dense)             (None, 1)                 65        \n",
            "                                                                 \n",
            "=================================================================\n",
            "Total params: 961\n",
            "Trainable params: 961\n",
            "Non-trainable params: 0\n",
            "_________________________________________________________________\n"
          ]
        }
      ]
    },
    {
      "cell_type": "code",
      "source": [
        "model.fit(train_data,train_targets, batch_size = 101, epochs = 100)"
      ],
      "metadata": {
        "colab": {
          "base_uri": "https://localhost:8080/"
        },
        "id": "rJIKMD050T1y",
        "outputId": "1795bb42-b1fd-426d-dfb3-f46e1f92f3c8"
      },
      "execution_count": 10,
      "outputs": [
        {
          "output_type": "stream",
          "name": "stdout",
          "text": [
            "Epoch 1/100\n",
            "4/4 [==============================] - 0s 4ms/step - loss: 42.0153 - mae: 4.3925\n",
            "Epoch 2/100\n",
            "4/4 [==============================] - 0s 5ms/step - loss: 41.8405 - mae: 4.3225\n",
            "Epoch 3/100\n",
            "4/4 [==============================] - 0s 4ms/step - loss: 41.5755 - mae: 4.5651\n",
            "Epoch 4/100\n",
            "4/4 [==============================] - 0s 5ms/step - loss: 41.4531 - mae: 4.4604\n",
            "Epoch 5/100\n",
            "4/4 [==============================] - 0s 5ms/step - loss: 41.2430 - mae: 4.2623\n",
            "Epoch 6/100\n",
            "4/4 [==============================] - 0s 5ms/step - loss: 40.7108 - mae: 4.4473\n",
            "Epoch 7/100\n",
            "4/4 [==============================] - 0s 6ms/step - loss: 40.1911 - mae: 4.4333\n",
            "Epoch 8/100\n",
            "4/4 [==============================] - 0s 5ms/step - loss: 40.1667 - mae: 4.2088\n",
            "Epoch 9/100\n",
            "4/4 [==============================] - 0s 5ms/step - loss: 39.6586 - mae: 4.4179\n",
            "Epoch 10/100\n",
            "4/4 [==============================] - 0s 5ms/step - loss: 39.4119 - mae: 4.3685\n",
            "Epoch 11/100\n",
            "4/4 [==============================] - 0s 6ms/step - loss: 39.1510 - mae: 4.2525\n",
            "Epoch 12/100\n",
            "4/4 [==============================] - 0s 6ms/step - loss: 38.8581 - mae: 4.3599\n",
            "Epoch 13/100\n",
            "4/4 [==============================] - 0s 5ms/step - loss: 38.8241 - mae: 4.2129\n",
            "Epoch 14/100\n",
            "4/4 [==============================] - 0s 5ms/step - loss: 38.4075 - mae: 4.3155\n",
            "Epoch 15/100\n",
            "4/4 [==============================] - 0s 6ms/step - loss: 38.3265 - mae: 4.3988\n",
            "Epoch 16/100\n",
            "4/4 [==============================] - 0s 10ms/step - loss: 38.2037 - mae: 4.1381\n",
            "Epoch 17/100\n",
            "4/4 [==============================] - 0s 7ms/step - loss: 38.4599 - mae: 4.3728\n",
            "Epoch 18/100\n",
            "4/4 [==============================] - 0s 6ms/step - loss: 37.5470 - mae: 4.3268\n",
            "Epoch 19/100\n",
            "4/4 [==============================] - 0s 5ms/step - loss: 37.4180 - mae: 4.1299\n",
            "Epoch 20/100\n",
            "4/4 [==============================] - 0s 5ms/step - loss: 37.1843 - mae: 4.2492\n",
            "Epoch 21/100\n",
            "4/4 [==============================] - 0s 5ms/step - loss: 36.8480 - mae: 4.2644\n",
            "Epoch 22/100\n",
            "4/4 [==============================] - 0s 5ms/step - loss: 36.7372 - mae: 4.1224\n",
            "Epoch 23/100\n",
            "4/4 [==============================] - 0s 5ms/step - loss: 36.4451 - mae: 4.2727\n",
            "Epoch 24/100\n",
            "4/4 [==============================] - 0s 6ms/step - loss: 36.2072 - mae: 4.2823\n",
            "Epoch 25/100\n",
            "4/4 [==============================] - 0s 5ms/step - loss: 36.7999 - mae: 4.1160\n",
            "Epoch 26/100\n",
            "4/4 [==============================] - 0s 5ms/step - loss: 36.0164 - mae: 4.2570\n",
            "Epoch 27/100\n",
            "4/4 [==============================] - 0s 5ms/step - loss: 35.6745 - mae: 4.1534\n",
            "Epoch 28/100\n",
            "4/4 [==============================] - 0s 6ms/step - loss: 35.5985 - mae: 4.1067\n",
            "Epoch 29/100\n",
            "4/4 [==============================] - 0s 6ms/step - loss: 35.6032 - mae: 4.2438\n",
            "Epoch 30/100\n",
            "4/4 [==============================] - 0s 5ms/step - loss: 35.7598 - mae: 4.1320\n",
            "Epoch 31/100\n",
            "4/4 [==============================] - 0s 5ms/step - loss: 35.0134 - mae: 4.1565\n",
            "Epoch 32/100\n",
            "4/4 [==============================] - 0s 4ms/step - loss: 35.1663 - mae: 4.3015\n",
            "Epoch 33/100\n",
            "4/4 [==============================] - 0s 4ms/step - loss: 35.4650 - mae: 4.0020\n",
            "Epoch 34/100\n",
            "4/4 [==============================] - 0s 5ms/step - loss: 34.6295 - mae: 4.2023\n",
            "Epoch 35/100\n",
            "4/4 [==============================] - 0s 5ms/step - loss: 35.1674 - mae: 4.1669\n",
            "Epoch 36/100\n",
            "4/4 [==============================] - 0s 3ms/step - loss: 34.8133 - mae: 4.1817\n",
            "Epoch 37/100\n",
            "4/4 [==============================] - 0s 4ms/step - loss: 34.6725 - mae: 4.0718\n",
            "Epoch 38/100\n",
            "4/4 [==============================] - 0s 5ms/step - loss: 35.4705 - mae: 4.3613\n",
            "Epoch 39/100\n",
            "4/4 [==============================] - 0s 6ms/step - loss: 35.5922 - mae: 3.9833\n",
            "Epoch 40/100\n",
            "4/4 [==============================] - 0s 5ms/step - loss: 34.7161 - mae: 4.2551\n",
            "Epoch 41/100\n",
            "4/4 [==============================] - 0s 4ms/step - loss: 34.4685 - mae: 4.1893\n",
            "Epoch 42/100\n",
            "4/4 [==============================] - 0s 4ms/step - loss: 33.6728 - mae: 3.9822\n",
            "Epoch 43/100\n",
            "4/4 [==============================] - 0s 5ms/step - loss: 33.6049 - mae: 4.2034\n",
            "Epoch 44/100\n",
            "4/4 [==============================] - 0s 6ms/step - loss: 33.7094 - mae: 4.0012\n",
            "Epoch 45/100\n",
            "4/4 [==============================] - 0s 4ms/step - loss: 33.8876 - mae: 4.2296\n",
            "Epoch 46/100\n",
            "4/4 [==============================] - 0s 5ms/step - loss: 33.7804 - mae: 4.0428\n",
            "Epoch 47/100\n",
            "4/4 [==============================] - 0s 4ms/step - loss: 33.3565 - mae: 4.1290\n",
            "Epoch 48/100\n",
            "4/4 [==============================] - 0s 4ms/step - loss: 32.7698 - mae: 4.1165\n",
            "Epoch 49/100\n",
            "4/4 [==============================] - 0s 4ms/step - loss: 33.6128 - mae: 4.0128\n",
            "Epoch 50/100\n",
            "4/4 [==============================] - 0s 4ms/step - loss: 33.2085 - mae: 4.2482\n",
            "Epoch 51/100\n",
            "4/4 [==============================] - 0s 5ms/step - loss: 33.4440 - mae: 3.9740\n",
            "Epoch 52/100\n",
            "4/4 [==============================] - 0s 4ms/step - loss: 32.8655 - mae: 4.2071\n",
            "Epoch 53/100\n",
            "4/4 [==============================] - 0s 4ms/step - loss: 32.6348 - mae: 3.9356\n",
            "Epoch 54/100\n",
            "4/4 [==============================] - 0s 5ms/step - loss: 32.1234 - mae: 4.0495\n",
            "Epoch 55/100\n",
            "4/4 [==============================] - 0s 6ms/step - loss: 32.1531 - mae: 4.1925\n",
            "Epoch 56/100\n",
            "4/4 [==============================] - 0s 4ms/step - loss: 32.4491 - mae: 3.8857\n",
            "Epoch 57/100\n",
            "4/4 [==============================] - 0s 5ms/step - loss: 31.9866 - mae: 4.1500\n",
            "Epoch 58/100\n",
            "4/4 [==============================] - 0s 5ms/step - loss: 32.0642 - mae: 4.0320\n",
            "Epoch 59/100\n",
            "4/4 [==============================] - 0s 4ms/step - loss: 32.1802 - mae: 4.0682\n",
            "Epoch 60/100\n",
            "4/4 [==============================] - 0s 5ms/step - loss: 31.6932 - mae: 4.0469\n",
            "Epoch 61/100\n",
            "4/4 [==============================] - 0s 4ms/step - loss: 31.5085 - mae: 4.0369\n",
            "Epoch 62/100\n",
            "4/4 [==============================] - 0s 5ms/step - loss: 32.1196 - mae: 3.9365\n",
            "Epoch 63/100\n",
            "4/4 [==============================] - 0s 4ms/step - loss: 31.5892 - mae: 4.1128\n",
            "Epoch 64/100\n",
            "4/4 [==============================] - 0s 4ms/step - loss: 31.0587 - mae: 3.9814\n",
            "Epoch 65/100\n",
            "4/4 [==============================] - 0s 4ms/step - loss: 31.5391 - mae: 3.9684\n",
            "Epoch 66/100\n",
            "4/4 [==============================] - 0s 4ms/step - loss: 31.0256 - mae: 4.0110\n",
            "Epoch 67/100\n",
            "4/4 [==============================] - 0s 4ms/step - loss: 31.0535 - mae: 3.9144\n",
            "Epoch 68/100\n",
            "4/4 [==============================] - 0s 5ms/step - loss: 30.8329 - mae: 3.9250\n",
            "Epoch 69/100\n",
            "4/4 [==============================] - 0s 4ms/step - loss: 30.8190 - mae: 4.0201\n",
            "Epoch 70/100\n",
            "4/4 [==============================] - 0s 4ms/step - loss: 30.6474 - mae: 3.9562\n",
            "Epoch 71/100\n",
            "4/4 [==============================] - 0s 4ms/step - loss: 30.6876 - mae: 3.9025\n",
            "Epoch 72/100\n",
            "4/4 [==============================] - 0s 5ms/step - loss: 30.8138 - mae: 4.0670\n",
            "Epoch 73/100\n",
            "4/4 [==============================] - 0s 6ms/step - loss: 30.4280 - mae: 3.8789\n",
            "Epoch 74/100\n",
            "4/4 [==============================] - 0s 6ms/step - loss: 30.3308 - mae: 3.8973\n",
            "Epoch 75/100\n",
            "4/4 [==============================] - 0s 5ms/step - loss: 30.5793 - mae: 3.9494\n",
            "Epoch 76/100\n",
            "4/4 [==============================] - 0s 7ms/step - loss: 30.5433 - mae: 4.0346\n",
            "Epoch 77/100\n",
            "4/4 [==============================] - 0s 9ms/step - loss: 30.3294 - mae: 3.8648\n",
            "Epoch 78/100\n",
            "4/4 [==============================] - 0s 6ms/step - loss: 30.1968 - mae: 3.9341\n",
            "Epoch 79/100\n",
            "4/4 [==============================] - 0s 8ms/step - loss: 30.7940 - mae: 3.9086\n",
            "Epoch 80/100\n",
            "4/4 [==============================] - 0s 5ms/step - loss: 30.3671 - mae: 4.0300\n",
            "Epoch 81/100\n",
            "4/4 [==============================] - 0s 4ms/step - loss: 30.1015 - mae: 3.8971\n",
            "Epoch 82/100\n",
            "4/4 [==============================] - 0s 6ms/step - loss: 31.4871 - mae: 4.0482\n",
            "Epoch 83/100\n",
            "4/4 [==============================] - 0s 6ms/step - loss: 29.7763 - mae: 3.8527\n",
            "Epoch 84/100\n",
            "4/4 [==============================] - 0s 6ms/step - loss: 29.9417 - mae: 3.8369\n",
            "Epoch 85/100\n",
            "4/4 [==============================] - 0s 5ms/step - loss: 30.5963 - mae: 4.1455\n",
            "Epoch 86/100\n",
            "4/4 [==============================] - 0s 5ms/step - loss: 31.9652 - mae: 3.8499\n",
            "Epoch 87/100\n",
            "4/4 [==============================] - 0s 5ms/step - loss: 31.3428 - mae: 4.2092\n",
            "Epoch 88/100\n",
            "4/4 [==============================] - 0s 6ms/step - loss: 29.8935 - mae: 3.7950\n",
            "Epoch 89/100\n",
            "4/4 [==============================] - 0s 4ms/step - loss: 29.4597 - mae: 3.8553\n",
            "Epoch 90/100\n",
            "4/4 [==============================] - 0s 7ms/step - loss: 30.3921 - mae: 3.8821\n",
            "Epoch 91/100\n",
            "4/4 [==============================] - 0s 7ms/step - loss: 29.6296 - mae: 3.9137\n",
            "Epoch 92/100\n",
            "4/4 [==============================] - 0s 5ms/step - loss: 29.4207 - mae: 3.9281\n",
            "Epoch 93/100\n",
            "4/4 [==============================] - 0s 5ms/step - loss: 29.4727 - mae: 3.8158\n",
            "Epoch 94/100\n",
            "4/4 [==============================] - 0s 5ms/step - loss: 29.5058 - mae: 3.8941\n",
            "Epoch 95/100\n",
            "4/4 [==============================] - 0s 6ms/step - loss: 29.2498 - mae: 3.8740\n",
            "Epoch 96/100\n",
            "4/4 [==============================] - 0s 5ms/step - loss: 29.2836 - mae: 3.8250\n",
            "Epoch 97/100\n",
            "4/4 [==============================] - 0s 5ms/step - loss: 29.2307 - mae: 3.9205\n",
            "Epoch 98/100\n",
            "4/4 [==============================] - 0s 7ms/step - loss: 29.4413 - mae: 3.7880\n",
            "Epoch 99/100\n",
            "4/4 [==============================] - 0s 5ms/step - loss: 29.0924 - mae: 3.8916\n",
            "Epoch 100/100\n",
            "4/4 [==============================] - 0s 8ms/step - loss: 29.1107 - mae: 3.8742\n"
          ]
        },
        {
          "output_type": "execute_result",
          "data": {
            "text/plain": [
              "<keras.callbacks.History at 0x7ff68d20ee50>"
            ]
          },
          "metadata": {},
          "execution_count": 10
        }
      ]
    },
    {
      "cell_type": "code",
      "source": [
        "test_loss, test_acc = model.evaluate(test_images,test_labels)\n",
        "#seed값이 같음으로 시작 값은 같지만, 학습 방법에 w,b에 Random한 값을 넣어줌으로써 정확도 값은 지속적으로 변한다,\n",
        "#따라서 정확한 값을 얻기 위해서는 계속 정확도가 높을 때까지 돌려보는 방법 밖에 없다.\n",
        "print(f'loss={test_loss}, acc= {test_acc*100:.2f}%')"
      ],
      "metadata": {
        "colab": {
          "base_uri": "https://localhost:8080/"
        },
        "id": "wpFGIDmU4MJy",
        "outputId": "55bf48c0-63a1-47cb-c1b5-e1c3753de70c"
      },
      "execution_count": null,
      "outputs": [
        {
          "output_type": "stream",
          "name": "stdout",
          "text": [
            "313/313 [==============================] - 2s 5ms/step - loss: 47.6399 - accuracy: 0.8334\n",
            "loss=47.639949798583984, acc= 83.34%\n"
          ]
        }
      ]
    },
    {
      "cell_type": "code",
      "source": [
        "import random\n",
        "#1~9999개 중 임의의 수가 들어감\n",
        "r=random.randrange(len(test_labels))\n",
        "r_images=test_images[r:r+1]\n",
        "r_labels=test_labels[r:r+1]\n",
        "#x에는 예측하고 싶은 값을 준다.\n",
        "r_predict=model.predict(r_images)\n",
        "print('P',np.argmax(r_predict), r_predict)\n",
        "print('L',np.argmax(r_labels), r_labels)\n"
      ],
      "metadata": {
        "colab": {
          "base_uri": "https://localhost:8080/"
        },
        "id": "1lwSQM9H2yqS",
        "outputId": "8ebaf980-d981-4238-cbc0-bac05c595df5"
      },
      "execution_count": null,
      "outputs": [
        {
          "output_type": "stream",
          "name": "stdout",
          "text": [
            "P 0 [[1. 0. 0. 0. 0. 0. 0. 0. 0. 0.]]\n",
            "L 0 [[1. 0. 0. 0. 0. 0. 0. 0. 0. 0.]]\n"
          ]
        }
      ]
    },
    {
      "cell_type": "code",
      "source": [
        "import matplotlib.pyplot as plt\n",
        "#이미지를 다시보기\n",
        "#원본 이미지가 1차원으로 되어있으니 reshape으로 2차원으로 바꾼다.\n",
        "plt.imshow(r_images.reshape(28,28),cmap=plt.cm.binary)"
      ],
      "metadata": {
        "colab": {
          "base_uri": "https://localhost:8080/",
          "height": 283
        },
        "id": "ufmXxf8R1I6z",
        "outputId": "f6afe223-8b03-4466-b199-f93b2e6cef4d"
      },
      "execution_count": null,
      "outputs": [
        {
          "output_type": "execute_result",
          "data": {
            "text/plain": [
              "<matplotlib.image.AxesImage at 0x7fdf16561d90>"
            ]
          },
          "metadata": {},
          "execution_count": 27
        },
        {
          "output_type": "display_data",
          "data": {
            "image/png": "[encoded data removed]",
            "text/plain": [
              "<Figure size 432x288 with 1 Axes>"
            ]
          },
          "metadata": {
            "needs_background": "light"
          }
        }
      ]
    }
  ]
}