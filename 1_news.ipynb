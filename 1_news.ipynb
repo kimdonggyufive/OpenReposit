{
  "nbformat": 4,
  "nbformat_minor": 0,
  "metadata": {
    "colab": {
      "name": "1.news.ipynb",
      "provenance": [],
      "collapsed_sections": [],
      "include_colab_link": true
    },
    "kernelspec": {
      "name": "python3",
      "display_name": "Python 3"
    },
    "language_info": {
      "name": "python"
    }
  },
  "cells": [
    {
      "cell_type": "markdown",
      "metadata": {
        "id": "view-in-github",
        "colab_type": "text"
      },
      "source": [
        "<a href=\"https://colab.research.google.com/github/kimdonggyufive/OpenReposit/blob/main/1_news.ipynb\" target=\"_parent\"><img src=\"https://colab.research.google.com/assets/colab-badge.svg\" alt=\"Open In Colab\"/></a>"
      ]
    },
    {
      "cell_type": "code",
      "source": [
        "import numpy as np\n",
        "import tensorflow as tf\n",
        "\n",
        "#시드 고정시키기-> 값이 계속 변하지 않게 하기 위해(Random값이)\n",
        "np.random.seed(777)\n",
        "tf.random.set_seed(777)"
      ],
      "metadata": {
        "id": "qTxFHY-nm2QZ"
      },
      "execution_count": 1,
      "outputs": []
    },
    {
      "cell_type": "code",
      "source": [
        "from tensorflow.keras.datasets import reuters\n",
        "#80%,20% 할 당됨.\n",
        "#load_data 마우스를 올릴 경우 할당 비율을 알 수 있다.\n",
        "(train_data,train_labels),(test_data,test_labels)=reuters.load_data(num_words=10000)"
      ],
      "metadata": {
        "id": "0Xvb9ZspnOI8",
        "colab": {
          "base_uri": "https://localhost:8080/"
        },
        "outputId": "f4753f8a-9c62-4b13-fa0f-d23c422d0fd7"
      },
      "execution_count": 2,
      "outputs": [
        {
          "output_type": "stream",
          "name": "stdout",
          "text": [
            "Downloading data from https://storage.googleapis.com/tensorflow/tf-keras-datasets/reuters.npz\n",
            "2113536/2110848 [==============================] - 0s 0us/step\n",
            "2121728/2110848 [==============================] - 0s 0us/step\n"
          ]
        }
      ]
    },
    {
      "cell_type": "code",
      "source": [
        "#train data\n",
        "train_data.shape, train_labels.shape"
      ],
      "metadata": {
        "colab": {
          "base_uri": "https://localhost:8080/"
        },
        "id": "mhpINn9uniqs",
        "outputId": "609cf9d1-6533-4c37-a634-b5c48270d2af"
      },
      "execution_count": 3,
      "outputs": [
        {
          "output_type": "execute_result",
          "data": {
            "text/plain": [
              "((8982,), (8982,))"
            ]
          },
          "metadata": {},
          "execution_count": 3
        }
      ]
    },
    {
      "cell_type": "code",
      "source": [
        "#test data갯수\n",
        "test_data.shape, test_labels.shape"
      ],
      "metadata": {
        "colab": {
          "base_uri": "https://localhost:8080/"
        },
        "id": "79JkT1TMn6R4",
        "outputId": "84d97c00-6a5c-496b-ca78-0df8cf472688"
      },
      "execution_count": 5,
      "outputs": [
        {
          "output_type": "execute_result",
          "data": {
            "text/plain": [
              "((2246,), (2246,))"
            ]
          },
          "metadata": {},
          "execution_count": 5
        }
      ]
    },
    {
      "cell_type": "code",
      "source": [
        ""
      ],
      "metadata": {
        "id": "OnR0JrOrBeNJ"
      },
      "execution_count": null,
      "outputs": []
    },
    {
      "cell_type": "code",
      "source": [
        "#train데이터의 하나만 본다.\n",
        "#첫번째가 218개의 숫자로 이루어짐\n",
        "#두번째가 189개의 숫자로 이루어짐\n",
        "len(train_data[0]), len(train_data[1]) "
      ],
      "metadata": {
        "colab": {
          "base_uri": "https://localhost:8080/"
        },
        "id": "LNQUKfPNn-2c",
        "outputId": "9c676d8a-0d16-4a6b-d698-30418dd29623"
      },
      "execution_count": null,
      "outputs": [
        {
          "output_type": "execute_result",
          "data": {
            "text/plain": [
              "(218, 189)"
            ]
          },
          "metadata": {},
          "execution_count": 5
        }
      ]
    },
    {
      "cell_type": "code",
      "source": [
        "#0일때 부정적인 데이터, 1일대 긍정적인 데이터\n",
        "test_labels[:5]"
      ],
      "metadata": {
        "colab": {
          "base_uri": "https://localhost:8080/"
        },
        "id": "h3bKyPEZoOh-",
        "outputId": "ab13e93a-9892-4a1a-ba78-5881ae944141"
      },
      "execution_count": null,
      "outputs": [
        {
          "output_type": "execute_result",
          "data": {
            "text/plain": [
              "array([0, 1, 1, 0, 1])"
            ]
          },
          "metadata": {},
          "execution_count": 6
        }
      ]
    },
    {
      "cell_type": "code",
      "source": [
        "word_index=imdb.get_word_index()\n",
        "#총 모든 단어 index는 88584개가 존재 \n",
        "#word_imdex에 'game'이 포함되어 있는 인덱스는 497개\n",
        "len(word_index),word_index[\"game\"]"
      ],
      "metadata": {
        "colab": {
          "base_uri": "https://localhost:8080/"
        },
        "id": "BIP-U0oT-FzV",
        "outputId": "269a5d09-67ba-4916-c8d9-90bb21d926b0"
      },
      "execution_count": null,
      "outputs": [
        {
          "output_type": "execute_result",
          "data": {
            "text/plain": [
              "(88584, 497)"
            ]
          },
          "metadata": {},
          "execution_count": 7
        }
      ]
    },
    {
      "cell_type": "code",
      "source": [
        "#인덱스를 꺼내는데 순서를 바꾼다.\n",
        "index_word=dict([(index, word) for (word, index) in word_index.items()])\n",
        "#                     i       for       i         in    range(10)\n",
        "len(index_word), index_word.get(11,'not found')"
      ],
      "metadata": {
        "colab": {
          "base_uri": "https://localhost:8080/"
        },
        "id": "FCoQRi9Z-yjr",
        "outputId": "11ee3929-29f2-4e26-f31b-9c4103edf8d4"
      },
      "execution_count": null,
      "outputs": [
        {
          "output_type": "execute_result",
          "data": {
            "text/plain": [
              "(88584, 'this')"
            ]
          },
          "metadata": {},
          "execution_count": 8
        }
      ]
    },
    {
      "cell_type": "code",
      "source": [
        " #단어에 숫자를 바꿀때는 3이 차이가 나서 3을 빼준다\n",
        " #단어들을 숫자로 index화 시켜 index를 학습시킨다.\n",
        " #decoded_review=' '.join(index_word.get(i-3,'?') for i in train_data[0])\n",
        " decoded_review=' '.join(index_word.get(i-3,'?') for i in train_data[0])\n",
        " decoded_review\n",
        " #decoded_review 현재 나온 값은 원문이다.\n",
        " #문제는 각각의 리뷰 데이터의 크기가 들쑥 날쑥하기 때문에 통일시켜주는 작업이 필요하다, 따라서 각각의 데이터를 10000개의 빈통에 넣고 빈 공간에는 0을 넣고 해당 단어 대응되는 index번호에는 1을 넣어서 통일을 시켜준다.\n",
        "\n"
      ],
      "metadata": {
        "colab": {
          "base_uri": "https://localhost:8080/",
          "height": 219
        },
        "id": "3TIa2gwQ_o8E",
        "outputId": "564b7da5-8c44-4249-e863-d7ac983924c2"
      },
      "execution_count": null,
      "outputs": [
        {
          "output_type": "execute_result",
          "data": {
            "application/vnd.google.colaboratory.intrinsic+json": {
              "type": "string"
            },
            "text/plain": [
              "\"? this film was just brilliant casting location scenery story direction everyone's really suited the part they played and you could just imagine being there robert ? is an amazing actor and now the same being director ? father came from the same scottish island as myself so i loved the fact there was a real connection with this film the witty remarks throughout the film were great it was just brilliant so much that i bought the film as soon as it was released for ? and would recommend it to everyone to watch and the fly fishing was amazing really cried at the end it was so sad and you know what they say if you cry at a film it must have been good and this definitely was also ? to the two little boy's that played the ? of norman and paul they were just brilliant children are often left out of the ? list i think because the stars that play them all grown up are such a big profile for the whole film but these children are amazing and should be praised for what they have done don't you think the whole story was so lovely because it was true and was someone's life after all that was shared with us all\""
            ]
          },
          "metadata": {},
          "execution_count": 20
        }
      ]
    },
    {
      "cell_type": "code",
      "source": [
        "def vectorize_sequence(sequences,dimenssion=10000):\n",
        "  results=np.zeros((len(sequences),dimenssion))\n",
        "  for i,sequences in enumerate(sequences):\n",
        "    results[i,sequences]= 1.\n",
        "  return results"
      ],
      "metadata": {
        "id": "XNALC9hjFUkC"
      },
      "execution_count": null,
      "outputs": []
    },
    {
      "cell_type": "code",
      "source": [
        "x_train=vectorize_sequence(train_data)\n",
        "x_test=vectorize_sequence(test_data)"
      ],
      "metadata": {
        "id": "-2s_V7UNGHvL"
      },
      "execution_count": null,
      "outputs": []
    },
    {
      "cell_type": "code",
      "source": [
        "y_train=train_labels.astype(np.float32)\n",
        "y_test=test_labels.astype(np.float32)"
      ],
      "metadata": {
        "id": "u5I_X7vCGTHz"
      },
      "execution_count": null,
      "outputs": []
    },
    {
      "cell_type": "code",
      "source": [
        "from tensorflow.python.keras.layers import Dense\n",
        "from tensorflow.python.keras.models import Sequential\n",
        "\n",
        "model = Sequential()\n",
        "model.add(Dense(64, activation='relu',input_shape=(10000,)))\n",
        "#mnist예제와는 다른 점 => softmax, housing예제와 다른점 => activation이 없음\n",
        "#다음은 결과값이 한개 이기 때문에 mnist는 10개인데 결과가 10개가 나올수 있어서\n",
        "#둘중에 하나를 하고 싶다면 activation은 sigmoid 넣기\n",
        "model.add(Dense(1, activation='sigmoid'))"
      ],
      "metadata": {
        "id": "eInuQx1jG6BS"
      },
      "execution_count": null,
      "outputs": []
    },
    {
      "cell_type": "code",
      "source": [
        "model.compile(optimizer='adam',loss='binary_crossentropy', metrics=['accuracy'])"
      ],
      "metadata": {
        "id": "4TuwkeZ5HXbi"
      },
      "execution_count": null,
      "outputs": []
    },
    {
      "cell_type": "code",
      "source": [
        "model.summary()"
      ],
      "metadata": {
        "id": "6Gk9qPJrtz3t",
        "outputId": "eb4f05e1-9806-420d-d90a-7adbe88371e4",
        "colab": {
          "base_uri": "https://localhost:8080/"
        }
      },
      "execution_count": null,
      "outputs": [
        {
          "output_type": "stream",
          "name": "stdout",
          "text": [
            "Model: \"sequential_2\"\n",
            "_________________________________________________________________\n",
            "Layer (type)                 Output Shape              Param #   \n",
            "=================================================================\n",
            "dense_4 (Dense)              (None, 64)                640064    \n",
            "_________________________________________________________________\n",
            "dense_5 (Dense)              (None, 1)                 65        \n",
            "=================================================================\n",
            "Total params: 640,129\n",
            "Trainable params: 640,129\n",
            "Non-trainable params: 0\n",
            "_________________________________________________________________\n"
          ]
        }
      ]
    },
    {
      "cell_type": "code",
      "source": [
        "model.fit(x_train, y_train, batch_size=512, epochs=4)"
      ],
      "metadata": {
        "colab": {
          "base_uri": "https://localhost:8080/"
        },
        "id": "BKmFWTlQ0F08",
        "outputId": "1fe6d986-acc4-4534-aab8-3be14ab43547"
      },
      "execution_count": null,
      "outputs": [
        {
          "output_type": "stream",
          "name": "stdout",
          "text": [
            "Epoch 1/4\n",
            "49/49 [==============================] - 3s 39ms/step - loss: 0.4075 - accuracy: 0.8336\n",
            "Epoch 2/4\n",
            "49/49 [==============================] - 2s 38ms/step - loss: 0.2178 - accuracy: 0.9220\n",
            "Epoch 3/4\n",
            "49/49 [==============================] - 2s 37ms/step - loss: 0.1665 - accuracy: 0.9417\n",
            "Epoch 4/4\n",
            "49/49 [==============================] - 2s 37ms/step - loss: 0.1361 - accuracy: 0.9546\n"
          ]
        },
        {
          "output_type": "execute_result",
          "data": {
            "text/plain": [
              "<tensorflow.python.keras.callbacks.History at 0x7fceacc4f0d0>"
            ]
          },
          "metadata": {},
          "execution_count": 27
        }
      ]
    },
    {
      "cell_type": "code",
      "source": [
        "model.fit(x_train, y_train, batch_size=512, epochs=4)test_loss,test_mae=model.evaluate(x_test,y_test)"
      ],
      "metadata": {
        "id": "dPQ4S9A91AWF"
      },
      "execution_count": null,
      "outputs": []
    },
    {
      "cell_type": "code",
      "source": [
        "print(f'loss={test_loss}, acc={test_y*100:.2f}%')"
      ],
      "metadata": {
        "id": "v9Zkpaix1q9u"
      },
      "execution_count": null,
      "outputs": []
    },
    {
      "cell_type": "code",
      "source": [
        ""
      ],
      "metadata": {
        "id": "ZL9fwFto17c9"
      },
      "execution_count": null,
      "outputs": []
    },
    {
      "cell_type": "code",
      "source": [
        "import random\n",
        "r=random.randrange(len(x_test))\n",
        "r_data=x_test[r:r+1]\n",
        "r_labels=y_test[r:r+1]\n",
        "r_predict=model.predict(r_data)\n",
        "print('P',np.round(r_predict),r_predict)\n",
        "print('L',r_labels)"
      ],
      "metadata": {
        "id": "PuGXo2xe2oVS"
      },
      "execution_count": null,
      "outputs": []
    },
    {
      "cell_type": "code",
      "source": [
        ""
      ],
      "metadata": {
        "id": "0Fbebpwk9oDB"
      },
      "execution_count": null,
      "outputs": []
    }
  ]
}